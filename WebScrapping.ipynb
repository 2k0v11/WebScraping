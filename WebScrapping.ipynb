{
  "nbformat": 4,
  "nbformat_minor": 0,
  "metadata": {
    "colab": {
      "provenance": [],
      "authorship_tag": "ABX9TyPA89NYNk1IEAkZDy9Cizmx",
      "include_colab_link": true
    },
    "kernelspec": {
      "name": "python3",
      "display_name": "Python 3"
    },
    "language_info": {
      "name": "python"
    }
  },
  "cells": [
    {
      "cell_type": "markdown",
      "metadata": {
        "id": "view-in-github",
        "colab_type": "text"
      },
      "source": [
        "<a href=\"https://colab.research.google.com/github/2k0v11/WebScrapping/blob/main/WebScrapping.ipynb\" target=\"_parent\"><img src=\"https://colab.research.google.com/assets/colab-badge.svg\" alt=\"Open In Colab\"/></a>"
      ]
    },
    {
      "cell_type": "code",
      "execution_count": 122,
      "metadata": {
        "id": "GQLb6pqIMVSd"
      },
      "outputs": [],
      "source": [
        "import requests\n",
        "from bs4 import BeautifulSoup as bs\n",
        "#bs4 is a package and BeautifulSoup is a Library\n"
      ]
    },
    {
      "cell_type": "code",
      "source": [
        "url='https://www.amazon.in/Samsung-Galaxy-Ultra-Phantom-Storage/product-reviews/B0BT9FDZ8N/ref=cm_cr_dp_d_show_all_btm?ie=UTF8&reviewerType=all_reviews'\n",
        "page=requests.get(url) #the requests library is requesting for the url to be fethed\n",
        "page #response[200]-all okay,response[503]-check for proper url "
      ],
      "metadata": {
        "colab": {
          "base_uri": "https://localhost:8080/"
        },
        "id": "acnvQsXZOVSm",
        "outputId": "56e64f13-d85a-4f3f-d40d-2b8309de02a2"
      },
      "execution_count": 125,
      "outputs": [
        {
          "output_type": "execute_result",
          "data": {
            "text/plain": [
              "<Response [200]>"
            ]
          },
          "metadata": {},
          "execution_count": 125
        }
      ]
    },
    {
      "cell_type": "code",
      "source": [
        "page.content"
      ],
      "metadata": {
        "id": "oeepypHSO8ZQ"
      },
      "execution_count": null,
      "outputs": []
    },
    {
      "cell_type": "code",
      "source": [
        "soup= bs(page.content,'html.parser')\n",
        "soup #soup variable has the full source code of the webpage\n",
        "#html.parser - displays our code in a better readable format\n"
      ],
      "metadata": {
        "id": "heTuh0AfPEaF"
      },
      "execution_count": null,
      "outputs": []
    },
    {
      "cell_type": "code",
      "source": [
        "names=soup.find_all('span',class_ ='a-profile-name')[2:]\n",
        "names \n",
        "#we have removed the top-positive and top-critical review"
      ],
      "metadata": {
        "colab": {
          "base_uri": "https://localhost:8080/"
        },
        "id": "pnq_C8bgQD7f",
        "outputId": "cfc851db-7c60-45b2-b7e6-cd8f35f1924b"
      },
      "execution_count": 128,
      "outputs": [
        {
          "output_type": "execute_result",
          "data": {
            "text/plain": [
              "[<span class=\"a-profile-name\">Ashish</span>,\n",
              " <span class=\"a-profile-name\">Opensorcerer</span>,\n",
              " <span class=\"a-profile-name\">Opensorcerer</span>,\n",
              " <span class=\"a-profile-name\">Akshay Deshpande</span>,\n",
              " <span class=\"a-profile-name\">Singh</span>,\n",
              " <span class=\"a-profile-name\">Singh</span>,\n",
              " <span class=\"a-profile-name\"> Dr.Thomas Kuruvilla Ph.D</span>,\n",
              " <span class=\"a-profile-name\">தங்களின் சேவை மிகவும் விரைவாக இருந்தது. மேலும் எனது  பழைய mobile தாங்கள் அளித்த சலுகை மிகவும் சிறப்பு. இந்த mobile மிகச்சிறப்பு</span>,\n",
              " <span class=\"a-profile-name\">SilverStar</span>,\n",
              " <span class=\"a-profile-name\">SilverStar</span>,\n",
              " <span class=\"a-profile-name\">P Raj</span>,\n",
              " <span class=\"a-profile-name\">Placeholder</span>,\n",
              " <span class=\"a-profile-name\">RAVICHANDRAN</span>]"
            ]
          },
          "metadata": {},
          "execution_count": 128
        }
      ]
    },
    {
      "cell_type": "code",
      "source": [
        "import pandas as pd\n",
        "df=pd.DataFrame(names,columns= ['Customer name'])\n",
        "df"
      ],
      "metadata": {
        "colab": {
          "base_uri": "https://localhost:8080/",
          "height": 457
        },
        "id": "BJFAfzaGRWrS",
        "outputId": "6d1dcbfe-94d2-4aa4-eb04-702f699d5ad8"
      },
      "execution_count": 129,
      "outputs": [
        {
          "output_type": "execute_result",
          "data": {
            "text/plain": [
              "                                        Customer name\n",
              "0                                              Ashish\n",
              "1                                        Opensorcerer\n",
              "2                                        Opensorcerer\n",
              "3                                    Akshay Deshpande\n",
              "4                                               Singh\n",
              "5                                               Singh\n",
              "6                            Dr.Thomas Kuruvilla Ph.D\n",
              "7   தங்களின் சேவை மிகவும் விரைவாக இருந்தது. மேலும்...\n",
              "8                                          SilverStar\n",
              "9                                          SilverStar\n",
              "10                                              P Raj\n",
              "11                                        Placeholder\n",
              "12                                       RAVICHANDRAN"
            ],
            "text/html": [
              "\n",
              "  <div id=\"df-52a933c2-df1b-4d0a-a688-43a8a0926454\">\n",
              "    <div class=\"colab-df-container\">\n",
              "      <div>\n",
              "<style scoped>\n",
              "    .dataframe tbody tr th:only-of-type {\n",
              "        vertical-align: middle;\n",
              "    }\n",
              "\n",
              "    .dataframe tbody tr th {\n",
              "        vertical-align: top;\n",
              "    }\n",
              "\n",
              "    .dataframe thead th {\n",
              "        text-align: right;\n",
              "    }\n",
              "</style>\n",
              "<table border=\"1\" class=\"dataframe\">\n",
              "  <thead>\n",
              "    <tr style=\"text-align: right;\">\n",
              "      <th></th>\n",
              "      <th>Customer name</th>\n",
              "    </tr>\n",
              "  </thead>\n",
              "  <tbody>\n",
              "    <tr>\n",
              "      <th>0</th>\n",
              "      <td>Ashish</td>\n",
              "    </tr>\n",
              "    <tr>\n",
              "      <th>1</th>\n",
              "      <td>Opensorcerer</td>\n",
              "    </tr>\n",
              "    <tr>\n",
              "      <th>2</th>\n",
              "      <td>Opensorcerer</td>\n",
              "    </tr>\n",
              "    <tr>\n",
              "      <th>3</th>\n",
              "      <td>Akshay Deshpande</td>\n",
              "    </tr>\n",
              "    <tr>\n",
              "      <th>4</th>\n",
              "      <td>Singh</td>\n",
              "    </tr>\n",
              "    <tr>\n",
              "      <th>5</th>\n",
              "      <td>Singh</td>\n",
              "    </tr>\n",
              "    <tr>\n",
              "      <th>6</th>\n",
              "      <td>Dr.Thomas Kuruvilla Ph.D</td>\n",
              "    </tr>\n",
              "    <tr>\n",
              "      <th>7</th>\n",
              "      <td>தங்களின் சேவை மிகவும் விரைவாக இருந்தது. மேலும்...</td>\n",
              "    </tr>\n",
              "    <tr>\n",
              "      <th>8</th>\n",
              "      <td>SilverStar</td>\n",
              "    </tr>\n",
              "    <tr>\n",
              "      <th>9</th>\n",
              "      <td>SilverStar</td>\n",
              "    </tr>\n",
              "    <tr>\n",
              "      <th>10</th>\n",
              "      <td>P Raj</td>\n",
              "    </tr>\n",
              "    <tr>\n",
              "      <th>11</th>\n",
              "      <td>Placeholder</td>\n",
              "    </tr>\n",
              "    <tr>\n",
              "      <th>12</th>\n",
              "      <td>RAVICHANDRAN</td>\n",
              "    </tr>\n",
              "  </tbody>\n",
              "</table>\n",
              "</div>\n",
              "      <button class=\"colab-df-convert\" onclick=\"convertToInteractive('df-52a933c2-df1b-4d0a-a688-43a8a0926454')\"\n",
              "              title=\"Convert this dataframe to an interactive table.\"\n",
              "              style=\"display:none;\">\n",
              "        \n",
              "  <svg xmlns=\"http://www.w3.org/2000/svg\" height=\"24px\"viewBox=\"0 0 24 24\"\n",
              "       width=\"24px\">\n",
              "    <path d=\"M0 0h24v24H0V0z\" fill=\"none\"/>\n",
              "    <path d=\"M18.56 5.44l.94 2.06.94-2.06 2.06-.94-2.06-.94-.94-2.06-.94 2.06-2.06.94zm-11 1L8.5 8.5l.94-2.06 2.06-.94-2.06-.94L8.5 2.5l-.94 2.06-2.06.94zm10 10l.94 2.06.94-2.06 2.06-.94-2.06-.94-.94-2.06-.94 2.06-2.06.94z\"/><path d=\"M17.41 7.96l-1.37-1.37c-.4-.4-.92-.59-1.43-.59-.52 0-1.04.2-1.43.59L10.3 9.45l-7.72 7.72c-.78.78-.78 2.05 0 2.83L4 21.41c.39.39.9.59 1.41.59.51 0 1.02-.2 1.41-.59l7.78-7.78 2.81-2.81c.8-.78.8-2.07 0-2.86zM5.41 20L4 18.59l7.72-7.72 1.47 1.35L5.41 20z\"/>\n",
              "  </svg>\n",
              "      </button>\n",
              "      \n",
              "  <style>\n",
              "    .colab-df-container {\n",
              "      display:flex;\n",
              "      flex-wrap:wrap;\n",
              "      gap: 12px;\n",
              "    }\n",
              "\n",
              "    .colab-df-convert {\n",
              "      background-color: #E8F0FE;\n",
              "      border: none;\n",
              "      border-radius: 50%;\n",
              "      cursor: pointer;\n",
              "      display: none;\n",
              "      fill: #1967D2;\n",
              "      height: 32px;\n",
              "      padding: 0 0 0 0;\n",
              "      width: 32px;\n",
              "    }\n",
              "\n",
              "    .colab-df-convert:hover {\n",
              "      background-color: #E2EBFA;\n",
              "      box-shadow: 0px 1px 2px rgba(60, 64, 67, 0.3), 0px 1px 3px 1px rgba(60, 64, 67, 0.15);\n",
              "      fill: #174EA6;\n",
              "    }\n",
              "\n",
              "    [theme=dark] .colab-df-convert {\n",
              "      background-color: #3B4455;\n",
              "      fill: #D2E3FC;\n",
              "    }\n",
              "\n",
              "    [theme=dark] .colab-df-convert:hover {\n",
              "      background-color: #434B5C;\n",
              "      box-shadow: 0px 1px 3px 1px rgba(0, 0, 0, 0.15);\n",
              "      filter: drop-shadow(0px 1px 2px rgba(0, 0, 0, 0.3));\n",
              "      fill: #FFFFFF;\n",
              "    }\n",
              "  </style>\n",
              "\n",
              "      <script>\n",
              "        const buttonEl =\n",
              "          document.querySelector('#df-52a933c2-df1b-4d0a-a688-43a8a0926454 button.colab-df-convert');\n",
              "        buttonEl.style.display =\n",
              "          google.colab.kernel.accessAllowed ? 'block' : 'none';\n",
              "\n",
              "        async function convertToInteractive(key) {\n",
              "          const element = document.querySelector('#df-52a933c2-df1b-4d0a-a688-43a8a0926454');\n",
              "          const dataTable =\n",
              "            await google.colab.kernel.invokeFunction('convertToInteractive',\n",
              "                                                     [key], {});\n",
              "          if (!dataTable) return;\n",
              "\n",
              "          const docLinkHtml = 'Like what you see? Visit the ' +\n",
              "            '<a target=\"_blank\" href=https://colab.research.google.com/notebooks/data_table.ipynb>data table notebook</a>'\n",
              "            + ' to learn more about interactive tables.';\n",
              "          element.innerHTML = '';\n",
              "          dataTable['output_type'] = 'display_data';\n",
              "          await google.colab.output.renderOutput(dataTable, element);\n",
              "          const docLink = document.createElement('div');\n",
              "          docLink.innerHTML = docLinkHtml;\n",
              "          element.appendChild(docLink);\n",
              "        }\n",
              "      </script>\n",
              "    </div>\n",
              "  </div>\n",
              "  "
            ]
          },
          "metadata": {},
          "execution_count": 129
        }
      ]
    },
    {
      "cell_type": "code",
      "source": [
        "df=df.drop_duplicates(ignore_index=True)\n",
        "df"
      ],
      "metadata": {
        "id": "fKGnqe6vTg6U",
        "colab": {
          "base_uri": "https://localhost:8080/",
          "height": 363
        },
        "outputId": "58ccec85-eb1b-4896-a27e-53306f88e587"
      },
      "execution_count": 131,
      "outputs": [
        {
          "output_type": "execute_result",
          "data": {
            "text/plain": [
              "                                       Customer name\n",
              "0                                             Ashish\n",
              "1                                       Opensorcerer\n",
              "2                                   Akshay Deshpande\n",
              "3                                              Singh\n",
              "4                           Dr.Thomas Kuruvilla Ph.D\n",
              "5  தங்களின் சேவை மிகவும் விரைவாக இருந்தது. மேலும்...\n",
              "6                                         SilverStar\n",
              "7                                              P Raj\n",
              "8                                        Placeholder\n",
              "9                                       RAVICHANDRAN"
            ],
            "text/html": [
              "\n",
              "  <div id=\"df-9e383b64-8674-4ef0-aff5-b28561feeb84\">\n",
              "    <div class=\"colab-df-container\">\n",
              "      <div>\n",
              "<style scoped>\n",
              "    .dataframe tbody tr th:only-of-type {\n",
              "        vertical-align: middle;\n",
              "    }\n",
              "\n",
              "    .dataframe tbody tr th {\n",
              "        vertical-align: top;\n",
              "    }\n",
              "\n",
              "    .dataframe thead th {\n",
              "        text-align: right;\n",
              "    }\n",
              "</style>\n",
              "<table border=\"1\" class=\"dataframe\">\n",
              "  <thead>\n",
              "    <tr style=\"text-align: right;\">\n",
              "      <th></th>\n",
              "      <th>Customer name</th>\n",
              "    </tr>\n",
              "  </thead>\n",
              "  <tbody>\n",
              "    <tr>\n",
              "      <th>0</th>\n",
              "      <td>Ashish</td>\n",
              "    </tr>\n",
              "    <tr>\n",
              "      <th>1</th>\n",
              "      <td>Opensorcerer</td>\n",
              "    </tr>\n",
              "    <tr>\n",
              "      <th>2</th>\n",
              "      <td>Akshay Deshpande</td>\n",
              "    </tr>\n",
              "    <tr>\n",
              "      <th>3</th>\n",
              "      <td>Singh</td>\n",
              "    </tr>\n",
              "    <tr>\n",
              "      <th>4</th>\n",
              "      <td>Dr.Thomas Kuruvilla Ph.D</td>\n",
              "    </tr>\n",
              "    <tr>\n",
              "      <th>5</th>\n",
              "      <td>தங்களின் சேவை மிகவும் விரைவாக இருந்தது. மேலும்...</td>\n",
              "    </tr>\n",
              "    <tr>\n",
              "      <th>6</th>\n",
              "      <td>SilverStar</td>\n",
              "    </tr>\n",
              "    <tr>\n",
              "      <th>7</th>\n",
              "      <td>P Raj</td>\n",
              "    </tr>\n",
              "    <tr>\n",
              "      <th>8</th>\n",
              "      <td>Placeholder</td>\n",
              "    </tr>\n",
              "    <tr>\n",
              "      <th>9</th>\n",
              "      <td>RAVICHANDRAN</td>\n",
              "    </tr>\n",
              "  </tbody>\n",
              "</table>\n",
              "</div>\n",
              "      <button class=\"colab-df-convert\" onclick=\"convertToInteractive('df-9e383b64-8674-4ef0-aff5-b28561feeb84')\"\n",
              "              title=\"Convert this dataframe to an interactive table.\"\n",
              "              style=\"display:none;\">\n",
              "        \n",
              "  <svg xmlns=\"http://www.w3.org/2000/svg\" height=\"24px\"viewBox=\"0 0 24 24\"\n",
              "       width=\"24px\">\n",
              "    <path d=\"M0 0h24v24H0V0z\" fill=\"none\"/>\n",
              "    <path d=\"M18.56 5.44l.94 2.06.94-2.06 2.06-.94-2.06-.94-.94-2.06-.94 2.06-2.06.94zm-11 1L8.5 8.5l.94-2.06 2.06-.94-2.06-.94L8.5 2.5l-.94 2.06-2.06.94zm10 10l.94 2.06.94-2.06 2.06-.94-2.06-.94-.94-2.06-.94 2.06-2.06.94z\"/><path d=\"M17.41 7.96l-1.37-1.37c-.4-.4-.92-.59-1.43-.59-.52 0-1.04.2-1.43.59L10.3 9.45l-7.72 7.72c-.78.78-.78 2.05 0 2.83L4 21.41c.39.39.9.59 1.41.59.51 0 1.02-.2 1.41-.59l7.78-7.78 2.81-2.81c.8-.78.8-2.07 0-2.86zM5.41 20L4 18.59l7.72-7.72 1.47 1.35L5.41 20z\"/>\n",
              "  </svg>\n",
              "      </button>\n",
              "      \n",
              "  <style>\n",
              "    .colab-df-container {\n",
              "      display:flex;\n",
              "      flex-wrap:wrap;\n",
              "      gap: 12px;\n",
              "    }\n",
              "\n",
              "    .colab-df-convert {\n",
              "      background-color: #E8F0FE;\n",
              "      border: none;\n",
              "      border-radius: 50%;\n",
              "      cursor: pointer;\n",
              "      display: none;\n",
              "      fill: #1967D2;\n",
              "      height: 32px;\n",
              "      padding: 0 0 0 0;\n",
              "      width: 32px;\n",
              "    }\n",
              "\n",
              "    .colab-df-convert:hover {\n",
              "      background-color: #E2EBFA;\n",
              "      box-shadow: 0px 1px 2px rgba(60, 64, 67, 0.3), 0px 1px 3px 1px rgba(60, 64, 67, 0.15);\n",
              "      fill: #174EA6;\n",
              "    }\n",
              "\n",
              "    [theme=dark] .colab-df-convert {\n",
              "      background-color: #3B4455;\n",
              "      fill: #D2E3FC;\n",
              "    }\n",
              "\n",
              "    [theme=dark] .colab-df-convert:hover {\n",
              "      background-color: #434B5C;\n",
              "      box-shadow: 0px 1px 3px 1px rgba(0, 0, 0, 0.15);\n",
              "      filter: drop-shadow(0px 1px 2px rgba(0, 0, 0, 0.3));\n",
              "      fill: #FFFFFF;\n",
              "    }\n",
              "  </style>\n",
              "\n",
              "      <script>\n",
              "        const buttonEl =\n",
              "          document.querySelector('#df-9e383b64-8674-4ef0-aff5-b28561feeb84 button.colab-df-convert');\n",
              "        buttonEl.style.display =\n",
              "          google.colab.kernel.accessAllowed ? 'block' : 'none';\n",
              "\n",
              "        async function convertToInteractive(key) {\n",
              "          const element = document.querySelector('#df-9e383b64-8674-4ef0-aff5-b28561feeb84');\n",
              "          const dataTable =\n",
              "            await google.colab.kernel.invokeFunction('convertToInteractive',\n",
              "                                                     [key], {});\n",
              "          if (!dataTable) return;\n",
              "\n",
              "          const docLinkHtml = 'Like what you see? Visit the ' +\n",
              "            '<a target=\"_blank\" href=https://colab.research.google.com/notebooks/data_table.ipynb>data table notebook</a>'\n",
              "            + ' to learn more about interactive tables.';\n",
              "          element.innerHTML = '';\n",
              "          dataTable['output_type'] = 'display_data';\n",
              "          await google.colab.output.renderOutput(dataTable, element);\n",
              "          const docLink = document.createElement('div');\n",
              "          docLink.innerHTML = docLinkHtml;\n",
              "          element.appendChild(docLink);\n",
              "        }\n",
              "      </script>\n",
              "    </div>\n",
              "  </div>\n",
              "  "
            ]
          },
          "metadata": {},
          "execution_count": 131
        }
      ]
    },
    {
      "cell_type": "code",
      "source": [
        "r_title=soup.find_all('a',class_='review-title')\n",
        "r_title"
      ],
      "metadata": {
        "colab": {
          "base_uri": "https://localhost:8080/"
        },
        "id": "80IHOgjaT96F",
        "outputId": "72dfa4a4-497c-4529-80d7-fcb341435410"
      },
      "execution_count": 132,
      "outputs": [
        {
          "output_type": "execute_result",
          "data": {
            "text/plain": [
              "[<a class=\"a-size-base a-link-normal review-title a-color-base review-title-content a-text-bold\" data-hook=\"review-title\" href=\"/gp/customer-reviews/R35LA0S1BHCO6G?ASIN=B0BT9FDZ8N\">\n",
              " <span>Well rounded decent phone from Samsung</span>\n",
              " </a>,\n",
              " <a class=\"a-size-base a-link-normal review-title a-color-base review-title-content a-text-bold\" data-hook=\"review-title\" href=\"/gp/customer-reviews/R2VD3B8QBCM4AC?ASIN=B0BT9FDZ8N\">\n",
              " <span>True flagship performance and excellent overall with a (hopefully) temporary glitch.</span>\n",
              " </a>,\n",
              " <a class=\"a-size-base a-link-normal review-title a-color-base review-title-content a-text-bold\" data-hook=\"review-title\" href=\"/gp/customer-reviews/R17OQF0CDJ1L3E?ASIN=B0BT9FDZ8N\">\n",
              " <span>Battery capacity bit low, bit overpriced to competition</span>\n",
              " </a>,\n",
              " <a class=\"a-size-base a-link-normal review-title a-color-base review-title-content a-text-bold\" data-hook=\"review-title\" href=\"/gp/customer-reviews/R216PZ7ASJ9RZO?ASIN=B0BT9FDZ8N\">\n",
              " <span>The perfect beast</span>\n",
              " </a>,\n",
              " <a class=\"a-size-base a-link-normal review-title a-color-base review-title-content a-text-bold\" data-hook=\"review-title\" href=\"/gp/customer-reviews/R3J0VM9JLHFD3X?ASIN=B0BT9FDZ8N\">\n",
              " <span>Galaxy S23 5G</span>\n",
              " </a>,\n",
              " <a class=\"a-size-base a-link-normal review-title a-color-base review-title-content a-text-bold\" data-hook=\"review-title\" href=\"/gp/customer-reviews/R21V0EJ2BZOB65?ASIN=B0BT9FDZ8N\">\n",
              " <span>S 23 ultra</span>\n",
              " </a>,\n",
              " <a class=\"a-size-base a-link-normal review-title a-color-base review-title-content a-text-bold\" data-hook=\"review-title\" href=\"/gp/customer-reviews/RCFA23PZDI77E?ASIN=B0BT9FDZ8N\">\n",
              " <span>I like it.. but not love it.</span>\n",
              " </a>,\n",
              " <a class=\"a-size-base a-link-normal review-title a-color-base review-title-content a-text-bold\" data-hook=\"review-title\" href=\"/gp/customer-reviews/R3OQDSI3YK94NZ?ASIN=B0BT9FDZ8N\">\n",
              " <span>Buttery creamy performance-best compact phone</span>\n",
              " </a>,\n",
              " <a class=\"a-size-base a-link-normal review-title a-color-base review-title-content a-text-bold\" data-hook=\"review-title\" href=\"/gp/customer-reviews/R2QYKC6FVO3QLM?ASIN=B0BT9FDZ8N\">\n",
              " <span>Best android iPhone 😉</span>\n",
              " </a>,\n",
              " <a class=\"a-size-base a-link-normal review-title a-color-base review-title-content a-text-bold\" data-hook=\"review-title\" href=\"/gp/customer-reviews/R3J56Z86IQ5EPT?ASIN=B0BT9FDZ8N\">\n",
              " <span>Value for money</span>\n",
              " </a>]"
            ]
          },
          "metadata": {},
          "execution_count": 132
        }
      ]
    },
    {
      "cell_type": "code",
      "source": [
        "len(r_title)"
      ],
      "metadata": {
        "colab": {
          "base_uri": "https://localhost:8080/"
        },
        "id": "MTqaXb7_aoXr",
        "outputId": "0f3a4bf6-8244-474e-b4cc-d47a6319f767"
      },
      "execution_count": 133,
      "outputs": [
        {
          "output_type": "execute_result",
          "data": {
            "text/plain": [
              "10"
            ]
          },
          "metadata": {},
          "execution_count": 133
        }
      ]
    },
    {
      "cell_type": "code",
      "source": [
        "review_title=[]\n",
        "for i in range(0,len(r_title)):\n",
        " review_title.append(r_title[i].get_text()[1:-1]) #[1:-1] is done to remove the '\\n' at the begining and end of each review in html text\n",
        "review_title"
      ],
      "metadata": {
        "colab": {
          "base_uri": "https://localhost:8080/"
        },
        "id": "tb6mg-zCa-4L",
        "outputId": "0e1e685c-9721-4e99-ab5e-60a16510629e"
      },
      "execution_count": 134,
      "outputs": [
        {
          "output_type": "execute_result",
          "data": {
            "text/plain": [
              "['Well rounded decent phone from Samsung',\n",
              " 'True flagship performance and excellent overall with a (hopefully) temporary glitch.',\n",
              " 'Battery capacity bit low, bit overpriced to competition',\n",
              " 'The perfect beast',\n",
              " 'Galaxy S23 5G',\n",
              " 'S 23 ultra',\n",
              " 'I like it.. but not love it.',\n",
              " 'Buttery creamy performance-best compact phone',\n",
              " 'Best android iPhone 😉',\n",
              " 'Value for money']"
            ]
          },
          "metadata": {},
          "execution_count": 134
        }
      ]
    },
    {
      "cell_type": "code",
      "source": [
        "date=soup.find_all('span',class_='review-date')[2:]\n",
        "date"
      ],
      "metadata": {
        "colab": {
          "base_uri": "https://localhost:8080/"
        },
        "id": "oaw55gvRcgkX",
        "outputId": "7a3de23e-58b1-4d4f-fecb-a3b1d219ea97"
      },
      "execution_count": 135,
      "outputs": [
        {
          "output_type": "execute_result",
          "data": {
            "text/plain": [
              "[<span class=\"a-size-base a-color-secondary review-date\" data-hook=\"review-date\">Reviewed in India 🇮🇳 on 5 April 2023</span>,\n",
              " <span class=\"a-size-base a-color-secondary review-date\" data-hook=\"review-date\">Reviewed in India 🇮🇳 on 8 March 2023</span>,\n",
              " <span class=\"a-size-base a-color-secondary review-date\" data-hook=\"review-date\">Reviewed in India 🇮🇳 on 13 April 2023</span>,\n",
              " <span class=\"a-size-base a-color-secondary review-date\" data-hook=\"review-date\">Reviewed in India 🇮🇳 on 28 February 2023</span>,\n",
              " <span class=\"a-size-base a-color-secondary review-date\" data-hook=\"review-date\">Reviewed in India 🇮🇳 on 13 April 2023</span>,\n",
              " <span class=\"a-size-base a-color-secondary review-date\" data-hook=\"review-date\">Reviewed in India 🇮🇳 on 11 April 2023</span>,\n",
              " <span class=\"a-size-base a-color-secondary review-date\" data-hook=\"review-date\">Reviewed in India 🇮🇳 on 13 March 2023</span>,\n",
              " <span class=\"a-size-base a-color-secondary review-date\" data-hook=\"review-date\">Reviewed in India 🇮🇳 on 3 April 2023</span>,\n",
              " <span class=\"a-size-base a-color-secondary review-date\" data-hook=\"review-date\">Reviewed in India 🇮🇳 on 13 April 2023</span>,\n",
              " <span class=\"a-size-base a-color-secondary review-date\" data-hook=\"review-date\">Reviewed in India 🇮🇳 on 1 April 2023</span>]"
            ]
          },
          "metadata": {},
          "execution_count": 135
        }
      ]
    },
    {
      "cell_type": "code",
      "source": [
        "review_date=[]\n",
        "for i in range(0,len(date)):\n",
        "  review_date.append(date[i].get_text().replace(\"Reviewed in India 🇮🇳 on \",''))\n",
        "review_date"
      ],
      "metadata": {
        "colab": {
          "base_uri": "https://localhost:8080/"
        },
        "id": "AgmoEAM3csTV",
        "outputId": "663a6cee-5f06-4611-b6c4-9e9d6fd04704"
      },
      "execution_count": 136,
      "outputs": [
        {
          "output_type": "execute_result",
          "data": {
            "text/plain": [
              "['5 April 2023',\n",
              " '8 March 2023',\n",
              " '13 April 2023',\n",
              " '28 February 2023',\n",
              " '13 April 2023',\n",
              " '11 April 2023',\n",
              " '13 March 2023',\n",
              " '3 April 2023',\n",
              " '13 April 2023',\n",
              " '1 April 2023']"
            ]
          },
          "metadata": {},
          "execution_count": 136
        }
      ]
    },
    {
      "cell_type": "code",
      "source": [
        "r_rating=soup.find_all('i',class_='review-rating')[2:]\n",
        "r_rating"
      ],
      "metadata": {
        "id": "8TkgYnhqdIzN",
        "colab": {
          "base_uri": "https://localhost:8080/"
        },
        "outputId": "46049060-bb36-40c6-db7c-f148d45d0044"
      },
      "execution_count": 137,
      "outputs": [
        {
          "output_type": "execute_result",
          "data": {
            "text/plain": [
              "[<i class=\"a-icon a-icon-star a-star-4 review-rating\" data-hook=\"review-star-rating\"><span class=\"a-icon-alt\">4.0 out of 5 stars</span></i>,\n",
              " <i class=\"a-icon a-icon-star a-star-4 review-rating\" data-hook=\"review-star-rating\"><span class=\"a-icon-alt\">4.0 out of 5 stars</span></i>,\n",
              " <i class=\"a-icon a-icon-star a-star-4 review-rating\" data-hook=\"review-star-rating\"><span class=\"a-icon-alt\">4.0 out of 5 stars</span></i>,\n",
              " <i class=\"a-icon a-icon-star a-star-5 review-rating\" data-hook=\"review-star-rating\"><span class=\"a-icon-alt\">5.0 out of 5 stars</span></i>,\n",
              " <i class=\"a-icon a-icon-star a-star-4 review-rating\" data-hook=\"review-star-rating\"><span class=\"a-icon-alt\">4.0 out of 5 stars</span></i>,\n",
              " <i class=\"a-icon a-icon-star a-star-4 review-rating\" data-hook=\"review-star-rating\"><span class=\"a-icon-alt\">4.0 out of 5 stars</span></i>,\n",
              " <i class=\"a-icon a-icon-star a-star-4 review-rating\" data-hook=\"review-star-rating\"><span class=\"a-icon-alt\">4.0 out of 5 stars</span></i>,\n",
              " <i class=\"a-icon a-icon-star a-star-5 review-rating\" data-hook=\"review-star-rating\"><span class=\"a-icon-alt\">5.0 out of 5 stars</span></i>,\n",
              " <i class=\"a-icon a-icon-star a-star-5 review-rating\" data-hook=\"review-star-rating\"><span class=\"a-icon-alt\">5.0 out of 5 stars</span></i>,\n",
              " <i class=\"a-icon a-icon-star a-star-4 review-rating\" data-hook=\"review-star-rating\"><span class=\"a-icon-alt\">4.0 out of 5 stars</span></i>]"
            ]
          },
          "metadata": {},
          "execution_count": 137
        }
      ]
    },
    {
      "cell_type": "code",
      "source": [
        "review_rating=[]\n",
        "for i in range(0,len(r_rating)):\n",
        "  review_rating.append(r_rating[i].get_text())\n",
        "review_rating"
      ],
      "metadata": {
        "colab": {
          "base_uri": "https://localhost:8080/"
        },
        "id": "3m7PpzbsgF7H",
        "outputId": "0234b241-af45-44c5-a32f-46cc1b8b8e1c"
      },
      "execution_count": 138,
      "outputs": [
        {
          "output_type": "execute_result",
          "data": {
            "text/plain": [
              "['4.0 out of 5 stars',\n",
              " '4.0 out of 5 stars',\n",
              " '4.0 out of 5 stars',\n",
              " '5.0 out of 5 stars',\n",
              " '4.0 out of 5 stars',\n",
              " '4.0 out of 5 stars',\n",
              " '4.0 out of 5 stars',\n",
              " '5.0 out of 5 stars',\n",
              " '5.0 out of 5 stars',\n",
              " '4.0 out of 5 stars']"
            ]
          },
          "metadata": {},
          "execution_count": 138
        }
      ]
    },
    {
      "cell_type": "code",
      "source": [
        "len(review_rating)"
      ],
      "metadata": {
        "colab": {
          "base_uri": "https://localhost:8080/"
        },
        "id": "L_1bGnNRmgob",
        "outputId": "9d8c9cfd-3bc8-4685-a266-cd4b105f2889"
      },
      "execution_count": 139,
      "outputs": [
        {
          "output_type": "execute_result",
          "data": {
            "text/plain": [
              "10"
            ]
          },
          "metadata": {},
          "execution_count": 139
        }
      ]
    },
    {
      "cell_type": "code",
      "source": [
        "r_content=soup.find_all('span',class_='review-text-content')\n",
        "r_content"
      ],
      "metadata": {
        "id": "NukkQo5Zgb5Y"
      },
      "execution_count": null,
      "outputs": []
    },
    {
      "cell_type": "code",
      "source": [
        "review_content=[]\n",
        "for i in range(0,len(r_content)):\n",
        "  review_content.append(r_content[i].get_text().replace('\\n',''))\n",
        "review_content"
      ],
      "metadata": {
        "id": "sd-vRbvLhCnv"
      },
      "execution_count": null,
      "outputs": []
    },
    {
      "cell_type": "code",
      "source": [
        "len(review_content)"
      ],
      "metadata": {
        "colab": {
          "base_uri": "https://localhost:8080/"
        },
        "id": "vRL8qbaambzv",
        "outputId": "e5399b9f-0df8-45b5-9bcf-9975b18ffc72"
      },
      "execution_count": 142,
      "outputs": [
        {
          "output_type": "execute_result",
          "data": {
            "text/plain": [
              "10"
            ]
          },
          "metadata": {},
          "execution_count": 142
        }
      ]
    },
    {
      "cell_type": "code",
      "source": [
        "df['Review Title']=review_title\n",
        "df['Review Date']= review_date\n",
        "df['Review Rating']=review_rating\n",
        "df['Review Content']=review_content"
      ],
      "metadata": {
        "id": "wzkXN-3EhQnr"
      },
      "execution_count": 143,
      "outputs": []
    },
    {
      "cell_type": "code",
      "source": [
        "df"
      ],
      "metadata": {
        "colab": {
          "base_uri": "https://localhost:8080/",
          "height": 597
        },
        "id": "RUEvpi6XnoHr",
        "outputId": "72bc67d2-a23a-4e37-840d-d9855aca3750"
      },
      "execution_count": 144,
      "outputs": [
        {
          "output_type": "execute_result",
          "data": {
            "text/plain": [
              "                                       Customer name  \\\n",
              "0                                             Ashish   \n",
              "1                                       Opensorcerer   \n",
              "2                                   Akshay Deshpande   \n",
              "3                                              Singh   \n",
              "4                           Dr.Thomas Kuruvilla Ph.D   \n",
              "5  தங்களின் சேவை மிகவும் விரைவாக இருந்தது. மேலும்...   \n",
              "6                                         SilverStar   \n",
              "7                                              P Raj   \n",
              "8                                        Placeholder   \n",
              "9                                       RAVICHANDRAN   \n",
              "\n",
              "                                        Review Title       Review Date  \\\n",
              "0             Well rounded decent phone from Samsung      5 April 2023   \n",
              "1  True flagship performance and excellent overal...      8 March 2023   \n",
              "2  Battery capacity bit low, bit overpriced to co...     13 April 2023   \n",
              "3                                  The perfect beast  28 February 2023   \n",
              "4                                      Galaxy S23 5G     13 April 2023   \n",
              "5                                         S 23 ultra     11 April 2023   \n",
              "6                       I like it.. but not love it.     13 March 2023   \n",
              "7      Buttery creamy performance-best compact phone      3 April 2023   \n",
              "8                              Best android iPhone 😉     13 April 2023   \n",
              "9                                    Value for money      1 April 2023   \n",
              "\n",
              "        Review Rating                                     Review Content  \n",
              "0  4.0 out of 5 stars  Writing this review after 1 month of using thi...  \n",
              "1  4.0 out of 5 stars                      The media could not be loa...  \n",
              "2  4.0 out of 5 stars  I felt screen size and battery could have been...  \n",
              "3  5.0 out of 5 stars  This phone is a pefect upgrade from my old One...  \n",
              "4  4.0 out of 5 stars  The phone is working fine. Very compact and st...  \n",
              "5  4.0 out of 5 stars                                      Overall super  \n",
              "6  4.0 out of 5 stars  I bought it a week ago.. i upgraded  from my o...  \n",
              "7  5.0 out of 5 stars  I bought the cream version and it looks very p...  \n",
              "8  5.0 out of 5 stars  I am using Samsung brand more than 10 years an...  \n",
              "9  4.0 out of 5 stars          Best picture qualityFast charging missing  "
            ],
            "text/html": [
              "\n",
              "  <div id=\"df-d781c305-1161-49a2-9498-67ec22253ff3\">\n",
              "    <div class=\"colab-df-container\">\n",
              "      <div>\n",
              "<style scoped>\n",
              "    .dataframe tbody tr th:only-of-type {\n",
              "        vertical-align: middle;\n",
              "    }\n",
              "\n",
              "    .dataframe tbody tr th {\n",
              "        vertical-align: top;\n",
              "    }\n",
              "\n",
              "    .dataframe thead th {\n",
              "        text-align: right;\n",
              "    }\n",
              "</style>\n",
              "<table border=\"1\" class=\"dataframe\">\n",
              "  <thead>\n",
              "    <tr style=\"text-align: right;\">\n",
              "      <th></th>\n",
              "      <th>Customer name</th>\n",
              "      <th>Review Title</th>\n",
              "      <th>Review Date</th>\n",
              "      <th>Review Rating</th>\n",
              "      <th>Review Content</th>\n",
              "    </tr>\n",
              "  </thead>\n",
              "  <tbody>\n",
              "    <tr>\n",
              "      <th>0</th>\n",
              "      <td>Ashish</td>\n",
              "      <td>Well rounded decent phone from Samsung</td>\n",
              "      <td>5 April 2023</td>\n",
              "      <td>4.0 out of 5 stars</td>\n",
              "      <td>Writing this review after 1 month of using thi...</td>\n",
              "    </tr>\n",
              "    <tr>\n",
              "      <th>1</th>\n",
              "      <td>Opensorcerer</td>\n",
              "      <td>True flagship performance and excellent overal...</td>\n",
              "      <td>8 March 2023</td>\n",
              "      <td>4.0 out of 5 stars</td>\n",
              "      <td>The media could not be loa...</td>\n",
              "    </tr>\n",
              "    <tr>\n",
              "      <th>2</th>\n",
              "      <td>Akshay Deshpande</td>\n",
              "      <td>Battery capacity bit low, bit overpriced to co...</td>\n",
              "      <td>13 April 2023</td>\n",
              "      <td>4.0 out of 5 stars</td>\n",
              "      <td>I felt screen size and battery could have been...</td>\n",
              "    </tr>\n",
              "    <tr>\n",
              "      <th>3</th>\n",
              "      <td>Singh</td>\n",
              "      <td>The perfect beast</td>\n",
              "      <td>28 February 2023</td>\n",
              "      <td>5.0 out of 5 stars</td>\n",
              "      <td>This phone is a pefect upgrade from my old One...</td>\n",
              "    </tr>\n",
              "    <tr>\n",
              "      <th>4</th>\n",
              "      <td>Dr.Thomas Kuruvilla Ph.D</td>\n",
              "      <td>Galaxy S23 5G</td>\n",
              "      <td>13 April 2023</td>\n",
              "      <td>4.0 out of 5 stars</td>\n",
              "      <td>The phone is working fine. Very compact and st...</td>\n",
              "    </tr>\n",
              "    <tr>\n",
              "      <th>5</th>\n",
              "      <td>தங்களின் சேவை மிகவும் விரைவாக இருந்தது. மேலும்...</td>\n",
              "      <td>S 23 ultra</td>\n",
              "      <td>11 April 2023</td>\n",
              "      <td>4.0 out of 5 stars</td>\n",
              "      <td>Overall super</td>\n",
              "    </tr>\n",
              "    <tr>\n",
              "      <th>6</th>\n",
              "      <td>SilverStar</td>\n",
              "      <td>I like it.. but not love it.</td>\n",
              "      <td>13 March 2023</td>\n",
              "      <td>4.0 out of 5 stars</td>\n",
              "      <td>I bought it a week ago.. i upgraded  from my o...</td>\n",
              "    </tr>\n",
              "    <tr>\n",
              "      <th>7</th>\n",
              "      <td>P Raj</td>\n",
              "      <td>Buttery creamy performance-best compact phone</td>\n",
              "      <td>3 April 2023</td>\n",
              "      <td>5.0 out of 5 stars</td>\n",
              "      <td>I bought the cream version and it looks very p...</td>\n",
              "    </tr>\n",
              "    <tr>\n",
              "      <th>8</th>\n",
              "      <td>Placeholder</td>\n",
              "      <td>Best android iPhone 😉</td>\n",
              "      <td>13 April 2023</td>\n",
              "      <td>5.0 out of 5 stars</td>\n",
              "      <td>I am using Samsung brand more than 10 years an...</td>\n",
              "    </tr>\n",
              "    <tr>\n",
              "      <th>9</th>\n",
              "      <td>RAVICHANDRAN</td>\n",
              "      <td>Value for money</td>\n",
              "      <td>1 April 2023</td>\n",
              "      <td>4.0 out of 5 stars</td>\n",
              "      <td>Best picture qualityFast charging missing</td>\n",
              "    </tr>\n",
              "  </tbody>\n",
              "</table>\n",
              "</div>\n",
              "      <button class=\"colab-df-convert\" onclick=\"convertToInteractive('df-d781c305-1161-49a2-9498-67ec22253ff3')\"\n",
              "              title=\"Convert this dataframe to an interactive table.\"\n",
              "              style=\"display:none;\">\n",
              "        \n",
              "  <svg xmlns=\"http://www.w3.org/2000/svg\" height=\"24px\"viewBox=\"0 0 24 24\"\n",
              "       width=\"24px\">\n",
              "    <path d=\"M0 0h24v24H0V0z\" fill=\"none\"/>\n",
              "    <path d=\"M18.56 5.44l.94 2.06.94-2.06 2.06-.94-2.06-.94-.94-2.06-.94 2.06-2.06.94zm-11 1L8.5 8.5l.94-2.06 2.06-.94-2.06-.94L8.5 2.5l-.94 2.06-2.06.94zm10 10l.94 2.06.94-2.06 2.06-.94-2.06-.94-.94-2.06-.94 2.06-2.06.94z\"/><path d=\"M17.41 7.96l-1.37-1.37c-.4-.4-.92-.59-1.43-.59-.52 0-1.04.2-1.43.59L10.3 9.45l-7.72 7.72c-.78.78-.78 2.05 0 2.83L4 21.41c.39.39.9.59 1.41.59.51 0 1.02-.2 1.41-.59l7.78-7.78 2.81-2.81c.8-.78.8-2.07 0-2.86zM5.41 20L4 18.59l7.72-7.72 1.47 1.35L5.41 20z\"/>\n",
              "  </svg>\n",
              "      </button>\n",
              "      \n",
              "  <style>\n",
              "    .colab-df-container {\n",
              "      display:flex;\n",
              "      flex-wrap:wrap;\n",
              "      gap: 12px;\n",
              "    }\n",
              "\n",
              "    .colab-df-convert {\n",
              "      background-color: #E8F0FE;\n",
              "      border: none;\n",
              "      border-radius: 50%;\n",
              "      cursor: pointer;\n",
              "      display: none;\n",
              "      fill: #1967D2;\n",
              "      height: 32px;\n",
              "      padding: 0 0 0 0;\n",
              "      width: 32px;\n",
              "    }\n",
              "\n",
              "    .colab-df-convert:hover {\n",
              "      background-color: #E2EBFA;\n",
              "      box-shadow: 0px 1px 2px rgba(60, 64, 67, 0.3), 0px 1px 3px 1px rgba(60, 64, 67, 0.15);\n",
              "      fill: #174EA6;\n",
              "    }\n",
              "\n",
              "    [theme=dark] .colab-df-convert {\n",
              "      background-color: #3B4455;\n",
              "      fill: #D2E3FC;\n",
              "    }\n",
              "\n",
              "    [theme=dark] .colab-df-convert:hover {\n",
              "      background-color: #434B5C;\n",
              "      box-shadow: 0px 1px 3px 1px rgba(0, 0, 0, 0.15);\n",
              "      filter: drop-shadow(0px 1px 2px rgba(0, 0, 0, 0.3));\n",
              "      fill: #FFFFFF;\n",
              "    }\n",
              "  </style>\n",
              "\n",
              "      <script>\n",
              "        const buttonEl =\n",
              "          document.querySelector('#df-d781c305-1161-49a2-9498-67ec22253ff3 button.colab-df-convert');\n",
              "        buttonEl.style.display =\n",
              "          google.colab.kernel.accessAllowed ? 'block' : 'none';\n",
              "\n",
              "        async function convertToInteractive(key) {\n",
              "          const element = document.querySelector('#df-d781c305-1161-49a2-9498-67ec22253ff3');\n",
              "          const dataTable =\n",
              "            await google.colab.kernel.invokeFunction('convertToInteractive',\n",
              "                                                     [key], {});\n",
              "          if (!dataTable) return;\n",
              "\n",
              "          const docLinkHtml = 'Like what you see? Visit the ' +\n",
              "            '<a target=\"_blank\" href=https://colab.research.google.com/notebooks/data_table.ipynb>data table notebook</a>'\n",
              "            + ' to learn more about interactive tables.';\n",
              "          element.innerHTML = '';\n",
              "          dataTable['output_type'] = 'display_data';\n",
              "          await google.colab.output.renderOutput(dataTable, element);\n",
              "          const docLink = document.createElement('div');\n",
              "          docLink.innerHTML = docLinkHtml;\n",
              "          element.appendChild(docLink);\n",
              "        }\n",
              "      </script>\n",
              "    </div>\n",
              "  </div>\n",
              "  "
            ]
          },
          "metadata": {},
          "execution_count": 144
        }
      ]
    }
  ]
}