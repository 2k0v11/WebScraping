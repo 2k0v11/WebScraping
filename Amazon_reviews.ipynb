{
  "nbformat": 4,
  "nbformat_minor": 0,
  "metadata": {
    "colab": {
      "provenance": [],
      "authorship_tag": "ABX9TyOGzXdWp9cU14jNMIXdtaPZ",
      "include_colab_link": true
    },
    "kernelspec": {
      "name": "python3",
      "display_name": "Python 3"
    },
    "language_info": {
      "name": "python"
    }
  },
  "cells": [
    {
      "cell_type": "markdown",
      "metadata": {
        "id": "view-in-github",
        "colab_type": "text"
      },
      "source": [
        "<a href=\"https://colab.research.google.com/github/2k0v11/WebScrapping/blob/main/Amazon_reviews.ipynb\" target=\"_parent\"><img src=\"https://colab.research.google.com/assets/colab-badge.svg\" alt=\"Open In Colab\"/></a>"
      ]
    },
    {
      "cell_type": "code",
      "execution_count": null,
      "metadata": {
        "id": "GQLb6pqIMVSd"
      },
      "outputs": [],
      "source": [
        "import requests\n",
        "from bs4 import BeautifulSoup as bs\n",
        "#bs4 is a package and BeautifulSoup is a Library\n"
      ]
    },
    {
      "cell_type": "code",
      "source": [
        "url='https://www.amazon.in/Samsung-Galaxy-Ultra-Phantom-Storage/product-reviews/B0BT9FDZ8N/ref=cm_cr_dp_d_show_all_btm?ie=UTF8&reviewerType=all_reviews'\n",
        "page=requests.get(url) #the requests library is requesting for the url to be fethed\n",
        "page                   #response[200]-all okay,response[503]-check for proper url"
      ],
      "metadata": {
        "colab": {
          "base_uri": "https://localhost:8080/"
        },
        "id": "acnvQsXZOVSm",
        "outputId": "21ed125f-802e-49c5-b9fd-36479fef1192"
      },
      "execution_count": null,
      "outputs": [
        {
          "output_type": "execute_result",
          "data": {
            "text/plain": [
              "<Response [200]>"
            ]
          },
          "metadata": {},
          "execution_count": 49
        }
      ]
    },
    {
      "cell_type": "code",
      "source": [
        "page.content"
      ],
      "metadata": {
        "id": "oeepypHSO8ZQ"
      },
      "execution_count": null,
      "outputs": []
    },
    {
      "cell_type": "code",
      "source": [
        "soup= bs(page.content,'html.parser')\n",
        "soup #soup variable has the full source code of the webpage\n",
        "     #html.parser - displays our code in a better readable format\n"
      ],
      "metadata": {
        "id": "heTuh0AfPEaF"
      },
      "execution_count": null,
      "outputs": []
    },
    {
      "cell_type": "code",
      "source": [
        "names=soup.find_all('span',class_ ='a-profile-name')[2:]\n",
        "names\n",
        "#Removed the top-positive and top-critical review"
      ],
      "metadata": {
        "colab": {
          "base_uri": "https://localhost:8080/"
        },
        "id": "pnq_C8bgQD7f",
        "outputId": "e6311d01-c3ad-41ac-fb87-f8ad8ba78c6a"
      },
      "execution_count": null,
      "outputs": [
        {
          "output_type": "execute_result",
          "data": {
            "text/plain": [
              "[<span class=\"a-profile-name\">Aditya Sharma</span>,\n",
              " <span class=\"a-profile-name\">Aditya Sharma</span>,\n",
              " <span class=\"a-profile-name\">Shahzad Zaman</span>,\n",
              " <span class=\"a-profile-name\">@jkmp3</span>,\n",
              " <span class=\"a-profile-name\">@jkmp3</span>,\n",
              " <span class=\"a-profile-name\">saiful</span>,\n",
              " <span class=\"a-profile-name\">Yogendra S.</span>,\n",
              " <span class=\"a-profile-name\">Singh</span>,\n",
              " <span class=\"a-profile-name\">Singh</span>,\n",
              " <span class=\"a-profile-name\">Rohan</span>,\n",
              " <span class=\"a-profile-name\">Arunvignesh s/o Mani</span>,\n",
              " <span class=\"a-profile-name\">Arunvignesh s/o Mani</span>,\n",
              " <span class=\"a-profile-name\">MarB</span>,\n",
              " <span class=\"a-profile-name\">Hasu t.</span>]"
            ]
          },
          "metadata": {},
          "execution_count": 52
        }
      ]
    },
    {
      "cell_type": "code",
      "source": [
        "import pandas as pd\n",
        "df=pd.DataFrame(names,columns= ['Customer name'])\n",
        "df"
      ],
      "metadata": {
        "colab": {
          "base_uri": "https://localhost:8080/",
          "height": 488
        },
        "id": "BJFAfzaGRWrS",
        "outputId": "0a65ef91-736a-4113-f928-d9e452618d94"
      },
      "execution_count": null,
      "outputs": [
        {
          "output_type": "execute_result",
          "data": {
            "text/plain": [
              "           Customer name\n",
              "0          Aditya Sharma\n",
              "1          Aditya Sharma\n",
              "2          Shahzad Zaman\n",
              "3                 @jkmp3\n",
              "4                 @jkmp3\n",
              "5                 saiful\n",
              "6            Yogendra S.\n",
              "7                  Singh\n",
              "8                  Singh\n",
              "9                  Rohan\n",
              "10  Arunvignesh s/o Mani\n",
              "11  Arunvignesh s/o Mani\n",
              "12                  MarB\n",
              "13               Hasu t."
            ],
            "text/html": [
              "\n",
              "\n",
              "  <div id=\"df-755772ef-d6da-49ff-8830-5bf1cd213def\">\n",
              "    <div class=\"colab-df-container\">\n",
              "      <div>\n",
              "<style scoped>\n",
              "    .dataframe tbody tr th:only-of-type {\n",
              "        vertical-align: middle;\n",
              "    }\n",
              "\n",
              "    .dataframe tbody tr th {\n",
              "        vertical-align: top;\n",
              "    }\n",
              "\n",
              "    .dataframe thead th {\n",
              "        text-align: right;\n",
              "    }\n",
              "</style>\n",
              "<table border=\"1\" class=\"dataframe\">\n",
              "  <thead>\n",
              "    <tr style=\"text-align: right;\">\n",
              "      <th></th>\n",
              "      <th>Customer name</th>\n",
              "    </tr>\n",
              "  </thead>\n",
              "  <tbody>\n",
              "    <tr>\n",
              "      <th>0</th>\n",
              "      <td>Aditya Sharma</td>\n",
              "    </tr>\n",
              "    <tr>\n",
              "      <th>1</th>\n",
              "      <td>Aditya Sharma</td>\n",
              "    </tr>\n",
              "    <tr>\n",
              "      <th>2</th>\n",
              "      <td>Shahzad Zaman</td>\n",
              "    </tr>\n",
              "    <tr>\n",
              "      <th>3</th>\n",
              "      <td>@jkmp3</td>\n",
              "    </tr>\n",
              "    <tr>\n",
              "      <th>4</th>\n",
              "      <td>@jkmp3</td>\n",
              "    </tr>\n",
              "    <tr>\n",
              "      <th>5</th>\n",
              "      <td>saiful</td>\n",
              "    </tr>\n",
              "    <tr>\n",
              "      <th>6</th>\n",
              "      <td>Yogendra S.</td>\n",
              "    </tr>\n",
              "    <tr>\n",
              "      <th>7</th>\n",
              "      <td>Singh</td>\n",
              "    </tr>\n",
              "    <tr>\n",
              "      <th>8</th>\n",
              "      <td>Singh</td>\n",
              "    </tr>\n",
              "    <tr>\n",
              "      <th>9</th>\n",
              "      <td>Rohan</td>\n",
              "    </tr>\n",
              "    <tr>\n",
              "      <th>10</th>\n",
              "      <td>Arunvignesh s/o Mani</td>\n",
              "    </tr>\n",
              "    <tr>\n",
              "      <th>11</th>\n",
              "      <td>Arunvignesh s/o Mani</td>\n",
              "    </tr>\n",
              "    <tr>\n",
              "      <th>12</th>\n",
              "      <td>MarB</td>\n",
              "    </tr>\n",
              "    <tr>\n",
              "      <th>13</th>\n",
              "      <td>Hasu t.</td>\n",
              "    </tr>\n",
              "  </tbody>\n",
              "</table>\n",
              "</div>\n",
              "      <button class=\"colab-df-convert\" onclick=\"convertToInteractive('df-755772ef-d6da-49ff-8830-5bf1cd213def')\"\n",
              "              title=\"Convert this dataframe to an interactive table.\"\n",
              "              style=\"display:none;\">\n",
              "\n",
              "  <svg xmlns=\"http://www.w3.org/2000/svg\" height=\"24px\"viewBox=\"0 0 24 24\"\n",
              "       width=\"24px\">\n",
              "    <path d=\"M0 0h24v24H0V0z\" fill=\"none\"/>\n",
              "    <path d=\"M18.56 5.44l.94 2.06.94-2.06 2.06-.94-2.06-.94-.94-2.06-.94 2.06-2.06.94zm-11 1L8.5 8.5l.94-2.06 2.06-.94-2.06-.94L8.5 2.5l-.94 2.06-2.06.94zm10 10l.94 2.06.94-2.06 2.06-.94-2.06-.94-.94-2.06-.94 2.06-2.06.94z\"/><path d=\"M17.41 7.96l-1.37-1.37c-.4-.4-.92-.59-1.43-.59-.52 0-1.04.2-1.43.59L10.3 9.45l-7.72 7.72c-.78.78-.78 2.05 0 2.83L4 21.41c.39.39.9.59 1.41.59.51 0 1.02-.2 1.41-.59l7.78-7.78 2.81-2.81c.8-.78.8-2.07 0-2.86zM5.41 20L4 18.59l7.72-7.72 1.47 1.35L5.41 20z\"/>\n",
              "  </svg>\n",
              "      </button>\n",
              "\n",
              "\n",
              "\n",
              "    <div id=\"df-91d03e05-259b-4439-b697-ee802e91678d\">\n",
              "      <button class=\"colab-df-quickchart\" onclick=\"quickchart('df-91d03e05-259b-4439-b697-ee802e91678d')\"\n",
              "              title=\"Suggest charts.\"\n",
              "              style=\"display:none;\">\n",
              "\n",
              "<svg xmlns=\"http://www.w3.org/2000/svg\" height=\"24px\"viewBox=\"0 0 24 24\"\n",
              "     width=\"24px\">\n",
              "    <g>\n",
              "        <path d=\"M19 3H5c-1.1 0-2 .9-2 2v14c0 1.1.9 2 2 2h14c1.1 0 2-.9 2-2V5c0-1.1-.9-2-2-2zM9 17H7v-7h2v7zm4 0h-2V7h2v10zm4 0h-2v-4h2v4z\"/>\n",
              "    </g>\n",
              "</svg>\n",
              "      </button>\n",
              "    </div>\n",
              "\n",
              "<style>\n",
              "  .colab-df-quickchart {\n",
              "    background-color: #E8F0FE;\n",
              "    border: none;\n",
              "    border-radius: 50%;\n",
              "    cursor: pointer;\n",
              "    display: none;\n",
              "    fill: #1967D2;\n",
              "    height: 32px;\n",
              "    padding: 0 0 0 0;\n",
              "    width: 32px;\n",
              "  }\n",
              "\n",
              "  .colab-df-quickchart:hover {\n",
              "    background-color: #E2EBFA;\n",
              "    box-shadow: 0px 1px 2px rgba(60, 64, 67, 0.3), 0px 1px 3px 1px rgba(60, 64, 67, 0.15);\n",
              "    fill: #174EA6;\n",
              "  }\n",
              "\n",
              "  [theme=dark] .colab-df-quickchart {\n",
              "    background-color: #3B4455;\n",
              "    fill: #D2E3FC;\n",
              "  }\n",
              "\n",
              "  [theme=dark] .colab-df-quickchart:hover {\n",
              "    background-color: #434B5C;\n",
              "    box-shadow: 0px 1px 3px 1px rgba(0, 0, 0, 0.15);\n",
              "    filter: drop-shadow(0px 1px 2px rgba(0, 0, 0, 0.3));\n",
              "    fill: #FFFFFF;\n",
              "  }\n",
              "</style>\n",
              "\n",
              "    <script>\n",
              "      async function quickchart(key) {\n",
              "        const containerElement = document.querySelector('#' + key);\n",
              "        const charts = await google.colab.kernel.invokeFunction(\n",
              "            'suggestCharts', [key], {});\n",
              "      }\n",
              "    </script>\n",
              "\n",
              "      <script>\n",
              "\n",
              "function displayQuickchartButton(domScope) {\n",
              "  let quickchartButtonEl =\n",
              "    domScope.querySelector('#df-91d03e05-259b-4439-b697-ee802e91678d button.colab-df-quickchart');\n",
              "  quickchartButtonEl.style.display =\n",
              "    google.colab.kernel.accessAllowed ? 'block' : 'none';\n",
              "}\n",
              "\n",
              "        displayQuickchartButton(document);\n",
              "      </script>\n",
              "      <style>\n",
              "    .colab-df-container {\n",
              "      display:flex;\n",
              "      flex-wrap:wrap;\n",
              "      gap: 12px;\n",
              "    }\n",
              "\n",
              "    .colab-df-convert {\n",
              "      background-color: #E8F0FE;\n",
              "      border: none;\n",
              "      border-radius: 50%;\n",
              "      cursor: pointer;\n",
              "      display: none;\n",
              "      fill: #1967D2;\n",
              "      height: 32px;\n",
              "      padding: 0 0 0 0;\n",
              "      width: 32px;\n",
              "    }\n",
              "\n",
              "    .colab-df-convert:hover {\n",
              "      background-color: #E2EBFA;\n",
              "      box-shadow: 0px 1px 2px rgba(60, 64, 67, 0.3), 0px 1px 3px 1px rgba(60, 64, 67, 0.15);\n",
              "      fill: #174EA6;\n",
              "    }\n",
              "\n",
              "    [theme=dark] .colab-df-convert {\n",
              "      background-color: #3B4455;\n",
              "      fill: #D2E3FC;\n",
              "    }\n",
              "\n",
              "    [theme=dark] .colab-df-convert:hover {\n",
              "      background-color: #434B5C;\n",
              "      box-shadow: 0px 1px 3px 1px rgba(0, 0, 0, 0.15);\n",
              "      filter: drop-shadow(0px 1px 2px rgba(0, 0, 0, 0.3));\n",
              "      fill: #FFFFFF;\n",
              "    }\n",
              "  </style>\n",
              "\n",
              "      <script>\n",
              "        const buttonEl =\n",
              "          document.querySelector('#df-755772ef-d6da-49ff-8830-5bf1cd213def button.colab-df-convert');\n",
              "        buttonEl.style.display =\n",
              "          google.colab.kernel.accessAllowed ? 'block' : 'none';\n",
              "\n",
              "        async function convertToInteractive(key) {\n",
              "          const element = document.querySelector('#df-755772ef-d6da-49ff-8830-5bf1cd213def');\n",
              "          const dataTable =\n",
              "            await google.colab.kernel.invokeFunction('convertToInteractive',\n",
              "                                                     [key], {});\n",
              "          if (!dataTable) return;\n",
              "\n",
              "          const docLinkHtml = 'Like what you see? Visit the ' +\n",
              "            '<a target=\"_blank\" href=https://colab.research.google.com/notebooks/data_table.ipynb>data table notebook</a>'\n",
              "            + ' to learn more about interactive tables.';\n",
              "          element.innerHTML = '';\n",
              "          dataTable['output_type'] = 'display_data';\n",
              "          await google.colab.output.renderOutput(dataTable, element);\n",
              "          const docLink = document.createElement('div');\n",
              "          docLink.innerHTML = docLinkHtml;\n",
              "          element.appendChild(docLink);\n",
              "        }\n",
              "      </script>\n",
              "    </div>\n",
              "  </div>\n"
            ]
          },
          "metadata": {},
          "execution_count": 53
        }
      ]
    },
    {
      "cell_type": "code",
      "source": [
        "df=df.drop_duplicates(ignore_index=True)\n",
        "df"
      ],
      "metadata": {
        "id": "fKGnqe6vTg6U",
        "colab": {
          "base_uri": "https://localhost:8080/",
          "height": 362
        },
        "outputId": "f2033bc3-a850-4346-ab88-20744ed9907d"
      },
      "execution_count": null,
      "outputs": [
        {
          "output_type": "execute_result",
          "data": {
            "text/plain": [
              "          Customer name\n",
              "0         Aditya Sharma\n",
              "1         Shahzad Zaman\n",
              "2                @jkmp3\n",
              "3                saiful\n",
              "4           Yogendra S.\n",
              "5                 Singh\n",
              "6                 Rohan\n",
              "7  Arunvignesh s/o Mani\n",
              "8                  MarB\n",
              "9               Hasu t."
            ],
            "text/html": [
              "\n",
              "\n",
              "  <div id=\"df-168d1a62-d7f5-4c21-b2e8-6821a0819b41\">\n",
              "    <div class=\"colab-df-container\">\n",
              "      <div>\n",
              "<style scoped>\n",
              "    .dataframe tbody tr th:only-of-type {\n",
              "        vertical-align: middle;\n",
              "    }\n",
              "\n",
              "    .dataframe tbody tr th {\n",
              "        vertical-align: top;\n",
              "    }\n",
              "\n",
              "    .dataframe thead th {\n",
              "        text-align: right;\n",
              "    }\n",
              "</style>\n",
              "<table border=\"1\" class=\"dataframe\">\n",
              "  <thead>\n",
              "    <tr style=\"text-align: right;\">\n",
              "      <th></th>\n",
              "      <th>Customer name</th>\n",
              "    </tr>\n",
              "  </thead>\n",
              "  <tbody>\n",
              "    <tr>\n",
              "      <th>0</th>\n",
              "      <td>Aditya Sharma</td>\n",
              "    </tr>\n",
              "    <tr>\n",
              "      <th>1</th>\n",
              "      <td>Shahzad Zaman</td>\n",
              "    </tr>\n",
              "    <tr>\n",
              "      <th>2</th>\n",
              "      <td>@jkmp3</td>\n",
              "    </tr>\n",
              "    <tr>\n",
              "      <th>3</th>\n",
              "      <td>saiful</td>\n",
              "    </tr>\n",
              "    <tr>\n",
              "      <th>4</th>\n",
              "      <td>Yogendra S.</td>\n",
              "    </tr>\n",
              "    <tr>\n",
              "      <th>5</th>\n",
              "      <td>Singh</td>\n",
              "    </tr>\n",
              "    <tr>\n",
              "      <th>6</th>\n",
              "      <td>Rohan</td>\n",
              "    </tr>\n",
              "    <tr>\n",
              "      <th>7</th>\n",
              "      <td>Arunvignesh s/o Mani</td>\n",
              "    </tr>\n",
              "    <tr>\n",
              "      <th>8</th>\n",
              "      <td>MarB</td>\n",
              "    </tr>\n",
              "    <tr>\n",
              "      <th>9</th>\n",
              "      <td>Hasu t.</td>\n",
              "    </tr>\n",
              "  </tbody>\n",
              "</table>\n",
              "</div>\n",
              "      <button class=\"colab-df-convert\" onclick=\"convertToInteractive('df-168d1a62-d7f5-4c21-b2e8-6821a0819b41')\"\n",
              "              title=\"Convert this dataframe to an interactive table.\"\n",
              "              style=\"display:none;\">\n",
              "\n",
              "  <svg xmlns=\"http://www.w3.org/2000/svg\" height=\"24px\"viewBox=\"0 0 24 24\"\n",
              "       width=\"24px\">\n",
              "    <path d=\"M0 0h24v24H0V0z\" fill=\"none\"/>\n",
              "    <path d=\"M18.56 5.44l.94 2.06.94-2.06 2.06-.94-2.06-.94-.94-2.06-.94 2.06-2.06.94zm-11 1L8.5 8.5l.94-2.06 2.06-.94-2.06-.94L8.5 2.5l-.94 2.06-2.06.94zm10 10l.94 2.06.94-2.06 2.06-.94-2.06-.94-.94-2.06-.94 2.06-2.06.94z\"/><path d=\"M17.41 7.96l-1.37-1.37c-.4-.4-.92-.59-1.43-.59-.52 0-1.04.2-1.43.59L10.3 9.45l-7.72 7.72c-.78.78-.78 2.05 0 2.83L4 21.41c.39.39.9.59 1.41.59.51 0 1.02-.2 1.41-.59l7.78-7.78 2.81-2.81c.8-.78.8-2.07 0-2.86zM5.41 20L4 18.59l7.72-7.72 1.47 1.35L5.41 20z\"/>\n",
              "  </svg>\n",
              "      </button>\n",
              "\n",
              "\n",
              "\n",
              "    <div id=\"df-74745bc1-31ac-4388-96c4-44a50870eb58\">\n",
              "      <button class=\"colab-df-quickchart\" onclick=\"quickchart('df-74745bc1-31ac-4388-96c4-44a50870eb58')\"\n",
              "              title=\"Suggest charts.\"\n",
              "              style=\"display:none;\">\n",
              "\n",
              "<svg xmlns=\"http://www.w3.org/2000/svg\" height=\"24px\"viewBox=\"0 0 24 24\"\n",
              "     width=\"24px\">\n",
              "    <g>\n",
              "        <path d=\"M19 3H5c-1.1 0-2 .9-2 2v14c0 1.1.9 2 2 2h14c1.1 0 2-.9 2-2V5c0-1.1-.9-2-2-2zM9 17H7v-7h2v7zm4 0h-2V7h2v10zm4 0h-2v-4h2v4z\"/>\n",
              "    </g>\n",
              "</svg>\n",
              "      </button>\n",
              "    </div>\n",
              "\n",
              "<style>\n",
              "  .colab-df-quickchart {\n",
              "    background-color: #E8F0FE;\n",
              "    border: none;\n",
              "    border-radius: 50%;\n",
              "    cursor: pointer;\n",
              "    display: none;\n",
              "    fill: #1967D2;\n",
              "    height: 32px;\n",
              "    padding: 0 0 0 0;\n",
              "    width: 32px;\n",
              "  }\n",
              "\n",
              "  .colab-df-quickchart:hover {\n",
              "    background-color: #E2EBFA;\n",
              "    box-shadow: 0px 1px 2px rgba(60, 64, 67, 0.3), 0px 1px 3px 1px rgba(60, 64, 67, 0.15);\n",
              "    fill: #174EA6;\n",
              "  }\n",
              "\n",
              "  [theme=dark] .colab-df-quickchart {\n",
              "    background-color: #3B4455;\n",
              "    fill: #D2E3FC;\n",
              "  }\n",
              "\n",
              "  [theme=dark] .colab-df-quickchart:hover {\n",
              "    background-color: #434B5C;\n",
              "    box-shadow: 0px 1px 3px 1px rgba(0, 0, 0, 0.15);\n",
              "    filter: drop-shadow(0px 1px 2px rgba(0, 0, 0, 0.3));\n",
              "    fill: #FFFFFF;\n",
              "  }\n",
              "</style>\n",
              "\n",
              "    <script>\n",
              "      async function quickchart(key) {\n",
              "        const containerElement = document.querySelector('#' + key);\n",
              "        const charts = await google.colab.kernel.invokeFunction(\n",
              "            'suggestCharts', [key], {});\n",
              "      }\n",
              "    </script>\n",
              "\n",
              "      <script>\n",
              "\n",
              "function displayQuickchartButton(domScope) {\n",
              "  let quickchartButtonEl =\n",
              "    domScope.querySelector('#df-74745bc1-31ac-4388-96c4-44a50870eb58 button.colab-df-quickchart');\n",
              "  quickchartButtonEl.style.display =\n",
              "    google.colab.kernel.accessAllowed ? 'block' : 'none';\n",
              "}\n",
              "\n",
              "        displayQuickchartButton(document);\n",
              "      </script>\n",
              "      <style>\n",
              "    .colab-df-container {\n",
              "      display:flex;\n",
              "      flex-wrap:wrap;\n",
              "      gap: 12px;\n",
              "    }\n",
              "\n",
              "    .colab-df-convert {\n",
              "      background-color: #E8F0FE;\n",
              "      border: none;\n",
              "      border-radius: 50%;\n",
              "      cursor: pointer;\n",
              "      display: none;\n",
              "      fill: #1967D2;\n",
              "      height: 32px;\n",
              "      padding: 0 0 0 0;\n",
              "      width: 32px;\n",
              "    }\n",
              "\n",
              "    .colab-df-convert:hover {\n",
              "      background-color: #E2EBFA;\n",
              "      box-shadow: 0px 1px 2px rgba(60, 64, 67, 0.3), 0px 1px 3px 1px rgba(60, 64, 67, 0.15);\n",
              "      fill: #174EA6;\n",
              "    }\n",
              "\n",
              "    [theme=dark] .colab-df-convert {\n",
              "      background-color: #3B4455;\n",
              "      fill: #D2E3FC;\n",
              "    }\n",
              "\n",
              "    [theme=dark] .colab-df-convert:hover {\n",
              "      background-color: #434B5C;\n",
              "      box-shadow: 0px 1px 3px 1px rgba(0, 0, 0, 0.15);\n",
              "      filter: drop-shadow(0px 1px 2px rgba(0, 0, 0, 0.3));\n",
              "      fill: #FFFFFF;\n",
              "    }\n",
              "  </style>\n",
              "\n",
              "      <script>\n",
              "        const buttonEl =\n",
              "          document.querySelector('#df-168d1a62-d7f5-4c21-b2e8-6821a0819b41 button.colab-df-convert');\n",
              "        buttonEl.style.display =\n",
              "          google.colab.kernel.accessAllowed ? 'block' : 'none';\n",
              "\n",
              "        async function convertToInteractive(key) {\n",
              "          const element = document.querySelector('#df-168d1a62-d7f5-4c21-b2e8-6821a0819b41');\n",
              "          const dataTable =\n",
              "            await google.colab.kernel.invokeFunction('convertToInteractive',\n",
              "                                                     [key], {});\n",
              "          if (!dataTable) return;\n",
              "\n",
              "          const docLinkHtml = 'Like what you see? Visit the ' +\n",
              "            '<a target=\"_blank\" href=https://colab.research.google.com/notebooks/data_table.ipynb>data table notebook</a>'\n",
              "            + ' to learn more about interactive tables.';\n",
              "          element.innerHTML = '';\n",
              "          dataTable['output_type'] = 'display_data';\n",
              "          await google.colab.output.renderOutput(dataTable, element);\n",
              "          const docLink = document.createElement('div');\n",
              "          docLink.innerHTML = docLinkHtml;\n",
              "          element.appendChild(docLink);\n",
              "        }\n",
              "      </script>\n",
              "    </div>\n",
              "  </div>\n"
            ]
          },
          "metadata": {},
          "execution_count": 54
        }
      ]
    },
    {
      "cell_type": "code",
      "source": [
        "r_title=soup.find_all('a',class_='review-title')\n",
        "r_title"
      ],
      "metadata": {
        "colab": {
          "base_uri": "https://localhost:8080/"
        },
        "id": "80IHOgjaT96F",
        "outputId": "f3f81c38-ac9c-4236-856b-8eecc950e883"
      },
      "execution_count": null,
      "outputs": [
        {
          "output_type": "execute_result",
          "data": {
            "text/plain": [
              "[<a class=\"a-size-base a-link-normal review-title a-color-base review-title-content a-text-bold\" data-hook=\"review-title\" href=\"/gp/customer-reviews/R2QZSLVWHDNM4J?ASIN=B0BT9FDZ8N\"><i class=\"a-icon a-icon-star a-star-5 review-rating\" data-hook=\"review-star-rating\"><span class=\"a-icon-alt\">5.0 out of 5 stars</span></i><span class=\"a-letter-space\"></span>\n",
              " <span>The best smartphone money can buy!</span>\n",
              " </a>,\n",
              " <a class=\"a-size-base a-link-normal review-title a-color-base review-title-content a-text-bold\" data-hook=\"review-title\" href=\"/gp/customer-reviews/R2M811HPC4BDB9?ASIN=B0BT9FDZ8N\"><i class=\"a-icon a-icon-star a-star-4 review-rating\" data-hook=\"review-star-rating\"><span class=\"a-icon-alt\">4.0 out of 5 stars</span></i><span class=\"a-letter-space\"></span>\n",
              " <span>A premium phone but...</span>\n",
              " </a>,\n",
              " <a class=\"a-size-base a-link-normal review-title a-color-base review-title-content a-text-bold\" data-hook=\"review-title\" href=\"/gp/customer-reviews/R2008B0FPXTBQM?ASIN=B0BT9FDZ8N\"><i class=\"a-icon a-icon-star a-star-4 review-rating\" data-hook=\"review-star-rating\"><span class=\"a-icon-alt\">4.0 out of 5 stars</span></i><span class=\"a-letter-space\"></span>\n",
              " <span>Satisfied with the purchase</span>\n",
              " </a>,\n",
              " <a class=\"a-size-base a-link-normal review-title a-color-base review-title-content a-text-bold\" data-hook=\"review-title\" href=\"/gp/customer-reviews/R1A9PGFSC8M4TK?ASIN=B0BT9FDZ8N\"><i class=\"a-icon a-icon-star a-star-4 review-rating\" data-hook=\"review-star-rating\"><span class=\"a-icon-alt\">4.0 out of 5 stars</span></i><span class=\"a-letter-space\"></span>\n",
              " <span>Good phone for compact size users</span>\n",
              " </a>,\n",
              " <a class=\"a-size-base a-link-normal review-title a-color-base review-title-content a-text-bold\" data-hook=\"review-title\" href=\"/gp/customer-reviews/R209B9UKHE0V0G?ASIN=B0BT9FDZ8N\"><i class=\"a-icon a-icon-star a-star-4 review-rating\" data-hook=\"review-star-rating\"><span class=\"a-icon-alt\">4.0 out of 5 stars</span></i><span class=\"a-letter-space\"></span>\n",
              " <span>Awesome Phone</span>\n",
              " </a>,\n",
              " <a class=\"a-size-base a-link-normal review-title a-color-base review-title-content a-text-bold\" data-hook=\"review-title\" href=\"/gp/customer-reviews/R216PZ7ASJ9RZO?ASIN=B0BT9FDZ8N\"><i class=\"a-icon a-icon-star a-star-5 review-rating\" data-hook=\"review-star-rating\"><span class=\"a-icon-alt\">5.0 out of 5 stars</span></i><span class=\"a-letter-space\"></span>\n",
              " <span>The perfect beast</span>\n",
              " </a>,\n",
              " <a class=\"a-size-base a-link-normal review-title a-color-base review-title-content a-text-bold\" data-hook=\"review-title\" href=\"/gp/customer-reviews/R15CCMWWBBKYM2?ASIN=B0BT9FDZ8N\"><i class=\"a-icon a-icon-star a-star-5 review-rating\" data-hook=\"review-star-rating\"><span class=\"a-icon-alt\">5.0 out of 5 stars</span></i><span class=\"a-letter-space\"></span>\n",
              " <span>Great Product - Top Tier in all Products</span>\n",
              " </a>,\n",
              " <a class=\"a-size-base a-link-normal review-title a-color-base review-title-content a-text-bold\" data-hook=\"review-title\" href=\"/gp/customer-reviews/R1Q7TDD3WRI266?ASIN=B0BT9FDZ8N\"><i class=\"a-icon a-icon-star a-star-4 review-rating\" data-hook=\"review-star-rating\"><span class=\"a-icon-alt\">4.0 out of 5 stars</span></i><span class=\"a-letter-space\"></span>\n",
              " <span>After 1 month of this review,</span>\n",
              " </a>,\n",
              " <a class=\"a-size-base a-link-normal review-title a-color-base review-title-content a-text-bold\" data-hook=\"review-title\" href=\"/gp/customer-reviews/R1BK9VOZDZZ7XT?ASIN=B0BT9FDZ8N\"><i class=\"a-icon a-icon-star a-star-4 review-rating\" data-hook=\"review-star-rating\"><span class=\"a-icon-alt\">4.0 out of 5 stars</span></i><span class=\"a-letter-space\"></span>\n",
              " <span>It's ok</span>\n",
              " </a>,\n",
              " <a class=\"a-size-base a-link-normal review-title a-color-base review-title-content a-text-bold\" data-hook=\"review-title\" href=\"/gp/customer-reviews/R2SSV5OL7UVEL0?ASIN=B0BT9FDZ8N\"><i class=\"a-icon a-icon-star a-star-5 review-rating\" data-hook=\"review-star-rating\"><span class=\"a-icon-alt\">5.0 out of 5 stars</span></i><span class=\"a-letter-space\"></span>\n",
              " <span>S23 8/256</span>\n",
              " </a>]"
            ]
          },
          "metadata": {},
          "execution_count": 61
        }
      ]
    },
    {
      "cell_type": "code",
      "source": [
        "len(r_title)"
      ],
      "metadata": {
        "colab": {
          "base_uri": "https://localhost:8080/"
        },
        "id": "MTqaXb7_aoXr",
        "outputId": "0c7d982d-0783-4d80-8b97-475a8d423c5c"
      },
      "execution_count": null,
      "outputs": [
        {
          "output_type": "execute_result",
          "data": {
            "text/plain": [
              "10"
            ]
          },
          "metadata": {},
          "execution_count": 62
        }
      ]
    },
    {
      "cell_type": "code",
      "source": [
        "review_title=[]\n",
        "for i in range(0,len(r_title)):\n",
        " review_title.append(r_title[i].get_text().replace(\".0 out of 5 stars\",'')[2:-1]) #[2:-1] is done to remove the '\\n' at the begining and end of each review in html text\n",
        "review_title"
      ],
      "metadata": {
        "colab": {
          "base_uri": "https://localhost:8080/"
        },
        "id": "tb6mg-zCa-4L",
        "outputId": "2de9f9d2-65e6-44a3-bd07-c67eb6f511cf"
      },
      "execution_count": null,
      "outputs": [
        {
          "output_type": "execute_result",
          "data": {
            "text/plain": [
              "['The best smartphone money can buy!',\n",
              " 'A premium phone but...',\n",
              " 'Satisfied with the purchase',\n",
              " 'Good phone for compact size users',\n",
              " 'Awesome Phone',\n",
              " 'The perfect beast',\n",
              " 'Great Product - Top Tier in all Products',\n",
              " 'After 1 month of this review,',\n",
              " \"It's ok\",\n",
              " 'S23 8/256']"
            ]
          },
          "metadata": {},
          "execution_count": 74
        }
      ]
    },
    {
      "cell_type": "code",
      "source": [
        "date=soup.find_all('span',class_='review-date')[2:]\n",
        "date"
      ],
      "metadata": {
        "colab": {
          "base_uri": "https://localhost:8080/"
        },
        "id": "oaw55gvRcgkX",
        "outputId": "868daaff-f167-4b28-91a3-39c0ec3171a5"
      },
      "execution_count": null,
      "outputs": [
        {
          "output_type": "execute_result",
          "data": {
            "text/plain": [
              "[<span class=\"a-size-base a-color-secondary review-date\" data-hook=\"review-date\">Reviewed in India 🇮🇳 on 7 May 2023</span>,\n",
              " <span class=\"a-size-base a-color-secondary review-date\" data-hook=\"review-date\">Reviewed in India 🇮🇳 on 3 July 2023</span>,\n",
              " <span class=\"a-size-base a-color-secondary review-date\" data-hook=\"review-date\">Reviewed in India 🇮🇳 on 29 May 2023</span>,\n",
              " <span class=\"a-size-base a-color-secondary review-date\" data-hook=\"review-date\">Reviewed in India 🇮🇳 on 4 July 2023</span>,\n",
              " <span class=\"a-size-base a-color-secondary review-date\" data-hook=\"review-date\">Reviewed in India 🇮🇳 on 10 July 2023</span>,\n",
              " <span class=\"a-size-base a-color-secondary review-date\" data-hook=\"review-date\">Reviewed in India 🇮🇳 on 28 February 2023</span>,\n",
              " <span class=\"a-size-base a-color-secondary review-date\" data-hook=\"review-date\">Reviewed in India 🇮🇳 on 2 July 2023</span>,\n",
              " <span class=\"a-size-base a-color-secondary review-date\" data-hook=\"review-date\">Reviewed in India 🇮🇳 on 30 April 2023</span>,\n",
              " <span class=\"a-size-base a-color-secondary review-date\" data-hook=\"review-date\">Reviewed in India 🇮🇳 on 3 July 2023</span>,\n",
              " <span class=\"a-size-base a-color-secondary review-date\" data-hook=\"review-date\">Reviewed in India 🇮🇳 on 26 June 2023</span>]"
            ]
          },
          "metadata": {},
          "execution_count": 75
        }
      ]
    },
    {
      "cell_type": "code",
      "source": [
        "review_date=[]\n",
        "for i in range(0,len(date)):\n",
        "  review_date.append(date[i].get_text().replace(\"Reviewed in India 🇮🇳 on \",''))\n",
        "review_date"
      ],
      "metadata": {
        "colab": {
          "base_uri": "https://localhost:8080/"
        },
        "id": "AgmoEAM3csTV",
        "outputId": "3950a46b-8b3f-45d8-8dc9-44e36037ac70"
      },
      "execution_count": null,
      "outputs": [
        {
          "output_type": "execute_result",
          "data": {
            "text/plain": [
              "['7 May 2023',\n",
              " '3 July 2023',\n",
              " '29 May 2023',\n",
              " '4 July 2023',\n",
              " '10 July 2023',\n",
              " '28 February 2023',\n",
              " '2 July 2023',\n",
              " '30 April 2023',\n",
              " '3 July 2023',\n",
              " '26 June 2023']"
            ]
          },
          "metadata": {},
          "execution_count": 76
        }
      ]
    },
    {
      "cell_type": "code",
      "source": [
        "r_rating=soup.find_all('i',class_='review-rating')[2:]\n",
        "r_rating"
      ],
      "metadata": {
        "id": "8TkgYnhqdIzN",
        "colab": {
          "base_uri": "https://localhost:8080/"
        },
        "outputId": "41145724-75e9-4bc6-b38d-ea9f7f09e7e6"
      },
      "execution_count": null,
      "outputs": [
        {
          "output_type": "execute_result",
          "data": {
            "text/plain": [
              "[<i class=\"a-icon a-icon-star a-star-5 review-rating\" data-hook=\"review-star-rating\"><span class=\"a-icon-alt\">5.0 out of 5 stars</span></i>,\n",
              " <i class=\"a-icon a-icon-star a-star-4 review-rating\" data-hook=\"review-star-rating\"><span class=\"a-icon-alt\">4.0 out of 5 stars</span></i>,\n",
              " <i class=\"a-icon a-icon-star a-star-4 review-rating\" data-hook=\"review-star-rating\"><span class=\"a-icon-alt\">4.0 out of 5 stars</span></i>,\n",
              " <i class=\"a-icon a-icon-star a-star-4 review-rating\" data-hook=\"review-star-rating\"><span class=\"a-icon-alt\">4.0 out of 5 stars</span></i>,\n",
              " <i class=\"a-icon a-icon-star a-star-4 review-rating\" data-hook=\"review-star-rating\"><span class=\"a-icon-alt\">4.0 out of 5 stars</span></i>,\n",
              " <i class=\"a-icon a-icon-star a-star-5 review-rating\" data-hook=\"review-star-rating\"><span class=\"a-icon-alt\">5.0 out of 5 stars</span></i>,\n",
              " <i class=\"a-icon a-icon-star a-star-5 review-rating\" data-hook=\"review-star-rating\"><span class=\"a-icon-alt\">5.0 out of 5 stars</span></i>,\n",
              " <i class=\"a-icon a-icon-star a-star-4 review-rating\" data-hook=\"review-star-rating\"><span class=\"a-icon-alt\">4.0 out of 5 stars</span></i>,\n",
              " <i class=\"a-icon a-icon-star a-star-4 review-rating\" data-hook=\"review-star-rating\"><span class=\"a-icon-alt\">4.0 out of 5 stars</span></i>,\n",
              " <i class=\"a-icon a-icon-star a-star-5 review-rating\" data-hook=\"review-star-rating\"><span class=\"a-icon-alt\">5.0 out of 5 stars</span></i>]"
            ]
          },
          "metadata": {},
          "execution_count": 77
        }
      ]
    },
    {
      "cell_type": "code",
      "source": [
        "review_rating=[]\n",
        "for i in range(0,len(r_rating)):\n",
        "  review_rating.append(r_rating[i].get_text())\n",
        "review_rating"
      ],
      "metadata": {
        "colab": {
          "base_uri": "https://localhost:8080/"
        },
        "id": "3m7PpzbsgF7H",
        "outputId": "4128124b-6895-41ab-bd11-b32de7e367b3"
      },
      "execution_count": null,
      "outputs": [
        {
          "output_type": "execute_result",
          "data": {
            "text/plain": [
              "['5.0 out of 5 stars',\n",
              " '4.0 out of 5 stars',\n",
              " '4.0 out of 5 stars',\n",
              " '4.0 out of 5 stars',\n",
              " '4.0 out of 5 stars',\n",
              " '5.0 out of 5 stars',\n",
              " '5.0 out of 5 stars',\n",
              " '4.0 out of 5 stars',\n",
              " '4.0 out of 5 stars',\n",
              " '5.0 out of 5 stars']"
            ]
          },
          "metadata": {},
          "execution_count": 78
        }
      ]
    },
    {
      "cell_type": "code",
      "source": [
        "len(review_rating)"
      ],
      "metadata": {
        "colab": {
          "base_uri": "https://localhost:8080/"
        },
        "id": "L_1bGnNRmgob",
        "outputId": "dc8c7f41-872a-4e4b-c67d-fb30564caca2"
      },
      "execution_count": null,
      "outputs": [
        {
          "output_type": "execute_result",
          "data": {
            "text/plain": [
              "10"
            ]
          },
          "metadata": {},
          "execution_count": 79
        }
      ]
    },
    {
      "cell_type": "code",
      "source": [
        "r_content=soup.find_all('span',class_='review-text-content')\n",
        "r_content"
      ],
      "metadata": {
        "id": "NukkQo5Zgb5Y",
        "colab": {
          "base_uri": "https://localhost:8080/"
        },
        "outputId": "74ac26a7-21e0-491d-e0ea-e7660e4ff1c2"
      },
      "execution_count": null,
      "outputs": [
        {
          "output_type": "execute_result",
          "data": {
            "text/plain": [
              "[<span class=\"a-size-base review-text review-text-content\" data-hook=\"review-body\">\n",
              " <span>After using Samsung Galaxy S23 Ultra for quite a bit as a daily driver and coming back to Samsung after a long time after using other smaller form factor phones like ONEPLUS 9, here's what I think about this phone.<br/><br/>PROS:<br/><br/>- This phone has the best camera ever installed into a smartphone, hands-down! No other phone made in human history can ever come close to 1% of what Samsung Galaxy S23 Ultra's cameras can do.<br/><br/>- Performance is crazy! Not only it has Snapdragon 8Gen-2, but that too custom-made for Samsung Galaxy phones. You can play any games, run any apps and do whatever you'd want from a phone that is used at work, gaming, taking photos/videos and for personal use at the same time.<br/><br/>- Rectangular form factor of this phone makes it so much comfortable and easy to hold. And it looks very premium too, which obviously is expected from a phone that costs this much.<br/><br/>- OneUI has so many great features that they cannot be listed in one place. It brings a whole new meaning to \"smart\" in smartphones. Previously only Apple was making real smartphones that were actually smart and now with OneUI 5.1, Samsung has joined the league and probably done a better job than Apple at this point.<br/><br/>- Good Lock modules + OneUI 5.1 has such a tremendous level of customization in terms of many aspects of the usability. It doesn't have all of it, to which I'll come in \"CONS\" section.<br/><br/>- Charging time is good, reverse charging and wireless charging are such a sweet add-on that helps and makes the experience really good.<br/><br/>- S-Pen does the wonders! Very useful specially for those who use their phone for professional work like eSigning and other precision work.<br/><br/>- Build quality and software are really premium, you'll know you've sold a kidney when you hold this phone in your hands and turn up the max resolution on display.<br/><br/>- S23 Ultra is slightly more flat on sides as compared to S22 Ultra which makes it a more usable phone.<br/><br/>CONS:<br/><br/>- Now, since this phone has a curved display which adds no usability but makes it little difficult to use for people with smaller hands or to reach to corners with one hand, it becomes little hard to get used to this kind of display even if you've used a curved display phone with smaller form factor before because S23 Ultra is HUGE!<br/><br/>- Another issue with curved screen, since there's a decent curve in screen, finding a screen protector is really hard! Tempered glasses don't fit well, they get spaced by covers/cases, Samsung officially doesn't make tempered glass for S23 Ultra. Samsung sells a thin membrane sheet for ₹1,500/- which has a cutout for camera and collects dust. Having no screen protection means having your second kidney at risk too!<br/><br/>- No charger in the box (ugh) and the cable that comes with it is really flimsy. Doesn't look like it came with a flagship phone. ONEPLUS makes 10x better cables so better buy one from them.<br/><br/>- A phone this expensive should have all the necessary features right? But the OneUI 5.1 doesn't come with an app lock. Samsung Secure Folder is nice but not usable for a day-to-day use. Secure Folder is fine for hiding images and apps but not convenient for daily access. There's no Good Lock module to have app lock either.<br/><br/>- OneUI 5.1 (unlike many other UIs like OxygenOS 13 and ColorOS 13) doesn't give option to rename apps in app drawer. Ability to use 3rd party icon packs just came recently. And installing a 3rd party launcher kind of ruins the UI for recent apps screen.<br/><br/>- OneUI 5.1 requires installation of a 3rd party Good Lock module to even configure what icons will appear on your navigation bar.<br/><br/>- Overall this is a really good phone, best I'd say! But OneUI 5.1 lacks some basic features which should've been implemented.<br/><br/>- But other than these minor software issues and some hardware inconveniences, this phone is definitely a recommendation.</span>\n",
              " </span>,\n",
              " <span class=\"a-size-base review-text review-text-content\" data-hook=\"review-body\">\n",
              " <span>Every review that you have seen about this phone is true to quite an extent.<br/>Great camera, good features, and premium quality and is the perfect size for me. I would prefer a 6\" phone but that's the best you can get. It's a little on the heavier side but it doesn't really matter if you are using headphones.<br/><br/>The cons:<br/>1 - Battery drains really fast. The reviews I saw did not warn about it. This is my biggest grudge, having gone a bit over budget.<br/><br/>2 - Samsung's boring UI. BTW I never imagined I would buy a Samsung product. But seeing the comparos with iPhone 14, I felt I should give it a go. One Plus, for instance, gives a swipe option to go back to the previous page. Samsung still depends on the back button at the bottom of the phone. After using One Plus, this seems prehistoric and inconvenient. It would request Samsung if they make this small change.<br/><br/>3 - For some weird reason, it takes very long to start. It's a costly phone. I do not expect it to be so slow<br/><br/>4 - Again, the reviews I watched said it only warms up a bit only if after heavy usage like gaming. This one heats up at times to the point of getting uncomfortable. However, it does get cooled down if you just close the apps.<br/><br/>5 - 25W charging at this price is quite low but I understand. The heating issues of the previous models might have to do something with it.<br/><br/>Hope my review will help you make an informed decision.</span>\n",
              " </span>,\n",
              " <span class=\"a-size-base review-text review-text-content\" data-hook=\"review-body\">\n",
              " <span>Bought 256GB variant for ₹73,500. Got same day delivery.<br/>Packaging could have been better. There were no bubble wraps. But the contents were intact.<br/><br/>Now coming to the phone, since most people will be concerned about battery life, I will start with that, there is no need to worry. It comfortably lasts for a full day, provided that you are mostly on Wi-Fi. I have added screenshots of battery stats. For the first 3 stats the phone was connected to Wi-Fi for about 80% of the time. For the last one phone was on mobile data for 90% of the time. The phone takes around 1hr 15 mins to charge when using a 20 watt power adapter.<br/><br/>Other aspects of the phone are also superb, like camera, smoothness of the UI. I hope Samsung doesn’t mess that up with software updates.<br/><br/>PS: I am using the Ringke Fusion-X  case with the phone.</span>\n",
              " </span>,\n",
              " <span class=\"a-size-base review-text review-text-content\" data-hook=\"review-body\">\n",
              " <span>All are good.<br/>I m not satisfied with front camera.<br/>One more thing is that there is a heating issue whenever use Camara apps and data over mobile network.</span>\n",
              " </span>,\n",
              " <span class=\"a-size-base review-text review-text-content\" data-hook=\"review-body\">\n",
              " <span>I loved it. Before this Phone, I was using Samsung Galaxy FE 20 which is having heating and battery issues.<br/>I upgraded to this phone and everything is fantastic, with superior camera quality.<br/>The only missing thing was a charger.</span>\n",
              " </span>,\n",
              " <span class=\"a-size-base review-text review-text-content\" data-hook=\"review-body\">\n",
              " <span>This phone is a pefect upgrade from my old One plus. I had to make a hard choice between s22 and s23. I came to the conclusion that processor used in s22 (Snapdragon 8 gen 1) is inefficient. Infact it was one of the most inefficient processors produced by snapdragon+samsung in last 5 years in premium segment. That combined with low battery was just worse. So I decided to spend more money for this phone. Snapdragon 8 gen 2 is an actual successor of snapdragon and gives enormous battery life.<br/><br/>After first charge, I was getting 8 hours SOT. Which is double from my old Oppo Oneplus (Haha). Plus I got upgrade on the first day, using 120 hz refresh rate with light performance mode while battery set to adaptive. I think I can push for 10 hour screen-on-time if I want to.<br/><br/>Screen is perfect, samsung right now is the biggest supplier of screens in mobile market, so that's no doubt. Speakers are stereo and have dolby digital mode. The UI is top tier, samsung right now has the best UI in the market. The amazing things is the bloatware are so well integrated into samsung ecosystem that it doesn't even feel like bloatware. I am using samsung internet/notes instead of chrome and google keep. There is also a vapor chamber in base variant of s23, which you will not find in s22. Ram booster was turned on by default, giving me 8 GB of virtual RAM but I turned it off because I heard it reduces performance. All medium-end games run at 120 FPS, and samsung has their own app for real time monitoring. You will also get 6 months spotify premium (from Amazon) and 4 months of youtube premium (from samsung) with this.<br/><br/>I use spigen ultra hybrid case with Glazedinc tempered glass. Protip - Glazedinc.com tempered glass is compatiable with fingerprint sensor. I use their s23 tempered glass-real curved which works perfectly and costed me around ₹675 (not sponsored).<br/><br/>Phone is expensive and price should be set around 65K, but samsung is trying to become apple of android world. Whats worse is discount is there, but they will not give it to you directly, you have to use 3 different discounts to lower the MRP which is a scummy behaviour from Samsung. No reason to give additional 7K exchange bonus, if MRP itself was lowered by 7K. Also bank credit card discount are insane (around 8K). This will bring MRP in the range of 60K instead of 75K. My point is to give discount directly instead of bypassing it from somewhere. Also availing warranties and sales after service is bad, I still have to manually find out about youtube premium membership because samsung never mentioned it anywhere.<br/><br/>So, this is the best phone is premium segment apart from s23 ultra. If you are looking for a handy premium smartphone and can't manage big screen on s23 ultra, this is the way to go.<br/><br/>Edit 1. People should not use Samsung Smart switch to restore their data to new phone. I have heard it reduces battery life. Instead manually copy photos, contacts everything etc.<br/><br/>Edit 2. Moonshots on higher model i.e. s23 ultra are kinda fake since it uses ai scene optimizer to place a picture of moon on real moon. But nothing to worry about this model.<br/><br/>Edit 3. Don't use samsung smart switch to transfer files to your new phone. It is bugged and keeps draining battery. Manually transfer big files. If you had used it, you can factory reset your phone if you notice your battery life is not up to the mark. I didn't use smart switch and easily got 8 hours.</span>\n",
              " </span>,\n",
              " <span class=\"a-size-base review-text review-text-content\" data-hook=\"review-body\">\n",
              " <span>I got this phone just before making an international Trip. The phone served me really well. It's been super smooth and I've received a lot of compliments for my photos (Hey maybe that's also some part due to my skill, yes?).<br/><br/>But the phone has a great battery life, quite often I'd come back home with around 50% battery (with BT and Loc on).  Mostly not with Power Saver on, but I did keep it on on some days initially.<br/><br/>I hardly use the S-pen, mostly due to no habit, but it seems a cool addition for those with smaller hands. For me, I have giant Hands, so i can easily use the entire phone with my two hands.<br/><br/>I would recommend this phone if you are looking for a premium product. The specifications obviously show a significant difference between the Ultra and the normal Samsung S23.</span>\n",
              " </span>,\n",
              " <span class=\"a-size-base review-text review-text-content\" data-hook=\"review-body\">\n",
              " <span>Mine 8gb,256gb varient purchase after 1 month Someone says this phone cant perform in battery well lag blah blah...Dont care about creepy words just You use it then speak it...Once am charge its battery is very good See the screenshots i charge 1 or 2am at night, 8am office Solidly its give around 8 or 9pm with 15 percentage charge Am not heavy user its good for me...Smooth...Butter... Comfortable in hand No weight...i dont know in camera am not a camera lovers Samung only gives 4 yrs of os and 5 yrs of<br/>security patch ,Nowadays oneplus also say this os updates i think Its for sale purpose but Samsung say years ago for this software updates....finally<br/>Battery backup is very good *Note:its only 3900mah<br/>Battery is slow its okay i will do my things 😅<br/>Less weight<br/>Comfortable in hand<br/>Powerful chip<br/>Stereo speakers<br/>Charger and cases separately buy is totally messed<br/>Ultrasonic sensor finger print<br/>Display is always best for samsung mainly in s23 series<br/>Adaptive refreshing<br/>Inculding chinese phones give App lock,screenshot gestures,background play but Samsung...Nothing to give oh...Creepy<br/>This my user experience if u are normal user go for it...Best choice upto 2027.</span>\n",
              " </span>,\n",
              " <span class=\"a-size-base review-text review-text-content\" data-hook=\"review-body\">\n",
              " <span>Photocamera is excellent. Storage space is excellent. Battery life so-so. If you use it for gaming, or livestreaming battery goes off in less than half a day. Heats up outdoors even when you don't use it much. Has good screen brightness adaptability. Lightweight in hand. Not over the Moon with it though</span>\n",
              " </span>,\n",
              " <span class=\"a-size-base review-text review-text-content\" data-hook=\"review-body\">\n",
              " <span>I would say its the best ever compact flagship phone in the entire category of mobile.<br/>I had 2 choices in the same price bracket I.e. Iphone 14 &amp; S23 both phones have similar features in them but I chosed S23 over Iphone and remember by words it was my best decision ever ✨️<br/>Battery 10/10<br/>Display 10/10<br/>Performance 10/10<br/>UI 10/10<br/>5g Connectivity 10/10<br/>Value for money 10/10<br/>Camera 10/10<br/>Overall 10/10<br/>I would suggest if you have a budget of 80/90 K go for samsung!<br/>Best ever experience 😊</span>\n",
              " </span>]"
            ]
          },
          "metadata": {},
          "execution_count": 80
        }
      ]
    },
    {
      "cell_type": "code",
      "source": [
        "review_content=[]\n",
        "for i in range(0,len(r_content)):\n",
        "  review_content.append(r_content[i].get_text().replace('\\n',''))\n",
        "review_content"
      ],
      "metadata": {
        "id": "sd-vRbvLhCnv",
        "colab": {
          "base_uri": "https://localhost:8080/"
        },
        "outputId": "d3cf5762-3574-4e61-9f87-5a1e06f8fd65"
      },
      "execution_count": null,
      "outputs": [
        {
          "output_type": "execute_result",
          "data": {
            "text/plain": [
              "['After using Samsung Galaxy S23 Ultra for quite a bit as a daily driver and coming back to Samsung after a long time after using other smaller form factor phones like ONEPLUS 9, here\\'s what I think about this phone.PROS:- This phone has the best camera ever installed into a smartphone, hands-down! No other phone made in human history can ever come close to 1% of what Samsung Galaxy S23 Ultra\\'s cameras can do.- Performance is crazy! Not only it has Snapdragon 8Gen-2, but that too custom-made for Samsung Galaxy phones. You can play any games, run any apps and do whatever you\\'d want from a phone that is used at work, gaming, taking photos/videos and for personal use at the same time.- Rectangular form factor of this phone makes it so much comfortable and easy to hold. And it looks very premium too, which obviously is expected from a phone that costs this much.- OneUI has so many great features that they cannot be listed in one place. It brings a whole new meaning to \"smart\" in smartphones. Previously only Apple was making real smartphones that were actually smart and now with OneUI 5.1, Samsung has joined the league and probably done a better job than Apple at this point.- Good Lock modules + OneUI 5.1 has such a tremendous level of customization in terms of many aspects of the usability. It doesn\\'t have all of it, to which I\\'ll come in \"CONS\" section.- Charging time is good, reverse charging and wireless charging are such a sweet add-on that helps and makes the experience really good.- S-Pen does the wonders! Very useful specially for those who use their phone for professional work like eSigning and other precision work.- Build quality and software are really premium, you\\'ll know you\\'ve sold a kidney when you hold this phone in your hands and turn up the max resolution on display.- S23 Ultra is slightly more flat on sides as compared to S22 Ultra which makes it a more usable phone.CONS:- Now, since this phone has a curved display which adds no usability but makes it little difficult to use for people with smaller hands or to reach to corners with one hand, it becomes little hard to get used to this kind of display even if you\\'ve used a curved display phone with smaller form factor before because S23 Ultra is HUGE!- Another issue with curved screen, since there\\'s a decent curve in screen, finding a screen protector is really hard! Tempered glasses don\\'t fit well, they get spaced by covers/cases, Samsung officially doesn\\'t make tempered glass for S23 Ultra. Samsung sells a thin membrane sheet for ₹1,500/- which has a cutout for camera and collects dust. Having no screen protection means having your second kidney at risk too!- No charger in the box (ugh) and the cable that comes with it is really flimsy. Doesn\\'t look like it came with a flagship phone. ONEPLUS makes 10x better cables so better buy one from them.- A phone this expensive should have all the necessary features right? But the OneUI 5.1 doesn\\'t come with an app lock. Samsung Secure Folder is nice but not usable for a day-to-day use. Secure Folder is fine for hiding images and apps but not convenient for daily access. There\\'s no Good Lock module to have app lock either.- OneUI 5.1 (unlike many other UIs like OxygenOS 13 and ColorOS 13) doesn\\'t give option to rename apps in app drawer. Ability to use 3rd party icon packs just came recently. And installing a 3rd party launcher kind of ruins the UI for recent apps screen.- OneUI 5.1 requires installation of a 3rd party Good Lock module to even configure what icons will appear on your navigation bar.- Overall this is a really good phone, best I\\'d say! But OneUI 5.1 lacks some basic features which should\\'ve been implemented.- But other than these minor software issues and some hardware inconveniences, this phone is definitely a recommendation.',\n",
              " 'Every review that you have seen about this phone is true to quite an extent.Great camera, good features, and premium quality and is the perfect size for me. I would prefer a 6\" phone but that\\'s the best you can get. It\\'s a little on the heavier side but it doesn\\'t really matter if you are using headphones.The cons:1 - Battery drains really fast. The reviews I saw did not warn about it. This is my biggest grudge, having gone a bit over budget.2 - Samsung\\'s boring UI. BTW I never imagined I would buy a Samsung product. But seeing the comparos with iPhone 14, I felt I should give it a go. One Plus, for instance, gives a swipe option to go back to the previous page. Samsung still depends on the back button at the bottom of the phone. After using One Plus, this seems prehistoric and inconvenient. It would request Samsung if they make this small change.3 - For some weird reason, it takes very long to start. It\\'s a costly phone. I do not expect it to be so slow4 - Again, the reviews I watched said it only warms up a bit only if after heavy usage like gaming. This one heats up at times to the point of getting uncomfortable. However, it does get cooled down if you just close the apps.5 - 25W charging at this price is quite low but I understand. The heating issues of the previous models might have to do something with it.Hope my review will help you make an informed decision.',\n",
              " 'Bought 256GB variant for ₹73,500. Got same day delivery.Packaging could have been better. There were no bubble wraps. But the contents were intact.Now coming to the phone, since most people will be concerned about battery life, I will start with that, there is no need to worry. It comfortably lasts for a full day, provided that you are mostly on Wi-Fi. I have added screenshots of battery stats. For the first 3 stats the phone was connected to Wi-Fi for about 80% of the time. For the last one phone was on mobile data for 90% of the time. The phone takes around 1hr 15 mins to charge when using a 20 watt power adapter.Other aspects of the phone are also superb, like camera, smoothness of the UI. I hope Samsung doesn’t mess that up with software updates.PS: I am using the Ringke Fusion-X  case with the phone.',\n",
              " 'All are good.I m not satisfied with front camera.One more thing is that there is a heating issue whenever use Camara apps and data over mobile network.',\n",
              " 'I loved it. Before this Phone, I was using Samsung Galaxy FE 20 which is having heating and battery issues.I upgraded to this phone and everything is fantastic, with superior camera quality.The only missing thing was a charger.',\n",
              " \"This phone is a pefect upgrade from my old One plus. I had to make a hard choice between s22 and s23. I came to the conclusion that processor used in s22 (Snapdragon 8 gen 1) is inefficient. Infact it was one of the most inefficient processors produced by snapdragon+samsung in last 5 years in premium segment. That combined with low battery was just worse. So I decided to spend more money for this phone. Snapdragon 8 gen 2 is an actual successor of snapdragon and gives enormous battery life.After first charge, I was getting 8 hours SOT. Which is double from my old Oppo Oneplus (Haha). Plus I got upgrade on the first day, using 120 hz refresh rate with light performance mode while battery set to adaptive. I think I can push for 10 hour screen-on-time if I want to.Screen is perfect, samsung right now is the biggest supplier of screens in mobile market, so that's no doubt. Speakers are stereo and have dolby digital mode. The UI is top tier, samsung right now has the best UI in the market. The amazing things is the bloatware are so well integrated into samsung ecosystem that it doesn't even feel like bloatware. I am using samsung internet/notes instead of chrome and google keep. There is also a vapor chamber in base variant of s23, which you will not find in s22. Ram booster was turned on by default, giving me 8 GB of virtual RAM but I turned it off because I heard it reduces performance. All medium-end games run at 120 FPS, and samsung has their own app for real time monitoring. You will also get 6 months spotify premium (from Amazon) and 4 months of youtube premium (from samsung) with this.I use spigen ultra hybrid case with Glazedinc tempered glass. Protip - Glazedinc.com tempered glass is compatiable with fingerprint sensor. I use their s23 tempered glass-real curved which works perfectly and costed me around ₹675 (not sponsored).Phone is expensive and price should be set around 65K, but samsung is trying to become apple of android world. Whats worse is discount is there, but they will not give it to you directly, you have to use 3 different discounts to lower the MRP which is a scummy behaviour from Samsung. No reason to give additional 7K exchange bonus, if MRP itself was lowered by 7K. Also bank credit card discount are insane (around 8K). This will bring MRP in the range of 60K instead of 75K. My point is to give discount directly instead of bypassing it from somewhere. Also availing warranties and sales after service is bad, I still have to manually find out about youtube premium membership because samsung never mentioned it anywhere.So, this is the best phone is premium segment apart from s23 ultra. If you are looking for a handy premium smartphone and can't manage big screen on s23 ultra, this is the way to go.Edit 1. People should not use Samsung Smart switch to restore their data to new phone. I have heard it reduces battery life. Instead manually copy photos, contacts everything etc.Edit 2. Moonshots on higher model i.e. s23 ultra are kinda fake since it uses ai scene optimizer to place a picture of moon on real moon. But nothing to worry about this model.Edit 3. Don't use samsung smart switch to transfer files to your new phone. It is bugged and keeps draining battery. Manually transfer big files. If you had used it, you can factory reset your phone if you notice your battery life is not up to the mark. I didn't use smart switch and easily got 8 hours.\",\n",
              " \"I got this phone just before making an international Trip. The phone served me really well. It's been super smooth and I've received a lot of compliments for my photos (Hey maybe that's also some part due to my skill, yes?).But the phone has a great battery life, quite often I'd come back home with around 50% battery (with BT and Loc on).  Mostly not with Power Saver on, but I did keep it on on some days initially.I hardly use the S-pen, mostly due to no habit, but it seems a cool addition for those with smaller hands. For me, I have giant Hands, so i can easily use the entire phone with my two hands.I would recommend this phone if you are looking for a premium product. The specifications obviously show a significant difference between the Ultra and the normal Samsung S23.\",\n",
              " 'Mine 8gb,256gb varient purchase after 1 month Someone says this phone cant perform in battery well lag blah blah...Dont care about creepy words just You use it then speak it...Once am charge its battery is very good See the screenshots i charge 1 or 2am at night, 8am office Solidly its give around 8 or 9pm with 15 percentage charge Am not heavy user its good for me...Smooth...Butter... Comfortable in hand No weight...i dont know in camera am not a camera lovers Samung only gives 4 yrs of os and 5 yrs ofsecurity patch ,Nowadays oneplus also say this os updates i think Its for sale purpose but Samsung say years ago for this software updates....finallyBattery backup is very good *Note:its only 3900mahBattery is slow its okay i will do my things 😅Less weightComfortable in handPowerful chipStereo speakersCharger and cases separately buy is totally messedUltrasonic sensor finger printDisplay is always best for samsung mainly in s23 seriesAdaptive refreshingInculding chinese phones give App lock,screenshot gestures,background play but Samsung...Nothing to give oh...CreepyThis my user experience if u are normal user go for it...Best choice upto 2027.',\n",
              " \"Photocamera is excellent. Storage space is excellent. Battery life so-so. If you use it for gaming, or livestreaming battery goes off in less than half a day. Heats up outdoors even when you don't use it much. Has good screen brightness adaptability. Lightweight in hand. Not over the Moon with it though\",\n",
              " 'I would say its the best ever compact flagship phone in the entire category of mobile.I had 2 choices in the same price bracket I.e. Iphone 14 & S23 both phones have similar features in them but I chosed S23 over Iphone and remember by words it was my best decision ever ✨️Battery 10/10Display 10/10Performance 10/10UI 10/105g Connectivity 10/10Value for money 10/10Camera 10/10Overall 10/10I would suggest if you have a budget of 80/90 K go for samsung!Best ever experience 😊']"
            ]
          },
          "metadata": {},
          "execution_count": 81
        }
      ]
    },
    {
      "cell_type": "code",
      "source": [
        "len(review_content)"
      ],
      "metadata": {
        "colab": {
          "base_uri": "https://localhost:8080/"
        },
        "id": "vRL8qbaambzv",
        "outputId": "42d4f4ca-f6da-4c96-a31b-3986bb53407f"
      },
      "execution_count": null,
      "outputs": [
        {
          "output_type": "execute_result",
          "data": {
            "text/plain": [
              "10"
            ]
          },
          "metadata": {},
          "execution_count": 82
        }
      ]
    },
    {
      "cell_type": "code",
      "source": [
        "df['Review Title']=review_title\n",
        "df['Review Date']= review_date\n",
        "df['Review Rating']=review_rating\n",
        "df['Review Content']=review_content"
      ],
      "metadata": {
        "id": "wzkXN-3EhQnr",
        "colab": {
          "base_uri": "https://localhost:8080/"
        },
        "outputId": "56c0d7bf-b1cf-4417-e276-aea329b6e125"
      },
      "execution_count": null,
      "outputs": [
        {
          "output_type": "stream",
          "name": "stderr",
          "text": [
            "<ipython-input-83-6c9f1fbf7802>:1: SettingWithCopyWarning: \n",
            "A value is trying to be set on a copy of a slice from a DataFrame.\n",
            "Try using .loc[row_indexer,col_indexer] = value instead\n",
            "\n",
            "See the caveats in the documentation: https://pandas.pydata.org/pandas-docs/stable/user_guide/indexing.html#returning-a-view-versus-a-copy\n",
            "  df['Review Title']=review_title\n",
            "<ipython-input-83-6c9f1fbf7802>:2: SettingWithCopyWarning: \n",
            "A value is trying to be set on a copy of a slice from a DataFrame.\n",
            "Try using .loc[row_indexer,col_indexer] = value instead\n",
            "\n",
            "See the caveats in the documentation: https://pandas.pydata.org/pandas-docs/stable/user_guide/indexing.html#returning-a-view-versus-a-copy\n",
            "  df['Review Date']= review_date\n",
            "<ipython-input-83-6c9f1fbf7802>:3: SettingWithCopyWarning: \n",
            "A value is trying to be set on a copy of a slice from a DataFrame.\n",
            "Try using .loc[row_indexer,col_indexer] = value instead\n",
            "\n",
            "See the caveats in the documentation: https://pandas.pydata.org/pandas-docs/stable/user_guide/indexing.html#returning-a-view-versus-a-copy\n",
            "  df['Review Rating']=review_rating\n",
            "<ipython-input-83-6c9f1fbf7802>:4: SettingWithCopyWarning: \n",
            "A value is trying to be set on a copy of a slice from a DataFrame.\n",
            "Try using .loc[row_indexer,col_indexer] = value instead\n",
            "\n",
            "See the caveats in the documentation: https://pandas.pydata.org/pandas-docs/stable/user_guide/indexing.html#returning-a-view-versus-a-copy\n",
            "  df['Review Content']=review_content\n"
          ]
        }
      ]
    },
    {
      "cell_type": "code",
      "source": [
        "df"
      ],
      "metadata": {
        "colab": {
          "base_uri": "https://localhost:8080/",
          "height": 362
        },
        "id": "RUEvpi6XnoHr",
        "outputId": "519abbf1-6bf6-4ef4-ef75-e94e055297d7"
      },
      "execution_count": null,
      "outputs": [
        {
          "output_type": "execute_result",
          "data": {
            "text/plain": [
              "          Customer name                              Review Title  \\\n",
              "0         Aditya Sharma        The best smartphone money can buy!   \n",
              "1         Shahzad Zaman                    A premium phone but...   \n",
              "2                @jkmp3               Satisfied with the purchase   \n",
              "3                saiful         Good phone for compact size users   \n",
              "4           Yogendra S.                             Awesome Phone   \n",
              "5                 Singh                         The perfect beast   \n",
              "6                 Rohan  Great Product - Top Tier in all Products   \n",
              "7  Arunvignesh s/o Mani             After 1 month of this review,   \n",
              "8                  MarB                                   It's ok   \n",
              "9               Hasu t.                                 S23 8/256   \n",
              "\n",
              "        Review Date       Review Rating  \\\n",
              "0        7 May 2023  5.0 out of 5 stars   \n",
              "1       3 July 2023  4.0 out of 5 stars   \n",
              "2       29 May 2023  4.0 out of 5 stars   \n",
              "3       4 July 2023  4.0 out of 5 stars   \n",
              "4      10 July 2023  4.0 out of 5 stars   \n",
              "5  28 February 2023  5.0 out of 5 stars   \n",
              "6       2 July 2023  5.0 out of 5 stars   \n",
              "7     30 April 2023  4.0 out of 5 stars   \n",
              "8       3 July 2023  4.0 out of 5 stars   \n",
              "9      26 June 2023  5.0 out of 5 stars   \n",
              "\n",
              "                                      Review Content  \n",
              "0  After using Samsung Galaxy S23 Ultra for quite...  \n",
              "1  Every review that you have seen about this pho...  \n",
              "2  Bought 256GB variant for ₹73,500. Got same day...  \n",
              "3  All are good.I m not satisfied with front came...  \n",
              "4  I loved it. Before this Phone, I was using Sam...  \n",
              "5  This phone is a pefect upgrade from my old One...  \n",
              "6  I got this phone just before making an interna...  \n",
              "7  Mine 8gb,256gb varient purchase after 1 month ...  \n",
              "8  Photocamera is excellent. Storage space is exc...  \n",
              "9  I would say its the best ever compact flagship...  "
            ],
            "text/html": [
              "\n",
              "\n",
              "  <div id=\"df-9e3506cd-0740-4d7b-bf3d-a9367c3cc539\">\n",
              "    <div class=\"colab-df-container\">\n",
              "      <div>\n",
              "<style scoped>\n",
              "    .dataframe tbody tr th:only-of-type {\n",
              "        vertical-align: middle;\n",
              "    }\n",
              "\n",
              "    .dataframe tbody tr th {\n",
              "        vertical-align: top;\n",
              "    }\n",
              "\n",
              "    .dataframe thead th {\n",
              "        text-align: right;\n",
              "    }\n",
              "</style>\n",
              "<table border=\"1\" class=\"dataframe\">\n",
              "  <thead>\n",
              "    <tr style=\"text-align: right;\">\n",
              "      <th></th>\n",
              "      <th>Customer name</th>\n",
              "      <th>Review Title</th>\n",
              "      <th>Review Date</th>\n",
              "      <th>Review Rating</th>\n",
              "      <th>Review Content</th>\n",
              "    </tr>\n",
              "  </thead>\n",
              "  <tbody>\n",
              "    <tr>\n",
              "      <th>0</th>\n",
              "      <td>Aditya Sharma</td>\n",
              "      <td>The best smartphone money can buy!</td>\n",
              "      <td>7 May 2023</td>\n",
              "      <td>5.0 out of 5 stars</td>\n",
              "      <td>After using Samsung Galaxy S23 Ultra for quite...</td>\n",
              "    </tr>\n",
              "    <tr>\n",
              "      <th>1</th>\n",
              "      <td>Shahzad Zaman</td>\n",
              "      <td>A premium phone but...</td>\n",
              "      <td>3 July 2023</td>\n",
              "      <td>4.0 out of 5 stars</td>\n",
              "      <td>Every review that you have seen about this pho...</td>\n",
              "    </tr>\n",
              "    <tr>\n",
              "      <th>2</th>\n",
              "      <td>@jkmp3</td>\n",
              "      <td>Satisfied with the purchase</td>\n",
              "      <td>29 May 2023</td>\n",
              "      <td>4.0 out of 5 stars</td>\n",
              "      <td>Bought 256GB variant for ₹73,500. Got same day...</td>\n",
              "    </tr>\n",
              "    <tr>\n",
              "      <th>3</th>\n",
              "      <td>saiful</td>\n",
              "      <td>Good phone for compact size users</td>\n",
              "      <td>4 July 2023</td>\n",
              "      <td>4.0 out of 5 stars</td>\n",
              "      <td>All are good.I m not satisfied with front came...</td>\n",
              "    </tr>\n",
              "    <tr>\n",
              "      <th>4</th>\n",
              "      <td>Yogendra S.</td>\n",
              "      <td>Awesome Phone</td>\n",
              "      <td>10 July 2023</td>\n",
              "      <td>4.0 out of 5 stars</td>\n",
              "      <td>I loved it. Before this Phone, I was using Sam...</td>\n",
              "    </tr>\n",
              "    <tr>\n",
              "      <th>5</th>\n",
              "      <td>Singh</td>\n",
              "      <td>The perfect beast</td>\n",
              "      <td>28 February 2023</td>\n",
              "      <td>5.0 out of 5 stars</td>\n",
              "      <td>This phone is a pefect upgrade from my old One...</td>\n",
              "    </tr>\n",
              "    <tr>\n",
              "      <th>6</th>\n",
              "      <td>Rohan</td>\n",
              "      <td>Great Product - Top Tier in all Products</td>\n",
              "      <td>2 July 2023</td>\n",
              "      <td>5.0 out of 5 stars</td>\n",
              "      <td>I got this phone just before making an interna...</td>\n",
              "    </tr>\n",
              "    <tr>\n",
              "      <th>7</th>\n",
              "      <td>Arunvignesh s/o Mani</td>\n",
              "      <td>After 1 month of this review,</td>\n",
              "      <td>30 April 2023</td>\n",
              "      <td>4.0 out of 5 stars</td>\n",
              "      <td>Mine 8gb,256gb varient purchase after 1 month ...</td>\n",
              "    </tr>\n",
              "    <tr>\n",
              "      <th>8</th>\n",
              "      <td>MarB</td>\n",
              "      <td>It's ok</td>\n",
              "      <td>3 July 2023</td>\n",
              "      <td>4.0 out of 5 stars</td>\n",
              "      <td>Photocamera is excellent. Storage space is exc...</td>\n",
              "    </tr>\n",
              "    <tr>\n",
              "      <th>9</th>\n",
              "      <td>Hasu t.</td>\n",
              "      <td>S23 8/256</td>\n",
              "      <td>26 June 2023</td>\n",
              "      <td>5.0 out of 5 stars</td>\n",
              "      <td>I would say its the best ever compact flagship...</td>\n",
              "    </tr>\n",
              "  </tbody>\n",
              "</table>\n",
              "</div>\n",
              "      <button class=\"colab-df-convert\" onclick=\"convertToInteractive('df-9e3506cd-0740-4d7b-bf3d-a9367c3cc539')\"\n",
              "              title=\"Convert this dataframe to an interactive table.\"\n",
              "              style=\"display:none;\">\n",
              "\n",
              "  <svg xmlns=\"http://www.w3.org/2000/svg\" height=\"24px\"viewBox=\"0 0 24 24\"\n",
              "       width=\"24px\">\n",
              "    <path d=\"M0 0h24v24H0V0z\" fill=\"none\"/>\n",
              "    <path d=\"M18.56 5.44l.94 2.06.94-2.06 2.06-.94-2.06-.94-.94-2.06-.94 2.06-2.06.94zm-11 1L8.5 8.5l.94-2.06 2.06-.94-2.06-.94L8.5 2.5l-.94 2.06-2.06.94zm10 10l.94 2.06.94-2.06 2.06-.94-2.06-.94-.94-2.06-.94 2.06-2.06.94z\"/><path d=\"M17.41 7.96l-1.37-1.37c-.4-.4-.92-.59-1.43-.59-.52 0-1.04.2-1.43.59L10.3 9.45l-7.72 7.72c-.78.78-.78 2.05 0 2.83L4 21.41c.39.39.9.59 1.41.59.51 0 1.02-.2 1.41-.59l7.78-7.78 2.81-2.81c.8-.78.8-2.07 0-2.86zM5.41 20L4 18.59l7.72-7.72 1.47 1.35L5.41 20z\"/>\n",
              "  </svg>\n",
              "      </button>\n",
              "\n",
              "\n",
              "\n",
              "    <div id=\"df-f39b0517-7509-4102-b599-72a2fcee1d64\">\n",
              "      <button class=\"colab-df-quickchart\" onclick=\"quickchart('df-f39b0517-7509-4102-b599-72a2fcee1d64')\"\n",
              "              title=\"Suggest charts.\"\n",
              "              style=\"display:none;\">\n",
              "\n",
              "<svg xmlns=\"http://www.w3.org/2000/svg\" height=\"24px\"viewBox=\"0 0 24 24\"\n",
              "     width=\"24px\">\n",
              "    <g>\n",
              "        <path d=\"M19 3H5c-1.1 0-2 .9-2 2v14c0 1.1.9 2 2 2h14c1.1 0 2-.9 2-2V5c0-1.1-.9-2-2-2zM9 17H7v-7h2v7zm4 0h-2V7h2v10zm4 0h-2v-4h2v4z\"/>\n",
              "    </g>\n",
              "</svg>\n",
              "      </button>\n",
              "    </div>\n",
              "\n",
              "<style>\n",
              "  .colab-df-quickchart {\n",
              "    background-color: #E8F0FE;\n",
              "    border: none;\n",
              "    border-radius: 50%;\n",
              "    cursor: pointer;\n",
              "    display: none;\n",
              "    fill: #1967D2;\n",
              "    height: 32px;\n",
              "    padding: 0 0 0 0;\n",
              "    width: 32px;\n",
              "  }\n",
              "\n",
              "  .colab-df-quickchart:hover {\n",
              "    background-color: #E2EBFA;\n",
              "    box-shadow: 0px 1px 2px rgba(60, 64, 67, 0.3), 0px 1px 3px 1px rgba(60, 64, 67, 0.15);\n",
              "    fill: #174EA6;\n",
              "  }\n",
              "\n",
              "  [theme=dark] .colab-df-quickchart {\n",
              "    background-color: #3B4455;\n",
              "    fill: #D2E3FC;\n",
              "  }\n",
              "\n",
              "  [theme=dark] .colab-df-quickchart:hover {\n",
              "    background-color: #434B5C;\n",
              "    box-shadow: 0px 1px 3px 1px rgba(0, 0, 0, 0.15);\n",
              "    filter: drop-shadow(0px 1px 2px rgba(0, 0, 0, 0.3));\n",
              "    fill: #FFFFFF;\n",
              "  }\n",
              "</style>\n",
              "\n",
              "    <script>\n",
              "      async function quickchart(key) {\n",
              "        const containerElement = document.querySelector('#' + key);\n",
              "        const charts = await google.colab.kernel.invokeFunction(\n",
              "            'suggestCharts', [key], {});\n",
              "      }\n",
              "    </script>\n",
              "\n",
              "      <script>\n",
              "\n",
              "function displayQuickchartButton(domScope) {\n",
              "  let quickchartButtonEl =\n",
              "    domScope.querySelector('#df-f39b0517-7509-4102-b599-72a2fcee1d64 button.colab-df-quickchart');\n",
              "  quickchartButtonEl.style.display =\n",
              "    google.colab.kernel.accessAllowed ? 'block' : 'none';\n",
              "}\n",
              "\n",
              "        displayQuickchartButton(document);\n",
              "      </script>\n",
              "      <style>\n",
              "    .colab-df-container {\n",
              "      display:flex;\n",
              "      flex-wrap:wrap;\n",
              "      gap: 12px;\n",
              "    }\n",
              "\n",
              "    .colab-df-convert {\n",
              "      background-color: #E8F0FE;\n",
              "      border: none;\n",
              "      border-radius: 50%;\n",
              "      cursor: pointer;\n",
              "      display: none;\n",
              "      fill: #1967D2;\n",
              "      height: 32px;\n",
              "      padding: 0 0 0 0;\n",
              "      width: 32px;\n",
              "    }\n",
              "\n",
              "    .colab-df-convert:hover {\n",
              "      background-color: #E2EBFA;\n",
              "      box-shadow: 0px 1px 2px rgba(60, 64, 67, 0.3), 0px 1px 3px 1px rgba(60, 64, 67, 0.15);\n",
              "      fill: #174EA6;\n",
              "    }\n",
              "\n",
              "    [theme=dark] .colab-df-convert {\n",
              "      background-color: #3B4455;\n",
              "      fill: #D2E3FC;\n",
              "    }\n",
              "\n",
              "    [theme=dark] .colab-df-convert:hover {\n",
              "      background-color: #434B5C;\n",
              "      box-shadow: 0px 1px 3px 1px rgba(0, 0, 0, 0.15);\n",
              "      filter: drop-shadow(0px 1px 2px rgba(0, 0, 0, 0.3));\n",
              "      fill: #FFFFFF;\n",
              "    }\n",
              "  </style>\n",
              "\n",
              "      <script>\n",
              "        const buttonEl =\n",
              "          document.querySelector('#df-9e3506cd-0740-4d7b-bf3d-a9367c3cc539 button.colab-df-convert');\n",
              "        buttonEl.style.display =\n",
              "          google.colab.kernel.accessAllowed ? 'block' : 'none';\n",
              "\n",
              "        async function convertToInteractive(key) {\n",
              "          const element = document.querySelector('#df-9e3506cd-0740-4d7b-bf3d-a9367c3cc539');\n",
              "          const dataTable =\n",
              "            await google.colab.kernel.invokeFunction('convertToInteractive',\n",
              "                                                     [key], {});\n",
              "          if (!dataTable) return;\n",
              "\n",
              "          const docLinkHtml = 'Like what you see? Visit the ' +\n",
              "            '<a target=\"_blank\" href=https://colab.research.google.com/notebooks/data_table.ipynb>data table notebook</a>'\n",
              "            + ' to learn more about interactive tables.';\n",
              "          element.innerHTML = '';\n",
              "          dataTable['output_type'] = 'display_data';\n",
              "          await google.colab.output.renderOutput(dataTable, element);\n",
              "          const docLink = document.createElement('div');\n",
              "          docLink.innerHTML = docLinkHtml;\n",
              "          element.appendChild(docLink);\n",
              "        }\n",
              "      </script>\n",
              "    </div>\n",
              "  </div>\n"
            ]
          },
          "metadata": {},
          "execution_count": 84
        }
      ]
    },
    {
      "cell_type": "code",
      "source": [
        "import csv\n",
        "df.to_csv('Amazon_reviews.csv',index=False)\n"
      ],
      "metadata": {
        "id": "yuCaaOeBzwa-"
      },
      "execution_count": null,
      "outputs": []
    },
    {
      "cell_type": "code",
      "source": [
        "import pandas as pd\n",
        "df1=pd.read_csv('/content/Amazon_reviews.csv')\n",
        "df1"
      ],
      "metadata": {
        "colab": {
          "base_uri": "https://localhost:8080/",
          "height": 362
        },
        "id": "piXQEIN_0EVm",
        "outputId": "b6fa560b-f4aa-4350-b854-67729ddb32db"
      },
      "execution_count": null,
      "outputs": [
        {
          "output_type": "execute_result",
          "data": {
            "text/plain": [
              "          Customer name                              Review Title  \\\n",
              "0         Aditya Sharma        The best smartphone money can buy!   \n",
              "1         Shahzad Zaman                    A premium phone but...   \n",
              "2                @jkmp3               Satisfied with the purchase   \n",
              "3                saiful         Good phone for compact size users   \n",
              "4           Yogendra S.                             Awesome Phone   \n",
              "5                 Singh                         The perfect beast   \n",
              "6                 Rohan  Great Product - Top Tier in all Products   \n",
              "7  Arunvignesh s/o Mani             After 1 month of this review,   \n",
              "8                  MarB                                   It's ok   \n",
              "9               Hasu t.                                 S23 8/256   \n",
              "\n",
              "        Review Date       Review Rating  \\\n",
              "0        7 May 2023  5.0 out of 5 stars   \n",
              "1       3 July 2023  4.0 out of 5 stars   \n",
              "2       29 May 2023  4.0 out of 5 stars   \n",
              "3       4 July 2023  4.0 out of 5 stars   \n",
              "4      10 July 2023  4.0 out of 5 stars   \n",
              "5  28 February 2023  5.0 out of 5 stars   \n",
              "6       2 July 2023  5.0 out of 5 stars   \n",
              "7     30 April 2023  4.0 out of 5 stars   \n",
              "8       3 July 2023  4.0 out of 5 stars   \n",
              "9      26 June 2023  5.0 out of 5 stars   \n",
              "\n",
              "                                      Review Content  \n",
              "0  After using Samsung Galaxy S23 Ultra for quite...  \n",
              "1  Every review that you have seen about this pho...  \n",
              "2  Bought 256GB variant for ₹73,500. Got same day...  \n",
              "3  All are good.I m not satisfied with front came...  \n",
              "4  I loved it. Before this Phone, I was using Sam...  \n",
              "5  This phone is a pefect upgrade from my old One...  \n",
              "6  I got this phone just before making an interna...  \n",
              "7  Mine 8gb,256gb varient purchase after 1 month ...  \n",
              "8  Photocamera is excellent. Storage space is exc...  \n",
              "9  I would say its the best ever compact flagship...  "
            ],
            "text/html": [
              "\n",
              "\n",
              "  <div id=\"df-235041d9-55ad-4b9a-9368-e1273444ef35\">\n",
              "    <div class=\"colab-df-container\">\n",
              "      <div>\n",
              "<style scoped>\n",
              "    .dataframe tbody tr th:only-of-type {\n",
              "        vertical-align: middle;\n",
              "    }\n",
              "\n",
              "    .dataframe tbody tr th {\n",
              "        vertical-align: top;\n",
              "    }\n",
              "\n",
              "    .dataframe thead th {\n",
              "        text-align: right;\n",
              "    }\n",
              "</style>\n",
              "<table border=\"1\" class=\"dataframe\">\n",
              "  <thead>\n",
              "    <tr style=\"text-align: right;\">\n",
              "      <th></th>\n",
              "      <th>Customer name</th>\n",
              "      <th>Review Title</th>\n",
              "      <th>Review Date</th>\n",
              "      <th>Review Rating</th>\n",
              "      <th>Review Content</th>\n",
              "    </tr>\n",
              "  </thead>\n",
              "  <tbody>\n",
              "    <tr>\n",
              "      <th>0</th>\n",
              "      <td>Aditya Sharma</td>\n",
              "      <td>The best smartphone money can buy!</td>\n",
              "      <td>7 May 2023</td>\n",
              "      <td>5.0 out of 5 stars</td>\n",
              "      <td>After using Samsung Galaxy S23 Ultra for quite...</td>\n",
              "    </tr>\n",
              "    <tr>\n",
              "      <th>1</th>\n",
              "      <td>Shahzad Zaman</td>\n",
              "      <td>A premium phone but...</td>\n",
              "      <td>3 July 2023</td>\n",
              "      <td>4.0 out of 5 stars</td>\n",
              "      <td>Every review that you have seen about this pho...</td>\n",
              "    </tr>\n",
              "    <tr>\n",
              "      <th>2</th>\n",
              "      <td>@jkmp3</td>\n",
              "      <td>Satisfied with the purchase</td>\n",
              "      <td>29 May 2023</td>\n",
              "      <td>4.0 out of 5 stars</td>\n",
              "      <td>Bought 256GB variant for ₹73,500. Got same day...</td>\n",
              "    </tr>\n",
              "    <tr>\n",
              "      <th>3</th>\n",
              "      <td>saiful</td>\n",
              "      <td>Good phone for compact size users</td>\n",
              "      <td>4 July 2023</td>\n",
              "      <td>4.0 out of 5 stars</td>\n",
              "      <td>All are good.I m not satisfied with front came...</td>\n",
              "    </tr>\n",
              "    <tr>\n",
              "      <th>4</th>\n",
              "      <td>Yogendra S.</td>\n",
              "      <td>Awesome Phone</td>\n",
              "      <td>10 July 2023</td>\n",
              "      <td>4.0 out of 5 stars</td>\n",
              "      <td>I loved it. Before this Phone, I was using Sam...</td>\n",
              "    </tr>\n",
              "    <tr>\n",
              "      <th>5</th>\n",
              "      <td>Singh</td>\n",
              "      <td>The perfect beast</td>\n",
              "      <td>28 February 2023</td>\n",
              "      <td>5.0 out of 5 stars</td>\n",
              "      <td>This phone is a pefect upgrade from my old One...</td>\n",
              "    </tr>\n",
              "    <tr>\n",
              "      <th>6</th>\n",
              "      <td>Rohan</td>\n",
              "      <td>Great Product - Top Tier in all Products</td>\n",
              "      <td>2 July 2023</td>\n",
              "      <td>5.0 out of 5 stars</td>\n",
              "      <td>I got this phone just before making an interna...</td>\n",
              "    </tr>\n",
              "    <tr>\n",
              "      <th>7</th>\n",
              "      <td>Arunvignesh s/o Mani</td>\n",
              "      <td>After 1 month of this review,</td>\n",
              "      <td>30 April 2023</td>\n",
              "      <td>4.0 out of 5 stars</td>\n",
              "      <td>Mine 8gb,256gb varient purchase after 1 month ...</td>\n",
              "    </tr>\n",
              "    <tr>\n",
              "      <th>8</th>\n",
              "      <td>MarB</td>\n",
              "      <td>It's ok</td>\n",
              "      <td>3 July 2023</td>\n",
              "      <td>4.0 out of 5 stars</td>\n",
              "      <td>Photocamera is excellent. Storage space is exc...</td>\n",
              "    </tr>\n",
              "    <tr>\n",
              "      <th>9</th>\n",
              "      <td>Hasu t.</td>\n",
              "      <td>S23 8/256</td>\n",
              "      <td>26 June 2023</td>\n",
              "      <td>5.0 out of 5 stars</td>\n",
              "      <td>I would say its the best ever compact flagship...</td>\n",
              "    </tr>\n",
              "  </tbody>\n",
              "</table>\n",
              "</div>\n",
              "      <button class=\"colab-df-convert\" onclick=\"convertToInteractive('df-235041d9-55ad-4b9a-9368-e1273444ef35')\"\n",
              "              title=\"Convert this dataframe to an interactive table.\"\n",
              "              style=\"display:none;\">\n",
              "\n",
              "  <svg xmlns=\"http://www.w3.org/2000/svg\" height=\"24px\"viewBox=\"0 0 24 24\"\n",
              "       width=\"24px\">\n",
              "    <path d=\"M0 0h24v24H0V0z\" fill=\"none\"/>\n",
              "    <path d=\"M18.56 5.44l.94 2.06.94-2.06 2.06-.94-2.06-.94-.94-2.06-.94 2.06-2.06.94zm-11 1L8.5 8.5l.94-2.06 2.06-.94-2.06-.94L8.5 2.5l-.94 2.06-2.06.94zm10 10l.94 2.06.94-2.06 2.06-.94-2.06-.94-.94-2.06-.94 2.06-2.06.94z\"/><path d=\"M17.41 7.96l-1.37-1.37c-.4-.4-.92-.59-1.43-.59-.52 0-1.04.2-1.43.59L10.3 9.45l-7.72 7.72c-.78.78-.78 2.05 0 2.83L4 21.41c.39.39.9.59 1.41.59.51 0 1.02-.2 1.41-.59l7.78-7.78 2.81-2.81c.8-.78.8-2.07 0-2.86zM5.41 20L4 18.59l7.72-7.72 1.47 1.35L5.41 20z\"/>\n",
              "  </svg>\n",
              "      </button>\n",
              "\n",
              "\n",
              "\n",
              "    <div id=\"df-4c936230-0324-48d2-adf3-69bada5f299e\">\n",
              "      <button class=\"colab-df-quickchart\" onclick=\"quickchart('df-4c936230-0324-48d2-adf3-69bada5f299e')\"\n",
              "              title=\"Suggest charts.\"\n",
              "              style=\"display:none;\">\n",
              "\n",
              "<svg xmlns=\"http://www.w3.org/2000/svg\" height=\"24px\"viewBox=\"0 0 24 24\"\n",
              "     width=\"24px\">\n",
              "    <g>\n",
              "        <path d=\"M19 3H5c-1.1 0-2 .9-2 2v14c0 1.1.9 2 2 2h14c1.1 0 2-.9 2-2V5c0-1.1-.9-2-2-2zM9 17H7v-7h2v7zm4 0h-2V7h2v10zm4 0h-2v-4h2v4z\"/>\n",
              "    </g>\n",
              "</svg>\n",
              "      </button>\n",
              "    </div>\n",
              "\n",
              "<style>\n",
              "  .colab-df-quickchart {\n",
              "    background-color: #E8F0FE;\n",
              "    border: none;\n",
              "    border-radius: 50%;\n",
              "    cursor: pointer;\n",
              "    display: none;\n",
              "    fill: #1967D2;\n",
              "    height: 32px;\n",
              "    padding: 0 0 0 0;\n",
              "    width: 32px;\n",
              "  }\n",
              "\n",
              "  .colab-df-quickchart:hover {\n",
              "    background-color: #E2EBFA;\n",
              "    box-shadow: 0px 1px 2px rgba(60, 64, 67, 0.3), 0px 1px 3px 1px rgba(60, 64, 67, 0.15);\n",
              "    fill: #174EA6;\n",
              "  }\n",
              "\n",
              "  [theme=dark] .colab-df-quickchart {\n",
              "    background-color: #3B4455;\n",
              "    fill: #D2E3FC;\n",
              "  }\n",
              "\n",
              "  [theme=dark] .colab-df-quickchart:hover {\n",
              "    background-color: #434B5C;\n",
              "    box-shadow: 0px 1px 3px 1px rgba(0, 0, 0, 0.15);\n",
              "    filter: drop-shadow(0px 1px 2px rgba(0, 0, 0, 0.3));\n",
              "    fill: #FFFFFF;\n",
              "  }\n",
              "</style>\n",
              "\n",
              "    <script>\n",
              "      async function quickchart(key) {\n",
              "        const containerElement = document.querySelector('#' + key);\n",
              "        const charts = await google.colab.kernel.invokeFunction(\n",
              "            'suggestCharts', [key], {});\n",
              "      }\n",
              "    </script>\n",
              "\n",
              "      <script>\n",
              "\n",
              "function displayQuickchartButton(domScope) {\n",
              "  let quickchartButtonEl =\n",
              "    domScope.querySelector('#df-4c936230-0324-48d2-adf3-69bada5f299e button.colab-df-quickchart');\n",
              "  quickchartButtonEl.style.display =\n",
              "    google.colab.kernel.accessAllowed ? 'block' : 'none';\n",
              "}\n",
              "\n",
              "        displayQuickchartButton(document);\n",
              "      </script>\n",
              "      <style>\n",
              "    .colab-df-container {\n",
              "      display:flex;\n",
              "      flex-wrap:wrap;\n",
              "      gap: 12px;\n",
              "    }\n",
              "\n",
              "    .colab-df-convert {\n",
              "      background-color: #E8F0FE;\n",
              "      border: none;\n",
              "      border-radius: 50%;\n",
              "      cursor: pointer;\n",
              "      display: none;\n",
              "      fill: #1967D2;\n",
              "      height: 32px;\n",
              "      padding: 0 0 0 0;\n",
              "      width: 32px;\n",
              "    }\n",
              "\n",
              "    .colab-df-convert:hover {\n",
              "      background-color: #E2EBFA;\n",
              "      box-shadow: 0px 1px 2px rgba(60, 64, 67, 0.3), 0px 1px 3px 1px rgba(60, 64, 67, 0.15);\n",
              "      fill: #174EA6;\n",
              "    }\n",
              "\n",
              "    [theme=dark] .colab-df-convert {\n",
              "      background-color: #3B4455;\n",
              "      fill: #D2E3FC;\n",
              "    }\n",
              "\n",
              "    [theme=dark] .colab-df-convert:hover {\n",
              "      background-color: #434B5C;\n",
              "      box-shadow: 0px 1px 3px 1px rgba(0, 0, 0, 0.15);\n",
              "      filter: drop-shadow(0px 1px 2px rgba(0, 0, 0, 0.3));\n",
              "      fill: #FFFFFF;\n",
              "    }\n",
              "  </style>\n",
              "\n",
              "      <script>\n",
              "        const buttonEl =\n",
              "          document.querySelector('#df-235041d9-55ad-4b9a-9368-e1273444ef35 button.colab-df-convert');\n",
              "        buttonEl.style.display =\n",
              "          google.colab.kernel.accessAllowed ? 'block' : 'none';\n",
              "\n",
              "        async function convertToInteractive(key) {\n",
              "          const element = document.querySelector('#df-235041d9-55ad-4b9a-9368-e1273444ef35');\n",
              "          const dataTable =\n",
              "            await google.colab.kernel.invokeFunction('convertToInteractive',\n",
              "                                                     [key], {});\n",
              "          if (!dataTable) return;\n",
              "\n",
              "          const docLinkHtml = 'Like what you see? Visit the ' +\n",
              "            '<a target=\"_blank\" href=https://colab.research.google.com/notebooks/data_table.ipynb>data table notebook</a>'\n",
              "            + ' to learn more about interactive tables.';\n",
              "          element.innerHTML = '';\n",
              "          dataTable['output_type'] = 'display_data';\n",
              "          await google.colab.output.renderOutput(dataTable, element);\n",
              "          const docLink = document.createElement('div');\n",
              "          docLink.innerHTML = docLinkHtml;\n",
              "          element.appendChild(docLink);\n",
              "        }\n",
              "      </script>\n",
              "    </div>\n",
              "  </div>\n"
            ]
          },
          "metadata": {},
          "execution_count": 86
        }
      ]
    },
    {
      "cell_type": "code",
      "source": [
        "import matplotlib.pyplot as plt\n",
        "rating_counts=df1['Review Rating'].value_counts()\n",
        "rating_counts\n"
      ],
      "metadata": {
        "colab": {
          "base_uri": "https://localhost:8080/"
        },
        "id": "rCqtRPBJ1VzQ",
        "outputId": "b60f40c8-95b5-46a2-a64a-6f953ecbc5dc"
      },
      "execution_count": null,
      "outputs": [
        {
          "output_type": "execute_result",
          "data": {
            "text/plain": [
              "4.0 out of 5 stars    6\n",
              "5.0 out of 5 stars    4\n",
              "Name: Review Rating, dtype: int64"
            ]
          },
          "metadata": {},
          "execution_count": 89
        }
      ]
    },
    {
      "cell_type": "code",
      "source": [
        "plt.figure(figsize=(6,6))\n",
        "rating_counts.plot(kind='bar')\n",
        "plt.title('Count of Review Rating of 10 sample')\n",
        "plt.show()"
      ],
      "metadata": {
        "colab": {
          "base_uri": "https://localhost:8080/",
          "height": 649
        },
        "id": "2hn7aDke7MG3",
        "outputId": "e5eb2fe8-ee45-4e48-f3f6-18c0a6d6e591"
      },
      "execution_count": null,
      "outputs": [
        {
          "output_type": "display_data",
          "data": {
            "text/plain": [
              "<Figure size 600x600 with 1 Axes>"
            ],
            "image/png": "[encoded data removed]"
          },
          "metadata": {}
        }
      ]
    }
  ]
}