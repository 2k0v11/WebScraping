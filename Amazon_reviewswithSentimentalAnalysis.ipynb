{
  "cells": [
    {
      "cell_type": "markdown",
      "metadata": {
        "colab_type": "text",
        "id": "view-in-github"
      },
      "source": [
        "<a href=\"https://colab.research.google.com/github/2k0v11/WebScrapping/blob/main/Amazon_reviews.ipynb\" target=\"_parent\"><img src=\"https://colab.research.google.com/assets/colab-badge.svg\" alt=\"Open In Colab\"/></a>"
      ]
    },
    {
      "cell_type": "code",
      "execution_count": 1,
      "metadata": {
        "id": "GQLb6pqIMVSd"
      },
      "outputs": [],
      "source": [
        "import requests\n",
        "from bs4 import BeautifulSoup as bs\n",
        "#bs4 is a package and BeautifulSoup is a Library\n"
      ]
    },
    {
      "cell_type": "code",
      "execution_count": 2,
      "metadata": {
        "colab": {
          "base_uri": "https://localhost:8080/"
        },
        "id": "acnvQsXZOVSm",
        "outputId": "21ed125f-802e-49c5-b9fd-36479fef1192"
      },
      "outputs": [
        {
          "data": {
            "text/plain": [
              "<Response [200]>"
            ]
          },
          "execution_count": 2,
          "metadata": {},
          "output_type": "execute_result"
        }
      ],
      "source": [
        "url='https://www.amazon.in/Samsung-Galaxy-Ultra-Phantom-Storage/product-reviews/B0BT9FDZ8N/ref=cm_cr_dp_d_show_all_btm?ie=UTF8&reviewerType=all_reviews'\n",
        "page=requests.get(url) #the requests library is requesting for the url to be fethed\n",
        "page                   #response[200]-all okay,response[503]-check for proper url"
      ]
    },
    {
      "cell_type": "code",
      "execution_count": null,
      "metadata": {},
      "outputs": [],
      "source": [
        "soup= bs(page.content,'html.parser')\n",
        "soup #soup variable has the full source code of the webpage\n",
        "     #html.parser - displays our code in a better readable format\n"
      ]
    },
    {
      "cell_type": "code",
      "execution_count": 5,
      "metadata": {
        "colab": {
          "base_uri": "https://localhost:8080/"
        },
        "id": "pnq_C8bgQD7f",
        "outputId": "e6311d01-c3ad-41ac-fb87-f8ad8ba78c6a"
      },
      "outputs": [
        {
          "data": {
            "text/plain": [
              "[<span class=\"a-profile-name\">Aditya Sharma</span>,\n",
              " <span class=\"a-profile-name\">Aditya Sharma</span>,\n",
              " <span class=\"a-profile-name\">Sukoon Sharma</span>,\n",
              " <span class=\"a-profile-name\">GMSPun</span>,\n",
              " <span class=\"a-profile-name\">Farcry3413</span>,\n",
              " <span class=\"a-profile-name\">Karmicfruits</span>,\n",
              " <span class=\"a-profile-name\">Sammy</span>,\n",
              " <span class=\"a-profile-name\">Sammy</span>,\n",
              " <span class=\"a-profile-name\">pranay b bhoir</span>,\n",
              " <span class=\"a-profile-name\">amit</span>,\n",
              " <span class=\"a-profile-name\">amit</span>,\n",
              " <span class=\"a-profile-name\">Bose</span>,\n",
              " <span class=\"a-profile-name\">Niteesh</span>]"
            ]
          },
          "execution_count": 5,
          "metadata": {},
          "output_type": "execute_result"
        }
      ],
      "source": [
        "names=soup.find_all('span',class_ ='a-profile-name')[2:]\n",
        "names\n",
        "#Removed the top-positive and top-critical review"
      ]
    },
    {
      "cell_type": "code",
      "execution_count": 6,
      "metadata": {
        "colab": {
          "base_uri": "https://localhost:8080/",
          "height": 488
        },
        "id": "BJFAfzaGRWrS",
        "outputId": "0a65ef91-736a-4113-f928-d9e452618d94"
      },
      "outputs": [
        {
          "data": {
            "text/html": [
              "<div>\n",
              "<style scoped>\n",
              "    .dataframe tbody tr th:only-of-type {\n",
              "        vertical-align: middle;\n",
              "    }\n",
              "\n",
              "    .dataframe tbody tr th {\n",
              "        vertical-align: top;\n",
              "    }\n",
              "\n",
              "    .dataframe thead th {\n",
              "        text-align: right;\n",
              "    }\n",
              "</style>\n",
              "<table border=\"1\" class=\"dataframe\">\n",
              "  <thead>\n",
              "    <tr style=\"text-align: right;\">\n",
              "      <th></th>\n",
              "      <th>Customer name</th>\n",
              "    </tr>\n",
              "  </thead>\n",
              "  <tbody>\n",
              "    <tr>\n",
              "      <th>0</th>\n",
              "      <td>Aditya Sharma</td>\n",
              "    </tr>\n",
              "    <tr>\n",
              "      <th>1</th>\n",
              "      <td>Aditya Sharma</td>\n",
              "    </tr>\n",
              "    <tr>\n",
              "      <th>2</th>\n",
              "      <td>Sukoon Sharma</td>\n",
              "    </tr>\n",
              "    <tr>\n",
              "      <th>3</th>\n",
              "      <td>GMSPun</td>\n",
              "    </tr>\n",
              "    <tr>\n",
              "      <th>4</th>\n",
              "      <td>Farcry3413</td>\n",
              "    </tr>\n",
              "    <tr>\n",
              "      <th>5</th>\n",
              "      <td>Karmicfruits</td>\n",
              "    </tr>\n",
              "    <tr>\n",
              "      <th>6</th>\n",
              "      <td>Sammy</td>\n",
              "    </tr>\n",
              "    <tr>\n",
              "      <th>7</th>\n",
              "      <td>Sammy</td>\n",
              "    </tr>\n",
              "    <tr>\n",
              "      <th>8</th>\n",
              "      <td>pranay b bhoir</td>\n",
              "    </tr>\n",
              "    <tr>\n",
              "      <th>9</th>\n",
              "      <td>amit</td>\n",
              "    </tr>\n",
              "    <tr>\n",
              "      <th>10</th>\n",
              "      <td>amit</td>\n",
              "    </tr>\n",
              "    <tr>\n",
              "      <th>11</th>\n",
              "      <td>Bose</td>\n",
              "    </tr>\n",
              "    <tr>\n",
              "      <th>12</th>\n",
              "      <td>Niteesh</td>\n",
              "    </tr>\n",
              "  </tbody>\n",
              "</table>\n",
              "</div>"
            ],
            "text/plain": [
              "     Customer name\n",
              "0    Aditya Sharma\n",
              "1    Aditya Sharma\n",
              "2    Sukoon Sharma\n",
              "3           GMSPun\n",
              "4       Farcry3413\n",
              "5     Karmicfruits\n",
              "6            Sammy\n",
              "7            Sammy\n",
              "8   pranay b bhoir\n",
              "9             amit\n",
              "10            amit\n",
              "11            Bose\n",
              "12         Niteesh"
            ]
          },
          "execution_count": 6,
          "metadata": {},
          "output_type": "execute_result"
        }
      ],
      "source": [
        "import pandas as pd\n",
        "df=pd.DataFrame(names,columns= ['Customer name'])\n",
        "df"
      ]
    },
    {
      "cell_type": "code",
      "execution_count": 7,
      "metadata": {
        "colab": {
          "base_uri": "https://localhost:8080/",
          "height": 362
        },
        "id": "fKGnqe6vTg6U",
        "outputId": "f2033bc3-a850-4346-ab88-20744ed9907d"
      },
      "outputs": [
        {
          "data": {
            "text/html": [
              "<div>\n",
              "<style scoped>\n",
              "    .dataframe tbody tr th:only-of-type {\n",
              "        vertical-align: middle;\n",
              "    }\n",
              "\n",
              "    .dataframe tbody tr th {\n",
              "        vertical-align: top;\n",
              "    }\n",
              "\n",
              "    .dataframe thead th {\n",
              "        text-align: right;\n",
              "    }\n",
              "</style>\n",
              "<table border=\"1\" class=\"dataframe\">\n",
              "  <thead>\n",
              "    <tr style=\"text-align: right;\">\n",
              "      <th></th>\n",
              "      <th>Customer name</th>\n",
              "    </tr>\n",
              "  </thead>\n",
              "  <tbody>\n",
              "    <tr>\n",
              "      <th>0</th>\n",
              "      <td>Aditya Sharma</td>\n",
              "    </tr>\n",
              "    <tr>\n",
              "      <th>1</th>\n",
              "      <td>Sukoon Sharma</td>\n",
              "    </tr>\n",
              "    <tr>\n",
              "      <th>2</th>\n",
              "      <td>GMSPun</td>\n",
              "    </tr>\n",
              "    <tr>\n",
              "      <th>3</th>\n",
              "      <td>Farcry3413</td>\n",
              "    </tr>\n",
              "    <tr>\n",
              "      <th>4</th>\n",
              "      <td>Karmicfruits</td>\n",
              "    </tr>\n",
              "    <tr>\n",
              "      <th>5</th>\n",
              "      <td>Sammy</td>\n",
              "    </tr>\n",
              "    <tr>\n",
              "      <th>6</th>\n",
              "      <td>pranay b bhoir</td>\n",
              "    </tr>\n",
              "    <tr>\n",
              "      <th>7</th>\n",
              "      <td>amit</td>\n",
              "    </tr>\n",
              "    <tr>\n",
              "      <th>8</th>\n",
              "      <td>Bose</td>\n",
              "    </tr>\n",
              "    <tr>\n",
              "      <th>9</th>\n",
              "      <td>Niteesh</td>\n",
              "    </tr>\n",
              "  </tbody>\n",
              "</table>\n",
              "</div>"
            ],
            "text/plain": [
              "    Customer name\n",
              "0   Aditya Sharma\n",
              "1   Sukoon Sharma\n",
              "2          GMSPun\n",
              "3      Farcry3413\n",
              "4    Karmicfruits\n",
              "5           Sammy\n",
              "6  pranay b bhoir\n",
              "7            amit\n",
              "8            Bose\n",
              "9         Niteesh"
            ]
          },
          "execution_count": 7,
          "metadata": {},
          "output_type": "execute_result"
        }
      ],
      "source": [
        "df=df.drop_duplicates(ignore_index=True)\n",
        "df"
      ]
    },
    {
      "cell_type": "code",
      "execution_count": 8,
      "metadata": {
        "colab": {
          "base_uri": "https://localhost:8080/"
        },
        "id": "80IHOgjaT96F",
        "outputId": "f3f81c38-ac9c-4236-856b-8eecc950e883"
      },
      "outputs": [
        {
          "data": {
            "text/plain": [
              "[<a class=\"a-size-base a-link-normal review-title a-color-base review-title-content a-text-bold\" data-hook=\"review-title\" href=\"/gp/customer-reviews/R2QZSLVWHDNM4J?ASIN=B0BT9FDZ8N\"><i class=\"a-icon a-icon-star a-star-5 review-rating\" data-hook=\"review-star-rating\"><span class=\"a-icon-alt\">5.0 out of 5 stars</span></i><span class=\"a-letter-space\"></span>\n",
              " <span>The best smartphone money can buy!</span>\n",
              " </a>,\n",
              " <a class=\"a-size-base a-link-normal review-title a-color-base review-title-content a-text-bold\" data-hook=\"review-title\" href=\"/gp/customer-reviews/R2M44U1C1YIK1L?ASIN=B0BT9FDZ8N\"><i class=\"a-icon a-icon-star a-star-5 review-rating\" data-hook=\"review-star-rating\"><span class=\"a-icon-alt\">5.0 out of 5 stars</span></i><span class=\"a-letter-space\"></span>\n",
              " <span>This is the best Android has to offer</span>\n",
              " </a>,\n",
              " <a class=\"a-size-base a-link-normal review-title a-color-base review-title-content a-text-bold\" data-hook=\"review-title\" href=\"/gp/customer-reviews/R3F0PIGUD98QE6?ASIN=B0BT9FDZ8N\"><i class=\"a-icon a-icon-star a-star-5 review-rating\" data-hook=\"review-star-rating\"><span class=\"a-icon-alt\">5.0 out of 5 stars</span></i><span class=\"a-letter-space\"></span>\n",
              " <span>Excellent product</span>\n",
              " </a>,\n",
              " <a class=\"a-size-base a-link-normal review-title a-color-base review-title-content a-text-bold\" data-hook=\"review-title\" href=\"/gp/customer-reviews/R2PEFD11INY90N?ASIN=B0BT9FDZ8N\"><i class=\"a-icon a-icon-star a-star-5 review-rating\" data-hook=\"review-star-rating\"><span class=\"a-icon-alt\">5.0 out of 5 stars</span></i><span class=\"a-letter-space\"></span>\n",
              " <span>Best phone in 2023</span>\n",
              " </a>,\n",
              " <a class=\"a-size-base a-link-normal review-title a-color-base review-title-content a-text-bold\" data-hook=\"review-title\" href=\"/gp/customer-reviews/R1PT64P3AKB60F?ASIN=B0BT9FDZ8N\"><i class=\"a-icon a-icon-star a-star-4 review-rating\" data-hook=\"review-star-rating\"><span class=\"a-icon-alt\">4.0 out of 5 stars</span></i><span class=\"a-letter-space\"></span>\n",
              " <span>Amazing phone but oversharpened images.</span>\n",
              " </a>,\n",
              " <a class=\"a-size-base a-link-normal review-title a-color-base review-title-content a-text-bold\" data-hook=\"review-title\" href=\"/gp/customer-reviews/R3FE0XA90PJ2YC?ASIN=B0BT9FDZ8N\"><i class=\"a-icon a-icon-star a-star-5 review-rating\" data-hook=\"review-star-rating\"><span class=\"a-icon-alt\">5.0 out of 5 stars</span></i><span class=\"a-letter-space\"></span>\n",
              " <span>Moon Picture wasn't Hyped</span>\n",
              " </a>,\n",
              " <a class=\"a-size-base a-link-normal review-title a-color-base review-title-content a-text-bold\" data-hook=\"review-title\" href=\"/gp/customer-reviews/RKPA46DYOUKQN?ASIN=B0BT9FDZ8N\"><i class=\"a-icon a-icon-star a-star-5 review-rating\" data-hook=\"review-star-rating\"><span class=\"a-icon-alt\">5.0 out of 5 stars</span></i><span class=\"a-letter-space\"></span>\n",
              " <span>Good phone , compared for pixel 7 pro and apple 14 pro.</span>\n",
              " </a>,\n",
              " <a class=\"a-size-base a-link-normal review-title a-color-base review-title-content a-text-bold\" data-hook=\"review-title\" href=\"/gp/customer-reviews/R1UE23TT40DWF2?ASIN=B0BT9FDZ8N\"><i class=\"a-icon a-icon-star a-star-3 review-rating\" data-hook=\"review-star-rating\"><span class=\"a-icon-alt\">3.0 out of 5 stars</span></i><span class=\"a-letter-space\"></span>\n",
              " <span>SIX MONTH LATER USE REVIEW</span>\n",
              " </a>,\n",
              " <a class=\"a-size-base a-link-normal review-title a-color-base review-title-content a-text-bold\" data-hook=\"review-title\" href=\"/gp/customer-reviews/R2Q8LVRQQQYXH9?ASIN=B0BT9FDZ8N\"><i class=\"a-icon a-icon-star a-star-5 review-rating\" data-hook=\"review-star-rating\"><span class=\"a-icon-alt\">5.0 out of 5 stars</span></i><span class=\"a-letter-space\"></span>\n",
              " <span>Best in the market</span>\n",
              " </a>,\n",
              " <a class=\"a-size-base a-link-normal review-title a-color-base review-title-content a-text-bold\" data-hook=\"review-title\" href=\"/gp/customer-reviews/R3LSUCDY533X8K?ASIN=B0BT9FDZ8N\"><i class=\"a-icon a-icon-star a-star-4 review-rating\" data-hook=\"review-star-rating\"><span class=\"a-icon-alt\">4.0 out of 5 stars</span></i><span class=\"a-letter-space\"></span>\n",
              " <span>Good</span>\n",
              " </a>]"
            ]
          },
          "execution_count": 8,
          "metadata": {},
          "output_type": "execute_result"
        }
      ],
      "source": [
        "r_title=soup.find_all('a',class_='review-title')\n",
        "r_title"
      ]
    },
    {
      "cell_type": "code",
      "execution_count": 9,
      "metadata": {
        "colab": {
          "base_uri": "https://localhost:8080/"
        },
        "id": "MTqaXb7_aoXr",
        "outputId": "0c7d982d-0783-4d80-8b97-475a8d423c5c"
      },
      "outputs": [
        {
          "data": {
            "text/plain": [
              "10"
            ]
          },
          "execution_count": 9,
          "metadata": {},
          "output_type": "execute_result"
        }
      ],
      "source": [
        "len(r_title)"
      ]
    },
    {
      "cell_type": "code",
      "execution_count": 10,
      "metadata": {
        "colab": {
          "base_uri": "https://localhost:8080/"
        },
        "id": "tb6mg-zCa-4L",
        "outputId": "2de9f9d2-65e6-44a3-bd07-c67eb6f511cf"
      },
      "outputs": [
        {
          "data": {
            "text/plain": [
              "['The best smartphone money can buy!',\n",
              " 'This is the best Android has to offer',\n",
              " 'Excellent product',\n",
              " 'Best phone in 2023',\n",
              " 'Amazing phone but oversharpened images.',\n",
              " \"Moon Picture wasn't Hyped\",\n",
              " 'Good phone , compared for pixel 7 pro and apple 14 pro.',\n",
              " 'SIX MONTH LATER USE REVIEW',\n",
              " 'Best in the market',\n",
              " 'Good']"
            ]
          },
          "execution_count": 10,
          "metadata": {},
          "output_type": "execute_result"
        }
      ],
      "source": [
        "review_title=[]\n",
        "for i in range(0,len(r_title)):\n",
        " review_title.append(r_title[i].get_text().replace(\".0 out of 5 stars\",'')[2:-1]) #[2:-1] is done to remove the '\\n' at the begining and end of each review in html text\n",
        "review_title"
      ]
    },
    {
      "cell_type": "code",
      "execution_count": 11,
      "metadata": {
        "colab": {
          "base_uri": "https://localhost:8080/"
        },
        "id": "oaw55gvRcgkX",
        "outputId": "868daaff-f167-4b28-91a3-39c0ec3171a5"
      },
      "outputs": [
        {
          "data": {
            "text/plain": [
              "[<span class=\"a-size-base a-color-secondary review-date\" data-hook=\"review-date\">Reviewed in India on 7 May 2023</span>,\n",
              " <span class=\"a-size-base a-color-secondary review-date\" data-hook=\"review-date\">Reviewed in India on 2 December 2023</span>,\n",
              " <span class=\"a-size-base a-color-secondary review-date\" data-hook=\"review-date\">Reviewed in India on 10 May 2024</span>,\n",
              " <span class=\"a-size-base a-color-secondary review-date\" data-hook=\"review-date\">Reviewed in India on 20 July 2023</span>,\n",
              " <span class=\"a-size-base a-color-secondary review-date\" data-hook=\"review-date\">Reviewed in India on 7 November 2023</span>,\n",
              " <span class=\"a-size-base a-color-secondary review-date\" data-hook=\"review-date\">Reviewed in India on 22 February 2024</span>,\n",
              " <span class=\"a-size-base a-color-secondary review-date\" data-hook=\"review-date\">Reviewed in India on 7 May 2023</span>,\n",
              " <span class=\"a-size-base a-color-secondary review-date\" data-hook=\"review-date\">Reviewed in India on 3 February 2024</span>,\n",
              " <span class=\"a-size-base a-color-secondary review-date\" data-hook=\"review-date\">Reviewed in India on 3 January 2024</span>,\n",
              " <span class=\"a-size-base a-color-secondary review-date\" data-hook=\"review-date\">Reviewed in India on 30 November 2023</span>]"
            ]
          },
          "execution_count": 11,
          "metadata": {},
          "output_type": "execute_result"
        }
      ],
      "source": [
        "date=soup.find_all('span',class_='review-date')[2:]\n",
        "date"
      ]
    },
    {
      "cell_type": "code",
      "execution_count": 12,
      "metadata": {
        "colab": {
          "base_uri": "https://localhost:8080/"
        },
        "id": "AgmoEAM3csTV",
        "outputId": "3950a46b-8b3f-45d8-8dc9-44e36037ac70"
      },
      "outputs": [
        {
          "data": {
            "text/plain": [
              "['Reviewed in India on 7 May 2023',\n",
              " 'Reviewed in India on 2 December 2023',\n",
              " 'Reviewed in India on 10 May 2024',\n",
              " 'Reviewed in India on 20 July 2023',\n",
              " 'Reviewed in India on 7 November 2023',\n",
              " 'Reviewed in India on 22 February 2024',\n",
              " 'Reviewed in India on 7 May 2023',\n",
              " 'Reviewed in India on 3 February 2024',\n",
              " 'Reviewed in India on 3 January 2024',\n",
              " 'Reviewed in India on 30 November 2023']"
            ]
          },
          "execution_count": 12,
          "metadata": {},
          "output_type": "execute_result"
        }
      ],
      "source": [
        "review_date=[]\n",
        "for i in range(0,len(date)):\n",
        "  review_date.append(date[i].get_text().replace(\"Reviewed in India 🇮🇳 on \",''))\n",
        "review_date"
      ]
    },
    {
      "cell_type": "code",
      "execution_count": 13,
      "metadata": {
        "colab": {
          "base_uri": "https://localhost:8080/"
        },
        "id": "8TkgYnhqdIzN",
        "outputId": "41145724-75e9-4bc6-b38d-ea9f7f09e7e6"
      },
      "outputs": [
        {
          "data": {
            "text/plain": [
              "[<i class=\"a-icon a-icon-star a-star-5 review-rating\" data-hook=\"review-star-rating\"><span class=\"a-icon-alt\">5.0 out of 5 stars</span></i>,\n",
              " <i class=\"a-icon a-icon-star a-star-5 review-rating\" data-hook=\"review-star-rating\"><span class=\"a-icon-alt\">5.0 out of 5 stars</span></i>,\n",
              " <i class=\"a-icon a-icon-star a-star-5 review-rating\" data-hook=\"review-star-rating\"><span class=\"a-icon-alt\">5.0 out of 5 stars</span></i>,\n",
              " <i class=\"a-icon a-icon-star a-star-5 review-rating\" data-hook=\"review-star-rating\"><span class=\"a-icon-alt\">5.0 out of 5 stars</span></i>,\n",
              " <i class=\"a-icon a-icon-star a-star-4 review-rating\" data-hook=\"review-star-rating\"><span class=\"a-icon-alt\">4.0 out of 5 stars</span></i>,\n",
              " <i class=\"a-icon a-icon-star a-star-5 review-rating\" data-hook=\"review-star-rating\"><span class=\"a-icon-alt\">5.0 out of 5 stars</span></i>,\n",
              " <i class=\"a-icon a-icon-star a-star-5 review-rating\" data-hook=\"review-star-rating\"><span class=\"a-icon-alt\">5.0 out of 5 stars</span></i>,\n",
              " <i class=\"a-icon a-icon-star a-star-3 review-rating\" data-hook=\"review-star-rating\"><span class=\"a-icon-alt\">3.0 out of 5 stars</span></i>,\n",
              " <i class=\"a-icon a-icon-star a-star-5 review-rating\" data-hook=\"review-star-rating\"><span class=\"a-icon-alt\">5.0 out of 5 stars</span></i>,\n",
              " <i class=\"a-icon a-icon-star a-star-4 review-rating\" data-hook=\"review-star-rating\"><span class=\"a-icon-alt\">4.0 out of 5 stars</span></i>]"
            ]
          },
          "execution_count": 13,
          "metadata": {},
          "output_type": "execute_result"
        }
      ],
      "source": [
        "r_rating=soup.find_all('i',class_='review-rating')[2:]\n",
        "r_rating"
      ]
    },
    {
      "cell_type": "code",
      "execution_count": 14,
      "metadata": {
        "colab": {
          "base_uri": "https://localhost:8080/"
        },
        "id": "3m7PpzbsgF7H",
        "outputId": "4128124b-6895-41ab-bd11-b32de7e367b3"
      },
      "outputs": [
        {
          "data": {
            "text/plain": [
              "['5.0 out of 5 stars',\n",
              " '5.0 out of 5 stars',\n",
              " '5.0 out of 5 stars',\n",
              " '5.0 out of 5 stars',\n",
              " '4.0 out of 5 stars',\n",
              " '5.0 out of 5 stars',\n",
              " '5.0 out of 5 stars',\n",
              " '3.0 out of 5 stars',\n",
              " '5.0 out of 5 stars',\n",
              " '4.0 out of 5 stars']"
            ]
          },
          "execution_count": 14,
          "metadata": {},
          "output_type": "execute_result"
        }
      ],
      "source": [
        "review_rating=[]\n",
        "for i in range(0,len(r_rating)):\n",
        "  review_rating.append(r_rating[i].get_text())\n",
        "review_rating"
      ]
    },
    {
      "cell_type": "code",
      "execution_count": 15,
      "metadata": {
        "colab": {
          "base_uri": "https://localhost:8080/"
        },
        "id": "L_1bGnNRmgob",
        "outputId": "dc8c7f41-872a-4e4b-c67d-fb30564caca2"
      },
      "outputs": [
        {
          "data": {
            "text/plain": [
              "10"
            ]
          },
          "execution_count": 15,
          "metadata": {},
          "output_type": "execute_result"
        }
      ],
      "source": [
        "len(review_rating)"
      ]
    },
    {
      "cell_type": "code",
      "execution_count": 16,
      "metadata": {
        "colab": {
          "base_uri": "https://localhost:8080/"
        },
        "id": "NukkQo5Zgb5Y",
        "outputId": "74ac26a7-21e0-491d-e0ea-e7660e4ff1c2"
      },
      "outputs": [
        {
          "data": {
            "text/plain": [
              "[<span class=\"a-size-base review-text review-text-content\" data-hook=\"review-body\">\n",
              " <span>After using Samsung Galaxy S23 Ultra for quite a bit as a daily driver and coming back to Samsung after a long time after using other smaller form factor phones like ONEPLUS 9, here's what I think about this phone.<br/><br/>PROS:<br/><br/>- This phone has the best camera ever installed into a smartphone, hands-down! No other phone made in human history can ever come close to 1% of what Samsung Galaxy S23 Ultra's cameras can do.<br/><br/>- Performance is crazy! Not only it has Snapdragon 8Gen-2, but that too custom-made for Samsung Galaxy phones. You can play any games, run any apps and do whatever you'd want from a phone that is used at work, gaming, taking photos/videos and for personal use at the same time.<br/><br/>- Rectangular form factor of this phone makes it so much comfortable and easy to hold. And it looks very premium too, which obviously is expected from a phone that costs this much.<br/><br/>- OneUI has so many great features that they cannot be listed in one place. It brings a whole new meaning to \"smart\" in smartphones. Previously only Apple was making real smartphones that were actually smart and now with OneUI 5.1, Samsung has joined the league and probably done a better job than Apple at this point.<br/><br/>- Good Lock modules + OneUI 5.1 has such a tremendous level of customization in terms of many aspects of the usability. It doesn't have all of it, to which I'll come in \"CONS\" section.<br/><br/>- Charging time is good, reverse charging and wireless charging are such a sweet add-on that helps and makes the experience really good.<br/><br/>- S-Pen does the wonders! Very useful specially for those who use their phone for professional work like eSigning and other precision work.<br/><br/>- Build quality and software are really premium, you'll know you've sold a kidney when you hold this phone in your hands and turn up the max resolution on display.<br/><br/>- S23 Ultra is slightly more flat on sides as compared to S22 Ultra which makes it a more usable phone.<br/><br/>CONS:<br/><br/>- Now, since this phone has a curved display which adds no usability but makes it little difficult to use for people with smaller hands or to reach to corners with one hand, it becomes little hard to get used to this kind of display even if you've used a curved display phone with smaller form factor before because S23 Ultra is HUGE!<br/><br/>- Another issue with curved screen, since there's a decent curve in screen, finding a screen protector is really hard! Tempered glasses don't fit well, they get spaced by covers/cases, Samsung officially doesn't make tempered glass for S23 Ultra. Samsung sells a thin membrane sheet for ₹1,500/- which has a cutout for camera and collects dust. Having no screen protection means having your second kidney at risk too!<br/><br/>- No charger in the box (ugh) and the cable that comes with it is really flimsy. Doesn't look like it came with a flagship phone. ONEPLUS makes 10x better cables so better buy one from them.<br/><br/>- A phone this expensive should have all the necessary features right? But the OneUI 5.1 doesn't come with an app lock. Samsung Secure Folder is nice but not usable for a day-to-day use. Secure Folder is fine for hiding images and apps but not convenient for daily access. There's no Good Lock module to have app lock either.<br/><br/>- OneUI 5.1 (unlike many other UIs like OxygenOS 13 and ColorOS 13) doesn't give option to rename apps in app drawer. Ability to use 3rd party icon packs just came recently. And installing a 3rd party launcher kind of ruins the UI for recent apps screen.<br/><br/>- OneUI 5.1 requires installation of a 3rd party Good Lock module to even configure what icons will appear on your navigation bar.<br/><br/>- Overall this is a really good phone, best I'd say! But OneUI 5.1 lacks some basic features which should've been implemented.<br/><br/>- But other than these minor software issues and some hardware inconveniences, this phone is definitely a recommendation.</span>\n",
              " </span>,\n",
              " <span class=\"a-size-base review-text review-text-content\" data-hook=\"review-body\">\n",
              " <span>I'll keep it short and direct.<br/><br/>-Great in hand feel. The aluminium frame and glass back feel nice to hold.<br/>- Probably the best screen. QHD, Really bright, and high refresh rate.<br/>-Amazing battery life. I charge my phone to 85% and with a screen on time of about 6-7 hours get home with more than 40% left.<br/>-Great cameras. Not even gonna get deep into it.<br/>-The Spen is wonderful to use. Really helped improve my productivity.<br/>-One ui is probably my favourite Android skin and with Android 14 it's even better.<br/>-Samsung will provide updates for this phone for 5 years. That coupled with the fact that Samsung offers the cheapest repair options in India mean you don't really need to worry about getting a new one for the next 5 years.<br/>-And yes it takes calls and no network issues.<br/><br/>The only thing this phone doesn't do is make coffee .<br/>If it is in your budget, you would not get a better phone than this. That is until the next one comes out.</span>\n",
              " </span>,\n",
              " <span class=\"a-size-base review-text review-text-content\" data-hook=\"review-body\">\n",
              " <span>If you are Samsung fan.<br/> if you love the punchy photos<br/> if you love the camera<br/>if you are a blogger then definitely you should go for this phone.<br/>I was hesitant to buy this phone<br/>As some reviews were negative,<br/>but I can say that I have got very clean and original phone thanks Amazon and appearo retail.</span>\n",
              " </span>,\n",
              " <span class=\"a-size-base review-text review-text-content\" data-hook=\"review-body\">\n",
              " <span>This phone is very good allrounder with very beautiful display to watch Netflix YouTube etc, good battery backup and best phone camera ever with premium build quality by Samsung.Im generally an apple lover and I'm using apple only phones since iphone 6s upto my current iPhone 13 pro as my primary phone and I earlier I used to purchase Android phones  as my back up phones like one plus 9,Vivo x80 pro but none of them<br/> amazed me with their outstanding performance like samsung. Its a costly phone but well worth it and infact I will not buy any iphone again anytime soon and this phone will definitely replace my current iPhone as my primary phone.</span>\n",
              " </span>,\n",
              " <span class=\"a-size-base review-text review-text-content\" data-hook=\"review-body\">\n",
              " <span>First of all, this was my last smartphone purchase from Amazon as they are complete frauds. I was denied a replacement and return pick up was fraudulently cancelled multiple times over a period of 3 months. Avoid buying smartphones from online portals because the authenticity and customer support will always be doubtful. Coming to the phone, It’s a very good phone with excellent battery life and very little overheating issues that plagued the S22 ultra. However, the bane of buying a phone from Samsung is the over-processing and over-sharpening of images from the default camera. This continues to be an issue after several years and updates. One of the reasons why I can’t bring myself to recommend this phone to someone who is looking to take realistic and naturally detailed photos.</span>\n",
              " </span>,\n",
              " <span class=\"a-size-base review-text review-text-content\" data-hook=\"review-body\">\n",
              " <span>The phone is fine so far. The moon picture was satisfactory.</span>\n",
              " </span>,\n",
              " <span class=\"a-size-base review-text review-text-content\" data-hook=\"review-body\">\n",
              " <span>I was samsung follower sing samsung galaxy series,  bit last time purchased google pixel 7pro 256gb. And found that it was good phone but no call recorder,  and it's camera was best then I compared my pixel with S23ultra and found there was not that much difference yes pixel camera was a bit good but I am not that professional or like that but found that apart from camera everything else is best in samsung s23ultra ..Also there was in built \" Call recorder \" which I always needed and that was main point where pixel was lagging behind .... and also found samsung galaxy s23ultra way more fast and efficient than pixel also there was no heating issue like pixel in this samsung galaxy s23 ultra....also I was never apple fan and never found it worth compared samsung, used apple 14 ,apart from camera where there may be difference of 0.5% between samsung and apple camera apple is over hyped and not a value for money phone and also you can't run multiple apps in background in apple and no call recorder also there is no back button or symbol in apple it's random some times you swipe it sometime some app has cross symbol in any corner that you have to search....better go for samsung it's always value for money. This review is not paid I have used all three master phones apple 14 pro, pixel and now samsung s23ultra....found S23 ultra to be the winner.</span>\n",
              " </span>,\n",
              " <span class=\"a-size-base review-text review-text-content\" data-hook=\"review-body\">\n",
              " <span>Mobile is stuck some time . some time corner touch not working properly . some time online notification not get on time . speaker &amp; better quality is not sufficient in this budget. after software update wear application is not properly with Samsung watch.</span>\n",
              " </span>,\n",
              " <span class=\"a-size-base review-text review-text-content\" data-hook=\"review-body\">\n",
              " <span>Never been an apple fan. So in the android world this is the best, no doubts. Comparing the camera quality of Samsung s23 ultra and iPhone 14 pro max, s23 ultra is way better. My friends with iPhone 14 ultra always ask for my phone to click photos.</span>\n",
              " </span>,\n",
              " <span class=\"a-size-base review-text review-text-content\" data-hook=\"review-body\">\n",
              " <span>High price</span>\n",
              " </span>]"
            ]
          },
          "execution_count": 16,
          "metadata": {},
          "output_type": "execute_result"
        }
      ],
      "source": [
        "r_content=soup.find_all('span',class_='review-text-content')\n",
        "r_content"
      ]
    },
    {
      "cell_type": "code",
      "execution_count": 17,
      "metadata": {
        "colab": {
          "base_uri": "https://localhost:8080/"
        },
        "id": "sd-vRbvLhCnv",
        "outputId": "d3cf5762-3574-4e61-9f87-5a1e06f8fd65"
      },
      "outputs": [
        {
          "data": {
            "text/plain": [
              "['After using Samsung Galaxy S23 Ultra for quite a bit as a daily driver and coming back to Samsung after a long time after using other smaller form factor phones like ONEPLUS 9, here\\'s what I think about this phone.PROS:- This phone has the best camera ever installed into a smartphone, hands-down! No other phone made in human history can ever come close to 1% of what Samsung Galaxy S23 Ultra\\'s cameras can do.- Performance is crazy! Not only it has Snapdragon 8Gen-2, but that too custom-made for Samsung Galaxy phones. You can play any games, run any apps and do whatever you\\'d want from a phone that is used at work, gaming, taking photos/videos and for personal use at the same time.- Rectangular form factor of this phone makes it so much comfortable and easy to hold. And it looks very premium too, which obviously is expected from a phone that costs this much.- OneUI has so many great features that they cannot be listed in one place. It brings a whole new meaning to \"smart\" in smartphones. Previously only Apple was making real smartphones that were actually smart and now with OneUI 5.1, Samsung has joined the league and probably done a better job than Apple at this point.- Good Lock modules + OneUI 5.1 has such a tremendous level of customization in terms of many aspects of the usability. It doesn\\'t have all of it, to which I\\'ll come in \"CONS\" section.- Charging time is good, reverse charging and wireless charging are such a sweet add-on that helps and makes the experience really good.- S-Pen does the wonders! Very useful specially for those who use their phone for professional work like eSigning and other precision work.- Build quality and software are really premium, you\\'ll know you\\'ve sold a kidney when you hold this phone in your hands and turn up the max resolution on display.- S23 Ultra is slightly more flat on sides as compared to S22 Ultra which makes it a more usable phone.CONS:- Now, since this phone has a curved display which adds no usability but makes it little difficult to use for people with smaller hands or to reach to corners with one hand, it becomes little hard to get used to this kind of display even if you\\'ve used a curved display phone with smaller form factor before because S23 Ultra is HUGE!- Another issue with curved screen, since there\\'s a decent curve in screen, finding a screen protector is really hard! Tempered glasses don\\'t fit well, they get spaced by covers/cases, Samsung officially doesn\\'t make tempered glass for S23 Ultra. Samsung sells a thin membrane sheet for ₹1,500/- which has a cutout for camera and collects dust. Having no screen protection means having your second kidney at risk too!- No charger in the box (ugh) and the cable that comes with it is really flimsy. Doesn\\'t look like it came with a flagship phone. ONEPLUS makes 10x better cables so better buy one from them.- A phone this expensive should have all the necessary features right? But the OneUI 5.1 doesn\\'t come with an app lock. Samsung Secure Folder is nice but not usable for a day-to-day use. Secure Folder is fine for hiding images and apps but not convenient for daily access. There\\'s no Good Lock module to have app lock either.- OneUI 5.1 (unlike many other UIs like OxygenOS 13 and ColorOS 13) doesn\\'t give option to rename apps in app drawer. Ability to use 3rd party icon packs just came recently. And installing a 3rd party launcher kind of ruins the UI for recent apps screen.- OneUI 5.1 requires installation of a 3rd party Good Lock module to even configure what icons will appear on your navigation bar.- Overall this is a really good phone, best I\\'d say! But OneUI 5.1 lacks some basic features which should\\'ve been implemented.- But other than these minor software issues and some hardware inconveniences, this phone is definitely a recommendation.',\n",
              " \"I'll keep it short and direct.-Great in hand feel. The aluminium frame and glass back feel nice to hold.- Probably the best screen. QHD, Really bright, and high refresh rate.-Amazing battery life. I charge my phone to 85% and with a screen on time of about 6-7 hours get home with more than 40% left.-Great cameras. Not even gonna get deep into it.-The Spen is wonderful to use. Really helped improve my productivity.-One ui is probably my favourite Android skin and with Android 14 it's even better.-Samsung will provide updates for this phone for 5 years. That coupled with the fact that Samsung offers the cheapest repair options in India mean you don't really need to worry about getting a new one for the next 5 years.-And yes it takes calls and no network issues.The only thing this phone doesn't do is make coffee .If it is in your budget, you would not get a better phone than this. That is until the next one comes out.\",\n",
              " 'If you are Samsung fan. if you love the punchy photos if you love the cameraif you are a blogger then definitely you should go for this phone.I was hesitant to buy this phoneAs some reviews were negative,but I can say that I have got very clean and original phone thanks Amazon and appearo retail.',\n",
              " \"This phone is very good allrounder with very beautiful display to watch Netflix YouTube etc, good battery backup and best phone camera ever with premium build quality by Samsung.Im generally an apple lover and I'm using apple only phones since iphone 6s upto my current iPhone 13 pro as my primary phone and I earlier I used to purchase Android phones  as my back up phones like one plus 9,Vivo x80 pro but none of them amazed me with their outstanding performance like samsung. Its a costly phone but well worth it and infact I will not buy any iphone again anytime soon and this phone will definitely replace my current iPhone as my primary phone.\",\n",
              " 'First of all, this was my last smartphone purchase from Amazon as they are complete frauds. I was denied a replacement and return pick up was fraudulently cancelled multiple times over a period of 3 months. Avoid buying smartphones from online portals because the authenticity and customer support will always be doubtful. Coming to the phone, It’s a very good phone with excellent battery life and very little overheating issues that plagued the S22 ultra. However, the bane of buying a phone from Samsung is the over-processing and over-sharpening of images from the default camera. This continues to be an issue after several years and updates. One of the reasons why I can’t bring myself to recommend this phone to someone who is looking to take realistic and naturally detailed photos.',\n",
              " 'The phone is fine so far. The moon picture was satisfactory.',\n",
              " 'I was samsung follower sing samsung galaxy series,  bit last time purchased google pixel 7pro 256gb. And found that it was good phone but no call recorder,  and it\\'s camera was best then I compared my pixel with S23ultra and found there was not that much difference yes pixel camera was a bit good but I am not that professional or like that but found that apart from camera everything else is best in samsung s23ultra ..Also there was in built \" Call recorder \" which I always needed and that was main point where pixel was lagging behind .... and also found samsung galaxy s23ultra way more fast and efficient than pixel also there was no heating issue like pixel in this samsung galaxy s23 ultra....also I was never apple fan and never found it worth compared samsung, used apple 14 ,apart from camera where there may be difference of 0.5% between samsung and apple camera apple is over hyped and not a value for money phone and also you can\\'t run multiple apps in background in apple and no call recorder also there is no back button or symbol in apple it\\'s random some times you swipe it sometime some app has cross symbol in any corner that you have to search....better go for samsung it\\'s always value for money. This review is not paid I have used all three master phones apple 14 pro, pixel and now samsung s23ultra....found S23 ultra to be the winner.',\n",
              " 'Mobile is stuck some time . some time corner touch not working properly . some time online notification not get on time . speaker & better quality is not sufficient in this budget. after software update wear application is not properly with Samsung watch.',\n",
              " 'Never been an apple fan. So in the android world this is the best, no doubts. Comparing the camera quality of Samsung s23 ultra and iPhone 14 pro max, s23 ultra is way better. My friends with iPhone 14 ultra always ask for my phone to click photos.',\n",
              " 'High price']"
            ]
          },
          "execution_count": 17,
          "metadata": {},
          "output_type": "execute_result"
        }
      ],
      "source": [
        "review_content=[]\n",
        "for i in range(0,len(r_content)):\n",
        "  review_content.append(r_content[i].get_text().replace('\\n',''))\n",
        "review_content"
      ]
    },
    {
      "cell_type": "code",
      "execution_count": 18,
      "metadata": {
        "colab": {
          "base_uri": "https://localhost:8080/"
        },
        "id": "vRL8qbaambzv",
        "outputId": "42d4f4ca-f6da-4c96-a31b-3986bb53407f"
      },
      "outputs": [
        {
          "data": {
            "text/plain": [
              "10"
            ]
          },
          "execution_count": 18,
          "metadata": {},
          "output_type": "execute_result"
        }
      ],
      "source": [
        "len(review_content)"
      ]
    },
    {
      "cell_type": "code",
      "execution_count": 19,
      "metadata": {
        "colab": {
          "base_uri": "https://localhost:8080/"
        },
        "id": "wzkXN-3EhQnr",
        "outputId": "56c0d7bf-b1cf-4417-e276-aea329b6e125"
      },
      "outputs": [
        {
          "name": "stderr",
          "output_type": "stream",
          "text": [
            "C:\\Users\\kavya\\AppData\\Local\\Temp\\ipykernel_6164\\723966687.py:1: SettingWithCopyWarning: \n",
            "A value is trying to be set on a copy of a slice from a DataFrame.\n",
            "Try using .loc[row_indexer,col_indexer] = value instead\n",
            "\n",
            "See the caveats in the documentation: https://pandas.pydata.org/pandas-docs/stable/user_guide/indexing.html#returning-a-view-versus-a-copy\n",
            "  df['Review Title']=review_title\n",
            "C:\\Users\\kavya\\AppData\\Local\\Temp\\ipykernel_6164\\723966687.py:2: SettingWithCopyWarning: \n",
            "A value is trying to be set on a copy of a slice from a DataFrame.\n",
            "Try using .loc[row_indexer,col_indexer] = value instead\n",
            "\n",
            "See the caveats in the documentation: https://pandas.pydata.org/pandas-docs/stable/user_guide/indexing.html#returning-a-view-versus-a-copy\n",
            "  df['Review Date']= review_date\n",
            "C:\\Users\\kavya\\AppData\\Local\\Temp\\ipykernel_6164\\723966687.py:3: SettingWithCopyWarning: \n",
            "A value is trying to be set on a copy of a slice from a DataFrame.\n",
            "Try using .loc[row_indexer,col_indexer] = value instead\n",
            "\n",
            "See the caveats in the documentation: https://pandas.pydata.org/pandas-docs/stable/user_guide/indexing.html#returning-a-view-versus-a-copy\n",
            "  df['Review Rating']=review_rating\n",
            "C:\\Users\\kavya\\AppData\\Local\\Temp\\ipykernel_6164\\723966687.py:4: SettingWithCopyWarning: \n",
            "A value is trying to be set on a copy of a slice from a DataFrame.\n",
            "Try using .loc[row_indexer,col_indexer] = value instead\n",
            "\n",
            "See the caveats in the documentation: https://pandas.pydata.org/pandas-docs/stable/user_guide/indexing.html#returning-a-view-versus-a-copy\n",
            "  df['Review Content']=review_content\n"
          ]
        }
      ],
      "source": [
        "df['Review Title']=review_title\n",
        "df['Review Date']= review_date\n",
        "df['Review Rating']=review_rating\n",
        "df['Review Content']=review_content"
      ]
    },
    {
      "cell_type": "code",
      "execution_count": 20,
      "metadata": {
        "colab": {
          "base_uri": "https://localhost:8080/",
          "height": 362
        },
        "id": "RUEvpi6XnoHr",
        "outputId": "519abbf1-6bf6-4ef4-ef75-e94e055297d7"
      },
      "outputs": [
        {
          "data": {
            "text/html": [
              "<div>\n",
              "<style scoped>\n",
              "    .dataframe tbody tr th:only-of-type {\n",
              "        vertical-align: middle;\n",
              "    }\n",
              "\n",
              "    .dataframe tbody tr th {\n",
              "        vertical-align: top;\n",
              "    }\n",
              "\n",
              "    .dataframe thead th {\n",
              "        text-align: right;\n",
              "    }\n",
              "</style>\n",
              "<table border=\"1\" class=\"dataframe\">\n",
              "  <thead>\n",
              "    <tr style=\"text-align: right;\">\n",
              "      <th></th>\n",
              "      <th>Customer name</th>\n",
              "      <th>Review Title</th>\n",
              "      <th>Review Date</th>\n",
              "      <th>Review Rating</th>\n",
              "      <th>Review Content</th>\n",
              "    </tr>\n",
              "  </thead>\n",
              "  <tbody>\n",
              "    <tr>\n",
              "      <th>0</th>\n",
              "      <td>Aditya Sharma</td>\n",
              "      <td>The best smartphone money can buy!</td>\n",
              "      <td>Reviewed in India on 7 May 2023</td>\n",
              "      <td>5.0 out of 5 stars</td>\n",
              "      <td>After using Samsung Galaxy S23 Ultra for quite...</td>\n",
              "    </tr>\n",
              "    <tr>\n",
              "      <th>1</th>\n",
              "      <td>Sukoon Sharma</td>\n",
              "      <td>This is the best Android has to offer</td>\n",
              "      <td>Reviewed in India on 2 December 2023</td>\n",
              "      <td>5.0 out of 5 stars</td>\n",
              "      <td>I'll keep it short and direct.-Great in hand f...</td>\n",
              "    </tr>\n",
              "    <tr>\n",
              "      <th>2</th>\n",
              "      <td>GMSPun</td>\n",
              "      <td>Excellent product</td>\n",
              "      <td>Reviewed in India on 10 May 2024</td>\n",
              "      <td>5.0 out of 5 stars</td>\n",
              "      <td>If you are Samsung fan. if you love the punchy...</td>\n",
              "    </tr>\n",
              "    <tr>\n",
              "      <th>3</th>\n",
              "      <td>Farcry3413</td>\n",
              "      <td>Best phone in 2023</td>\n",
              "      <td>Reviewed in India on 20 July 2023</td>\n",
              "      <td>5.0 out of 5 stars</td>\n",
              "      <td>This phone is very good allrounder with very b...</td>\n",
              "    </tr>\n",
              "    <tr>\n",
              "      <th>4</th>\n",
              "      <td>Karmicfruits</td>\n",
              "      <td>Amazing phone but oversharpened images.</td>\n",
              "      <td>Reviewed in India on 7 November 2023</td>\n",
              "      <td>4.0 out of 5 stars</td>\n",
              "      <td>First of all, this was my last smartphone purc...</td>\n",
              "    </tr>\n",
              "    <tr>\n",
              "      <th>5</th>\n",
              "      <td>Sammy</td>\n",
              "      <td>Moon Picture wasn't Hyped</td>\n",
              "      <td>Reviewed in India on 22 February 2024</td>\n",
              "      <td>5.0 out of 5 stars</td>\n",
              "      <td>The phone is fine so far. The moon picture was...</td>\n",
              "    </tr>\n",
              "    <tr>\n",
              "      <th>6</th>\n",
              "      <td>pranay b bhoir</td>\n",
              "      <td>Good phone , compared for pixel 7 pro and appl...</td>\n",
              "      <td>Reviewed in India on 7 May 2023</td>\n",
              "      <td>5.0 out of 5 stars</td>\n",
              "      <td>I was samsung follower sing samsung galaxy ser...</td>\n",
              "    </tr>\n",
              "    <tr>\n",
              "      <th>7</th>\n",
              "      <td>amit</td>\n",
              "      <td>SIX MONTH LATER USE REVIEW</td>\n",
              "      <td>Reviewed in India on 3 February 2024</td>\n",
              "      <td>3.0 out of 5 stars</td>\n",
              "      <td>Mobile is stuck some time . some time corner t...</td>\n",
              "    </tr>\n",
              "    <tr>\n",
              "      <th>8</th>\n",
              "      <td>Bose</td>\n",
              "      <td>Best in the market</td>\n",
              "      <td>Reviewed in India on 3 January 2024</td>\n",
              "      <td>5.0 out of 5 stars</td>\n",
              "      <td>Never been an apple fan. So in the android wor...</td>\n",
              "    </tr>\n",
              "    <tr>\n",
              "      <th>9</th>\n",
              "      <td>Niteesh</td>\n",
              "      <td>Good</td>\n",
              "      <td>Reviewed in India on 30 November 2023</td>\n",
              "      <td>4.0 out of 5 stars</td>\n",
              "      <td>High price</td>\n",
              "    </tr>\n",
              "  </tbody>\n",
              "</table>\n",
              "</div>"
            ],
            "text/plain": [
              "    Customer name                                       Review Title  \\\n",
              "0   Aditya Sharma                 The best smartphone money can buy!   \n",
              "1   Sukoon Sharma              This is the best Android has to offer   \n",
              "2          GMSPun                                  Excellent product   \n",
              "3      Farcry3413                                 Best phone in 2023   \n",
              "4    Karmicfruits            Amazing phone but oversharpened images.   \n",
              "5           Sammy                          Moon Picture wasn't Hyped   \n",
              "6  pranay b bhoir  Good phone , compared for pixel 7 pro and appl...   \n",
              "7            amit                         SIX MONTH LATER USE REVIEW   \n",
              "8            Bose                                 Best in the market   \n",
              "9         Niteesh                                               Good   \n",
              "\n",
              "                             Review Date       Review Rating  \\\n",
              "0        Reviewed in India on 7 May 2023  5.0 out of 5 stars   \n",
              "1   Reviewed in India on 2 December 2023  5.0 out of 5 stars   \n",
              "2       Reviewed in India on 10 May 2024  5.0 out of 5 stars   \n",
              "3      Reviewed in India on 20 July 2023  5.0 out of 5 stars   \n",
              "4   Reviewed in India on 7 November 2023  4.0 out of 5 stars   \n",
              "5  Reviewed in India on 22 February 2024  5.0 out of 5 stars   \n",
              "6        Reviewed in India on 7 May 2023  5.0 out of 5 stars   \n",
              "7   Reviewed in India on 3 February 2024  3.0 out of 5 stars   \n",
              "8    Reviewed in India on 3 January 2024  5.0 out of 5 stars   \n",
              "9  Reviewed in India on 30 November 2023  4.0 out of 5 stars   \n",
              "\n",
              "                                      Review Content  \n",
              "0  After using Samsung Galaxy S23 Ultra for quite...  \n",
              "1  I'll keep it short and direct.-Great in hand f...  \n",
              "2  If you are Samsung fan. if you love the punchy...  \n",
              "3  This phone is very good allrounder with very b...  \n",
              "4  First of all, this was my last smartphone purc...  \n",
              "5  The phone is fine so far. The moon picture was...  \n",
              "6  I was samsung follower sing samsung galaxy ser...  \n",
              "7  Mobile is stuck some time . some time corner t...  \n",
              "8  Never been an apple fan. So in the android wor...  \n",
              "9                                         High price  "
            ]
          },
          "execution_count": 20,
          "metadata": {},
          "output_type": "execute_result"
        }
      ],
      "source": [
        "df"
      ]
    },
    {
      "cell_type": "code",
      "execution_count": 21,
      "metadata": {
        "id": "yuCaaOeBzwa-"
      },
      "outputs": [],
      "source": [
        "import csv\n",
        "df.to_csv('Amazon_reviews.csv',index=False)\n"
      ]
    },
    {
      "cell_type": "code",
      "execution_count": 23,
      "metadata": {
        "colab": {
          "base_uri": "https://localhost:8080/",
          "height": 362
        },
        "id": "piXQEIN_0EVm",
        "outputId": "b6fa560b-f4aa-4350-b854-67729ddb32db"
      },
      "outputs": [
        {
          "data": {
            "text/html": [
              "<div>\n",
              "<style scoped>\n",
              "    .dataframe tbody tr th:only-of-type {\n",
              "        vertical-align: middle;\n",
              "    }\n",
              "\n",
              "    .dataframe tbody tr th {\n",
              "        vertical-align: top;\n",
              "    }\n",
              "\n",
              "    .dataframe thead th {\n",
              "        text-align: right;\n",
              "    }\n",
              "</style>\n",
              "<table border=\"1\" class=\"dataframe\">\n",
              "  <thead>\n",
              "    <tr style=\"text-align: right;\">\n",
              "      <th></th>\n",
              "      <th>Customer name</th>\n",
              "      <th>Review Title</th>\n",
              "      <th>Review Date</th>\n",
              "      <th>Review Rating</th>\n",
              "      <th>Review Content</th>\n",
              "    </tr>\n",
              "  </thead>\n",
              "  <tbody>\n",
              "    <tr>\n",
              "      <th>0</th>\n",
              "      <td>Aditya Sharma</td>\n",
              "      <td>The best smartphone money can buy!</td>\n",
              "      <td>Reviewed in India on 7 May 2023</td>\n",
              "      <td>5.0 out of 5 stars</td>\n",
              "      <td>After using Samsung Galaxy S23 Ultra for quite...</td>\n",
              "    </tr>\n",
              "    <tr>\n",
              "      <th>1</th>\n",
              "      <td>Sukoon Sharma</td>\n",
              "      <td>This is the best Android has to offer</td>\n",
              "      <td>Reviewed in India on 2 December 2023</td>\n",
              "      <td>5.0 out of 5 stars</td>\n",
              "      <td>I'll keep it short and direct.-Great in hand f...</td>\n",
              "    </tr>\n",
              "    <tr>\n",
              "      <th>2</th>\n",
              "      <td>GMSPun</td>\n",
              "      <td>Excellent product</td>\n",
              "      <td>Reviewed in India on 10 May 2024</td>\n",
              "      <td>5.0 out of 5 stars</td>\n",
              "      <td>If you are Samsung fan. if you love the punchy...</td>\n",
              "    </tr>\n",
              "    <tr>\n",
              "      <th>3</th>\n",
              "      <td>Farcry3413</td>\n",
              "      <td>Best phone in 2023</td>\n",
              "      <td>Reviewed in India on 20 July 2023</td>\n",
              "      <td>5.0 out of 5 stars</td>\n",
              "      <td>This phone is very good allrounder with very b...</td>\n",
              "    </tr>\n",
              "    <tr>\n",
              "      <th>4</th>\n",
              "      <td>Karmicfruits</td>\n",
              "      <td>Amazing phone but oversharpened images.</td>\n",
              "      <td>Reviewed in India on 7 November 2023</td>\n",
              "      <td>4.0 out of 5 stars</td>\n",
              "      <td>First of all, this was my last smartphone purc...</td>\n",
              "    </tr>\n",
              "    <tr>\n",
              "      <th>5</th>\n",
              "      <td>Sammy</td>\n",
              "      <td>Moon Picture wasn't Hyped</td>\n",
              "      <td>Reviewed in India on 22 February 2024</td>\n",
              "      <td>5.0 out of 5 stars</td>\n",
              "      <td>The phone is fine so far. The moon picture was...</td>\n",
              "    </tr>\n",
              "    <tr>\n",
              "      <th>6</th>\n",
              "      <td>pranay b bhoir</td>\n",
              "      <td>Good phone , compared for pixel 7 pro and appl...</td>\n",
              "      <td>Reviewed in India on 7 May 2023</td>\n",
              "      <td>5.0 out of 5 stars</td>\n",
              "      <td>I was samsung follower sing samsung galaxy ser...</td>\n",
              "    </tr>\n",
              "    <tr>\n",
              "      <th>7</th>\n",
              "      <td>amit</td>\n",
              "      <td>SIX MONTH LATER USE REVIEW</td>\n",
              "      <td>Reviewed in India on 3 February 2024</td>\n",
              "      <td>3.0 out of 5 stars</td>\n",
              "      <td>Mobile is stuck some time . some time corner t...</td>\n",
              "    </tr>\n",
              "    <tr>\n",
              "      <th>8</th>\n",
              "      <td>Bose</td>\n",
              "      <td>Best in the market</td>\n",
              "      <td>Reviewed in India on 3 January 2024</td>\n",
              "      <td>5.0 out of 5 stars</td>\n",
              "      <td>Never been an apple fan. So in the android wor...</td>\n",
              "    </tr>\n",
              "    <tr>\n",
              "      <th>9</th>\n",
              "      <td>Niteesh</td>\n",
              "      <td>Good</td>\n",
              "      <td>Reviewed in India on 30 November 2023</td>\n",
              "      <td>4.0 out of 5 stars</td>\n",
              "      <td>High price</td>\n",
              "    </tr>\n",
              "  </tbody>\n",
              "</table>\n",
              "</div>"
            ],
            "text/plain": [
              "    Customer name                                       Review Title  \\\n",
              "0   Aditya Sharma                 The best smartphone money can buy!   \n",
              "1   Sukoon Sharma              This is the best Android has to offer   \n",
              "2          GMSPun                                  Excellent product   \n",
              "3      Farcry3413                                 Best phone in 2023   \n",
              "4    Karmicfruits            Amazing phone but oversharpened images.   \n",
              "5           Sammy                          Moon Picture wasn't Hyped   \n",
              "6  pranay b bhoir  Good phone , compared for pixel 7 pro and appl...   \n",
              "7            amit                         SIX MONTH LATER USE REVIEW   \n",
              "8            Bose                                 Best in the market   \n",
              "9         Niteesh                                               Good   \n",
              "\n",
              "                             Review Date       Review Rating  \\\n",
              "0        Reviewed in India on 7 May 2023  5.0 out of 5 stars   \n",
              "1   Reviewed in India on 2 December 2023  5.0 out of 5 stars   \n",
              "2       Reviewed in India on 10 May 2024  5.0 out of 5 stars   \n",
              "3      Reviewed in India on 20 July 2023  5.0 out of 5 stars   \n",
              "4   Reviewed in India on 7 November 2023  4.0 out of 5 stars   \n",
              "5  Reviewed in India on 22 February 2024  5.0 out of 5 stars   \n",
              "6        Reviewed in India on 7 May 2023  5.0 out of 5 stars   \n",
              "7   Reviewed in India on 3 February 2024  3.0 out of 5 stars   \n",
              "8    Reviewed in India on 3 January 2024  5.0 out of 5 stars   \n",
              "9  Reviewed in India on 30 November 2023  4.0 out of 5 stars   \n",
              "\n",
              "                                      Review Content  \n",
              "0  After using Samsung Galaxy S23 Ultra for quite...  \n",
              "1  I'll keep it short and direct.-Great in hand f...  \n",
              "2  If you are Samsung fan. if you love the punchy...  \n",
              "3  This phone is very good allrounder with very b...  \n",
              "4  First of all, this was my last smartphone purc...  \n",
              "5  The phone is fine so far. The moon picture was...  \n",
              "6  I was samsung follower sing samsung galaxy ser...  \n",
              "7  Mobile is stuck some time . some time corner t...  \n",
              "8  Never been an apple fan. So in the android wor...  \n",
              "9                                         High price  "
            ]
          },
          "execution_count": 23,
          "metadata": {},
          "output_type": "execute_result"
        }
      ],
      "source": [
        "import pandas as pd\n",
        "df1=pd.read_csv('Amazon_reviews.csv')\n",
        "df1"
      ]
    },
    {
      "cell_type": "code",
      "execution_count": 24,
      "metadata": {
        "colab": {
          "base_uri": "https://localhost:8080/"
        },
        "id": "rCqtRPBJ1VzQ",
        "outputId": "b60f40c8-95b5-46a2-a64a-6f953ecbc5dc"
      },
      "outputs": [
        {
          "data": {
            "text/plain": [
              "5.0 out of 5 stars    7\n",
              "4.0 out of 5 stars    2\n",
              "3.0 out of 5 stars    1\n",
              "Name: Review Rating, dtype: int64"
            ]
          },
          "execution_count": 24,
          "metadata": {},
          "output_type": "execute_result"
        }
      ],
      "source": [
        "import matplotlib.pyplot as plt\n",
        "rating_counts=df1['Review Rating'].value_counts()\n",
        "rating_counts\n"
      ]
    },
    {
      "cell_type": "code",
      "execution_count": 25,
      "metadata": {
        "colab": {
          "base_uri": "https://localhost:8080/",
          "height": 649
        },
        "id": "2hn7aDke7MG3",
        "outputId": "e5eb2fe8-ee45-4e48-f3f6-18c0a6d6e591"
      },
      "outputs": [
        {
          "data": {
            "image/png": "[encoded data removed]",
            "text/plain": [
              "<Figure size 600x600 with 1 Axes>"
            ]
          },
          "metadata": {},
          "output_type": "display_data"
        }
      ],
      "source": [
        "plt.figure(figsize=(6,6))\n",
        "rating_counts.plot(kind='bar')\n",
        "plt.title('Count of Review Rating of 10 sample')\n",
        "plt.show()"
      ]
    },
    {
      "cell_type": "code",
      "execution_count": 26,
      "metadata": {},
      "outputs": [
        {
          "name": "stderr",
          "output_type": "stream",
          "text": [
            "[nltk_data] Downloading package vader_lexicon to\n",
            "[nltk_data]     C:\\Users\\kavya\\AppData\\Roaming\\nltk_data...\n",
            "[nltk_data]   Package vader_lexicon is already up-to-date!\n"
          ]
        },
        {
          "data": {
            "text/plain": [
              "True"
            ]
          },
          "execution_count": 26,
          "metadata": {},
          "output_type": "execute_result"
        }
      ],
      "source": [
        "# Sentiment Analysis\n",
        "import nltk\n",
        "from nltk.sentiment import SentimentIntensityAnalyzer\n",
        "from transformers import AutoTokenizer, AutoModelForSequenceClassification\n",
        "from scipy.special import softmax\n",
        "from tqdm.notebook import tqdm\n",
        "\n",
        "nltk.download('vader_lexicon')"
      ]
    },
    {
      "cell_type": "code",
      "execution_count": 27,
      "metadata": {},
      "outputs": [],
      "source": [
        "# VADER Sentiment Analysis\n",
        "sia = SentimentIntensityAnalyzer()"
      ]
    },
    {
      "cell_type": "code",
      "execution_count": 28,
      "metadata": {},
      "outputs": [
        {
          "data": {
            "application/vnd.jupyter.widget-view+json": {
              "model_id": "a3ab5382504b44fcbbf216a43dbacc02",
              "version_major": 2,
              "version_minor": 0
            },
            "text/plain": [
              "  0%|          | 0/10 [00:00<?, ?it/s]"
            ]
          },
          "metadata": {},
          "output_type": "display_data"
        }
      ],
      "source": [
        "# Apply VADER to the reviews\n",
        "vader_results = []\n",
        "for review in tqdm(df1['Review Content']):\n",
        "    vader_results.append(sia.polarity_scores(review))"
      ]
    },
    {
      "cell_type": "code",
      "execution_count": 29,
      "metadata": {},
      "outputs": [],
      "source": [
        "vader_df = pd.DataFrame(vader_results)\n",
        "df1 = pd.concat([df1, vader_df], axis=1)"
      ]
    },
    {
      "cell_type": "code",
      "execution_count": 30,
      "metadata": {},
      "outputs": [],
      "source": [
        "# Calculate VADER polarization\n",
        "df1['vader_polarization'] = df1['pos'] - df1['neg']"
      ]
    },
    {
      "cell_type": "code",
      "execution_count": 31,
      "metadata": {},
      "outputs": [],
      "source": [
        "# RoBERTa Sentiment Analysis\n",
        "MODEL = \"cardiffnlp/twitter-roberta-base-sentiment\"\n",
        "tokenizer = AutoTokenizer.from_pretrained(MODEL)\n",
        "model = AutoModelForSequenceClassification.from_pretrained(MODEL)"
      ]
    },
    {
      "cell_type": "code",
      "execution_count": 32,
      "metadata": {},
      "outputs": [],
      "source": [
        "def polarity_scores_roberta(example):\n",
        "    encoded_text = tokenizer(example, return_tensors='pt')\n",
        "    output = model(**encoded_text)\n",
        "    scores = output[0][0].detach().numpy()\n",
        "    scores = softmax(scores)\n",
        "    return {\n",
        "        'roberta_neg': scores[0],\n",
        "        'roberta_neu': scores[1],\n",
        "        'roberta_pos': scores[2]\n",
        "    }"
      ]
    },
    {
      "cell_type": "code",
      "execution_count": 36,
      "metadata": {},
      "outputs": [],
      "source": [
        "# Save combined data to CSV\n",
        "df1.to_csv('Amazon_reviews_with_sentiment.csv', index=False)"
      ]
    },
    {
      "cell_type": "code",
      "execution_count": 37,
      "metadata": {},
      "outputs": [
        {
          "data": {
            "image/png": "[encoded data removed]",
            "text/plain": [
              "<Figure size 1600x300 with 4 Axes>"
            ]
          },
          "metadata": {},
          "output_type": "display_data"
        }
      ],
      "source": [
        "# Visualize the results\n",
        "import seaborn as sns\n",
        "\n",
        "# Plot VADER results\n",
        "fig, axs = plt.subplots(1, 4, figsize=(16, 3))\n",
        "sns.barplot(data=df1, x='Review Rating', y='pos', ax=axs[0])\n",
        "sns.barplot(data=df1, x='Review Rating', y='neu', ax=axs[1])\n",
        "sns.barplot(data=df1, x='Review Rating', y='neg', ax=axs[2])\n",
        "sns.barplot(data=df1, x='Review Rating', y='vader_polarization', ax=axs[3])\n",
        "axs[0].set_title('Positive')\n",
        "axs[1].set_title('Neutral')\n",
        "axs[2].set_title('Negative')\n",
        "axs[3].set_title('Polarization')\n",
        "plt.tight_layout()\n",
        "plt.show()"
      ]
    }
  ],
  "metadata": {
    "colab": {
      "authorship_tag": "ABX9TyOGzXdWp9cU14jNMIXdtaPZ",
      "include_colab_link": true,
      "provenance": []
    },
    "kernelspec": {
      "display_name": "Python 3 (ipykernel)",
      "language": "python",
      "name": "python3"
    },
    "language_info": {
      "codemirror_mode": {
        "name": "ipython",
        "version": 3
      },
      "file_extension": ".py",
      "mimetype": "text/x-python",
      "name": "python",
      "nbconvert_exporter": "python",
      "pygments_lexer": "ipython3",
      "version": "3.9.13"
    }
  },
  "nbformat": 4,
  "nbformat_minor": 0
}
